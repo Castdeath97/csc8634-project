{
 "cells": [
  {
   "cell_type": "markdown",
   "metadata": {
    "toc": true
   },
   "source": [
    "<h1>Table of Contents<span class=\"tocSkip\"></span></h1>\n",
    "<div class=\"toc\"><ul class=\"toc-item\"></ul></div>"
   ]
  },
  {
   "cell_type": "code",
   "execution_count": 15,
   "metadata": {},
   "outputs": [],
   "source": [
    "import pandas as pd\n",
    "import numpy as np\n",
    "from datetime import datetime\n",
    "\n",
    "BASE_RAW_DATA_DIR = '../data/raw'\n",
    "\n",
    "GPU_CSV_FILE = BASE_RAW_DATA_DIR + '/gpu.csv'\n",
    "\"\"\"\n",
    "str: gpu.csv file location \n",
    "\"\"\"\n",
    "\n",
    "CHECK_CSV_FILE = BASE_RAW_DATA_DIR +  '/application-checkpoints.csv'\n",
    "\"\"\"\n",
    "str: application-checkpoints.csv filename file location \n",
    "\"\"\"\n",
    "\n",
    "TASK_CSV_FILE = BASE_RAW_DATA_DIR + '/task-x-y.csv'\n",
    "\"\"\"\n",
    "str: task-x-y.csv file location \n",
    "\"\"\"\n",
    "\n",
    "TIMESTAMP_FORMAT = '%Y-%m-%dT%H:%M:%S.%fZ'\n",
    "\"\"\"\n",
    "str: string used to format timestamp for datetime conversion\n",
    "\"\"\"\n",
    "\n",
    "def timestamp_conv(df):\n",
    "    \"\"\" Converts a timestamp to datetime\n",
    "    ----------\n",
    "    df\n",
    "        dataframe to convert to datetime\n",
    "    -------\n",
    "    float\n",
    "         converted timestamp\n",
    "    \"\"\"\n",
    "    df = df.apply(lambda x: datetime.strptime(x, TIMESTAMP_FORMAT))\n",
    "    return(df)\n",
    "\n",
    "def clean_gpu(gpu_df):\n",
    "    \"\"\"Clean gpu dataframe by dropping uneeded serial number and\n",
    "    fixes timestamp format to datetime\n",
    "\n",
    "    Parameters\n",
    "    ----------\n",
    "    gpu_df\n",
    "        gpu dataframe to clean\n",
    "\n",
    "    Returns\n",
    "    -------\n",
    "    pandas.core.frame.DataFrame\n",
    "        Cleaned GPU dataframe\n",
    "\n",
    "    \"\"\"\n",
    "\n",
    "    # Drop uneeded serial column\n",
    "\n",
    "    gpu_df.drop(columns='gpuSerial', inplace=True)\n",
    "    gpu_df['timestamp'] = timestamp_conv(gpu_df['timestamp'])\n",
    "    \n",
    "    return(gpu_df)\n",
    "\n",
    "def merge_check_task(checkpoints_df, tasks_df):\n",
    "    \"\"\"merge (left join) checkpoints with task df through job and task id\n",
    "\n",
    "    Parameters\n",
    "    ----------\n",
    "    checkpoints_df\n",
    "        application checkpoints dataframe to merge\n",
    "\n",
    "    tasks_df\n",
    "        tasks dataframe to merge\n",
    "\n",
    "    Returns\n",
    "    -------\n",
    "    pandas.core.frame.DataFrame\n",
    "        Cleaned GPU dataframe\n",
    "\n",
    "    \"\"\"\n",
    "\n",
    "    # Use left join on taskId and jobId\n",
    "\n",
    "    check_task_df = checkpoints_df.merge(tasks_df,\n",
    "                                     on=['taskId', 'jobId'], how='left')\n",
    "    return (check_task_df)\n",
    "\n",
    "def clean_check_task(check_task_df):\n",
    "    \"\"\"Removes uneeded ids for merged application checkpoints and tasks df \n",
    "    and fixes timestamp format to datetime\n",
    "\n",
    "    Parameters\n",
    "    ----------\n",
    "    check_task_df\n",
    "         merged application checkpoints and tasks df to clean\n",
    "\n",
    "    Returns\n",
    "    -------\n",
    "    pandas.core.frame.DataFrame\n",
    "        Cleaned GPU dataframe\n",
    "\n",
    "    \"\"\"\n",
    "\n",
    "    # Drop uneeded ids\n",
    "\n",
    "    check_task_df.drop(columns= ['jobId', 'taskId'], inplace=True)\n",
    "    check_task_df['timestamp'] = timestamp_conv(check_task_df['timestamp'])\n",
    "\n",
    "    return(check_task_df)\n",
    "\n",
    "gpu_df = pd.read_csv(GPU_CSV_FILE)\n",
    "checkpoints_df = pd.read_csv(CHECK_CSV_FILE)\n",
    "tasks_df = pd.read_csv(TASK_CSV_FILE)\n",
    "\n",
    "gpu_df = clean_gpu(gpu_df)\n",
    "check_task_df = merge_check_task(checkpoints_df, tasks_df)\n",
    "check_task_df = clean_check_task(check_task_df)"
   ]
  },
  {
   "cell_type": "code",
   "execution_count": 17,
   "metadata": {},
   "outputs": [],
   "source": [
    "check_task_df_start = check_task_df[check_task_df['eventType'] == 'START'].copy()\n",
    "check_task_df_stop = check_task_df[check_task_df['eventType'] == 'STOP'].copy()\n",
    "\n",
    "check_task_df_start.rename(index=str, columns={\"timestamp\": \"start_time\"}, inplace = True)\n",
    "check_task_df_stop.rename(index=str, columns={\"timestamp\": \"stop_time\"}, inplace = True)\n",
    "\n",
    "check_task_df_stop.drop('eventType', axis = 1, inplace = True)\n",
    "check_task_df_start.drop('eventType', axis = 1, inplace = True)"
   ]
  },
  {
   "cell_type": "code",
   "execution_count": 18,
   "metadata": {},
   "outputs": [],
   "source": [
    "check_task_flat_df = pd.merge(\n",
    "    check_task_df_start, check_task_df_stop,\n",
    "    on=['hostname', 'eventName', 'x', 'y', 'level'])"
   ]
  },
  {
   "cell_type": "code",
   "execution_count": 30,
   "metadata": {},
   "outputs": [
    {
     "name": "stdout",
     "output_type": "stream",
     "text": [
      "  start_date   end_date           event_date price\n",
      "0 2017-03-27 2017-04-20                           \n",
      "1 2017-01-10 2017-02-01  2017-01-20 00:00:00   100\n",
      "2 2017-01-10 2017-02-01  2017-01-27 00:00:00   200\n"
     ]
    }
   ],
   "source": [
    "df_A = pd.DataFrame({'start_date':['2017-03-27','2017-01-10'],'end_date':['2017-04-20','2017-02-01']})\n",
    "df_B = pd.DataFrame({'event_date':['2017-01-20','2017-01-27'],'price':[100,200]})\n",
    "\n",
    "df_A['end_date'] = pd.to_datetime(df_A.end_date)\n",
    "df_A['start_date'] = pd.to_datetime(df_A.start_date)\n",
    "df_B['event_date'] = pd.to_datetime(df_B.event_date)\n",
    "\n",
    "df_A = df_A.assign(key=1)\n",
    "df_B = df_B.assign(key=1)\n",
    "df_merge = pd.merge(df_A, df_B, on='key').drop('key',axis=1)\n",
    "\n",
    "df_merge = df_merge.query('event_date >= start_date and event_date <= end_date')\n",
    "\n",
    "df_out = df_A.merge(df_merge, on=['start_date','end_date'], how='left').fillna('').drop('key', axis=1)\n",
    "\n",
    "print(df_out)"
   ]
  },
  {
   "cell_type": "code",
   "execution_count": 19,
   "metadata": {},
   "outputs": [
    {
     "data": {
      "text/plain": [
       "17252"
      ]
     },
     "execution_count": 19,
     "metadata": {},
     "output_type": "execute_result"
    }
   ],
   "source": [
    "check_task_flat_df_r = check_task_flat_df[\n",
    "    (check_task_flat_df['start_time'] >= gpu_df['timestamp'][0]) \n",
    "    & (check_task_flat_df['stop_time'] <= gpu_df['timestamp'][len(gpu_df)-1])].copy()\n",
    "\n",
    "len(check_task_flat_df_r)"
   ]
  },
  {
   "cell_type": "code",
   "execution_count": 14,
   "metadata": {},
   "outputs": [
    {
     "ename": "KeyError",
     "evalue": "('datetime64[ns]', 'both')",
     "output_type": "error",
     "traceback": [
      "\u001b[1;31m---------------------------------------------------------------------------\u001b[0m",
      "\u001b[1;31mKeyError\u001b[0m                                  Traceback (most recent call last)",
      "\u001b[1;32m<ipython-input-14-c11c94587e91>\u001b[0m in \u001b[0;36m<module>\u001b[1;34m()\u001b[0m\n\u001b[0;32m      5\u001b[0m \u001b[1;33m\u001b[0m\u001b[0m\n\u001b[0;32m      6\u001b[0m gpu_df['eventName'] = gpu_df['timestamp'].apply(\n\u001b[1;32m----> 7\u001b[1;33m     lambda x : check_task_flat_df_r.iloc[\n\u001b[0m\u001b[0;32m      8\u001b[0m         check_task_flat_df_r.index.get_loc(x)]['eventName'])\n",
      "\u001b[1;32mC:\\ProgramData\\Anaconda3\\lib\\site-packages\\pandas\\core\\series.py\u001b[0m in \u001b[0;36mapply\u001b[1;34m(self, func, convert_dtype, args, **kwds)\u001b[0m\n\u001b[0;32m   3192\u001b[0m             \u001b[1;32melse\u001b[0m\u001b[1;33m:\u001b[0m\u001b[1;33m\u001b[0m\u001b[0m\n\u001b[0;32m   3193\u001b[0m                 \u001b[0mvalues\u001b[0m \u001b[1;33m=\u001b[0m \u001b[0mself\u001b[0m\u001b[1;33m.\u001b[0m\u001b[0mastype\u001b[0m\u001b[1;33m(\u001b[0m\u001b[0mobject\u001b[0m\u001b[1;33m)\u001b[0m\u001b[1;33m.\u001b[0m\u001b[0mvalues\u001b[0m\u001b[1;33m\u001b[0m\u001b[0m\n\u001b[1;32m-> 3194\u001b[1;33m                 \u001b[0mmapped\u001b[0m \u001b[1;33m=\u001b[0m \u001b[0mlib\u001b[0m\u001b[1;33m.\u001b[0m\u001b[0mmap_infer\u001b[0m\u001b[1;33m(\u001b[0m\u001b[0mvalues\u001b[0m\u001b[1;33m,\u001b[0m \u001b[0mf\u001b[0m\u001b[1;33m,\u001b[0m \u001b[0mconvert\u001b[0m\u001b[1;33m=\u001b[0m\u001b[0mconvert_dtype\u001b[0m\u001b[1;33m)\u001b[0m\u001b[1;33m\u001b[0m\u001b[0m\n\u001b[0m\u001b[0;32m   3195\u001b[0m \u001b[1;33m\u001b[0m\u001b[0m\n\u001b[0;32m   3196\u001b[0m         \u001b[1;32mif\u001b[0m \u001b[0mlen\u001b[0m\u001b[1;33m(\u001b[0m\u001b[0mmapped\u001b[0m\u001b[1;33m)\u001b[0m \u001b[1;32mand\u001b[0m \u001b[0misinstance\u001b[0m\u001b[1;33m(\u001b[0m\u001b[0mmapped\u001b[0m\u001b[1;33m[\u001b[0m\u001b[1;36m0\u001b[0m\u001b[1;33m]\u001b[0m\u001b[1;33m,\u001b[0m \u001b[0mSeries\u001b[0m\u001b[1;33m)\u001b[0m\u001b[1;33m:\u001b[0m\u001b[1;33m\u001b[0m\u001b[0m\n",
      "\u001b[1;32mpandas/_libs/src\\inference.pyx\u001b[0m in \u001b[0;36mpandas._libs.lib.map_infer\u001b[1;34m()\u001b[0m\n",
      "\u001b[1;32m<ipython-input-14-c11c94587e91>\u001b[0m in \u001b[0;36m<lambda>\u001b[1;34m(x)\u001b[0m\n\u001b[0;32m      6\u001b[0m gpu_df['eventName'] = gpu_df['timestamp'].apply(\n\u001b[0;32m      7\u001b[0m     lambda x : check_task_flat_df_r.iloc[\n\u001b[1;32m----> 8\u001b[1;33m         check_task_flat_df_r.index.get_loc(x)]['eventName'])\n\u001b[0m",
      "\u001b[1;32mC:\\ProgramData\\Anaconda3\\lib\\site-packages\\pandas\\core\\indexes\\interval.py\u001b[0m in \u001b[0;36mget_loc\u001b[1;34m(self, key, method)\u001b[0m\n\u001b[0;32m   1065\u001b[0m                 \u001b[1;32mreturn\u001b[0m \u001b[0mself\u001b[0m\u001b[1;33m.\u001b[0m\u001b[0m_engine\u001b[0m\u001b[1;33m.\u001b[0m\u001b[0mget_loc_interval\u001b[0m\u001b[1;33m(\u001b[0m\u001b[0mleft\u001b[0m\u001b[1;33m,\u001b[0m \u001b[0mright\u001b[0m\u001b[1;33m)\u001b[0m\u001b[1;33m\u001b[0m\u001b[0m\n\u001b[0;32m   1066\u001b[0m             \u001b[1;32melse\u001b[0m\u001b[1;33m:\u001b[0m\u001b[1;33m\u001b[0m\u001b[0m\n\u001b[1;32m-> 1067\u001b[1;33m                 \u001b[1;32mreturn\u001b[0m \u001b[0mself\u001b[0m\u001b[1;33m.\u001b[0m\u001b[0m_engine\u001b[0m\u001b[1;33m.\u001b[0m\u001b[0mget_loc\u001b[0m\u001b[1;33m(\u001b[0m\u001b[0mkey\u001b[0m\u001b[1;33m)\u001b[0m\u001b[1;33m\u001b[0m\u001b[0m\n\u001b[0m\u001b[0;32m   1068\u001b[0m \u001b[1;33m\u001b[0m\u001b[0m\n\u001b[0;32m   1069\u001b[0m     \u001b[1;32mdef\u001b[0m \u001b[0mget_value\u001b[0m\u001b[1;33m(\u001b[0m\u001b[0mself\u001b[0m\u001b[1;33m,\u001b[0m \u001b[0mseries\u001b[0m\u001b[1;33m,\u001b[0m \u001b[0mkey\u001b[0m\u001b[1;33m)\u001b[0m\u001b[1;33m:\u001b[0m\u001b[1;33m\u001b[0m\u001b[0m\n",
      "\u001b[1;32mpandas\\_libs\\properties.pyx\u001b[0m in \u001b[0;36mpandas._libs.properties.CachedProperty.__get__\u001b[1;34m()\u001b[0m\n",
      "\u001b[1;32mC:\\ProgramData\\Anaconda3\\lib\\site-packages\\pandas\\core\\indexes\\interval.py\u001b[0m in \u001b[0;36m_engine\u001b[1;34m(self)\u001b[0m\n\u001b[0;32m    370\u001b[0m     \u001b[1;33m@\u001b[0m\u001b[0mcache_readonly\u001b[0m\u001b[1;33m\u001b[0m\u001b[0m\n\u001b[0;32m    371\u001b[0m     \u001b[1;32mdef\u001b[0m \u001b[0m_engine\u001b[0m\u001b[1;33m(\u001b[0m\u001b[0mself\u001b[0m\u001b[1;33m)\u001b[0m\u001b[1;33m:\u001b[0m\u001b[1;33m\u001b[0m\u001b[0m\n\u001b[1;32m--> 372\u001b[1;33m         \u001b[1;32mreturn\u001b[0m \u001b[0mIntervalTree\u001b[0m\u001b[1;33m(\u001b[0m\u001b[0mself\u001b[0m\u001b[1;33m.\u001b[0m\u001b[0mleft\u001b[0m\u001b[1;33m,\u001b[0m \u001b[0mself\u001b[0m\u001b[1;33m.\u001b[0m\u001b[0mright\u001b[0m\u001b[1;33m,\u001b[0m \u001b[0mclosed\u001b[0m\u001b[1;33m=\u001b[0m\u001b[0mself\u001b[0m\u001b[1;33m.\u001b[0m\u001b[0mclosed\u001b[0m\u001b[1;33m)\u001b[0m\u001b[1;33m\u001b[0m\u001b[0m\n\u001b[0m\u001b[0;32m    373\u001b[0m \u001b[1;33m\u001b[0m\u001b[0m\n\u001b[0;32m    374\u001b[0m     \u001b[1;33m@\u001b[0m\u001b[0mproperty\u001b[0m\u001b[1;33m\u001b[0m\u001b[0m\n",
      "\u001b[1;32mpandas\\_libs\\intervaltree.pxi\u001b[0m in \u001b[0;36mpandas._libs.interval.IntervalTree.__init__\u001b[1;34m()\u001b[0m\n",
      "\u001b[1;31mKeyError\u001b[0m: ('datetime64[ns]', 'both')"
     ]
    }
   ],
   "source": [
    "check_task_flat_df_r.index = pd.IntervalIndex.from_arrays(\n",
    "    check_task_flat_df_r['start_time'],\n",
    "    check_task_flat_df_r['stop_time'], \n",
    "    closed='both')\n",
    "\n",
    "gpu_df['eventName'] = gpu_df['timestamp'].apply(\n",
    "    lambda x : check_task_flat_df_r.iloc[\n",
    "        check_task_flat_df_r.index.get_loc(x)]['eventName'])"
   ]
  },
  {
   "cell_type": "code",
   "execution_count": 25,
   "metadata": {},
   "outputs": [],
   "source": [
    "import pandasql as ps\n",
    "import sqlite3\n",
    "\n",
    "# connection to sql\n",
    "conn = sqlite3.connect(':memory:')\n",
    "\n",
    "# move dataframes to sql\n",
    "check_task_flat_df_r.to_sql('CheckTask', conn, index=False)\n",
    "gpu_df.to_sql('Gpu', conn, index=False)\n",
    "\n",
    "# SQL query\n",
    "query = '''\n",
    "SELECT *\n",
    "FROM Gpu\n",
    "LEFT JOIN CheckTask ON gpu.hostname = CheckTask.hostname\n",
    "WHERE gpu.timestamp >= CheckTask.start_time AND gpu.timestamp <= CheckTask.stop_time\n",
    "'''\n",
    "\n",
    "newdf = pd.read_sql_query(query, conn)"
   ]
  },
  {
   "cell_type": "code",
   "execution_count": 28,
   "metadata": {},
   "outputs": [
    {
     "data": {
      "text/html": [
       "<div>\n",
       "<style scoped>\n",
       "    .dataframe tbody tr th:only-of-type {\n",
       "        vertical-align: middle;\n",
       "    }\n",
       "\n",
       "    .dataframe tbody tr th {\n",
       "        vertical-align: top;\n",
       "    }\n",
       "\n",
       "    .dataframe thead th {\n",
       "        text-align: right;\n",
       "    }\n",
       "</style>\n",
       "<table border=\"1\" class=\"dataframe\">\n",
       "  <thead>\n",
       "    <tr style=\"text-align: right;\">\n",
       "      <th></th>\n",
       "      <th>timestamp</th>\n",
       "      <th>hostname</th>\n",
       "      <th>gpuUUID</th>\n",
       "      <th>powerDrawWatt</th>\n",
       "      <th>gpuTempC</th>\n",
       "      <th>gpuUtilPerc</th>\n",
       "      <th>gpuMemUtilPerc</th>\n",
       "      <th>start_time</th>\n",
       "      <th>hostname</th>\n",
       "      <th>eventName</th>\n",
       "      <th>x</th>\n",
       "      <th>y</th>\n",
       "      <th>level</th>\n",
       "      <th>stop_time</th>\n",
       "    </tr>\n",
       "  </thead>\n",
       "  <tbody>\n",
       "    <tr>\n",
       "      <th>0</th>\n",
       "      <td>2018-11-08 08:27:11.089000</td>\n",
       "      <td>0d56a730076643d585f77e00d2d8521a00000Q</td>\n",
       "      <td>GPU-d84a1024-9381-c725-3b85-dd7143e64c35</td>\n",
       "      <td>27.18</td>\n",
       "      <td>35</td>\n",
       "      <td>0</td>\n",
       "      <td>0</td>\n",
       "      <td>2018-11-08 08:27:10.606000</td>\n",
       "      <td>0d56a730076643d585f77e00d2d8521a00000Q</td>\n",
       "      <td>TotalRender</td>\n",
       "      <td>156</td>\n",
       "      <td>186</td>\n",
       "      <td>12</td>\n",
       "      <td>2018-11-08 08:27:54.895000</td>\n",
       "    </tr>\n",
       "    <tr>\n",
       "      <th>1</th>\n",
       "      <td>2018-11-08 08:27:11.089000</td>\n",
       "      <td>0d56a730076643d585f77e00d2d8521a00000Q</td>\n",
       "      <td>GPU-d84a1024-9381-c725-3b85-dd7143e64c35</td>\n",
       "      <td>27.18</td>\n",
       "      <td>35</td>\n",
       "      <td>0</td>\n",
       "      <td>0</td>\n",
       "      <td>2018-11-08 08:27:10.608000</td>\n",
       "      <td>0d56a730076643d585f77e00d2d8521a00000Q</td>\n",
       "      <td>Render</td>\n",
       "      <td>156</td>\n",
       "      <td>186</td>\n",
       "      <td>12</td>\n",
       "      <td>2018-11-08 08:27:53.796000</td>\n",
       "    </tr>\n",
       "    <tr>\n",
       "      <th>2</th>\n",
       "      <td>2018-11-08 08:27:10.949000</td>\n",
       "      <td>83ea61ac1ef54f27a3bf7bd0f41ecaa700000J</td>\n",
       "      <td>GPU-8792a29c-529e-1837-1806-c669cd9b1960</td>\n",
       "      <td>42.44</td>\n",
       "      <td>41</td>\n",
       "      <td>0</td>\n",
       "      <td>0</td>\n",
       "      <td>2018-11-08 08:27:10.839000</td>\n",
       "      <td>83ea61ac1ef54f27a3bf7bd0f41ecaa700000J</td>\n",
       "      <td>Uploading</td>\n",
       "      <td>200</td>\n",
       "      <td>23</td>\n",
       "      <td>12</td>\n",
       "      <td>2018-11-08 08:27:11.893000</td>\n",
       "    </tr>\n",
       "    <tr>\n",
       "      <th>3</th>\n",
       "      <td>2018-11-08 08:27:10.949000</td>\n",
       "      <td>83ea61ac1ef54f27a3bf7bd0f41ecaa700000J</td>\n",
       "      <td>GPU-8792a29c-529e-1837-1806-c669cd9b1960</td>\n",
       "      <td>42.44</td>\n",
       "      <td>41</td>\n",
       "      <td>0</td>\n",
       "      <td>0</td>\n",
       "      <td>2018-11-08 08:27:10.846000</td>\n",
       "      <td>83ea61ac1ef54f27a3bf7bd0f41ecaa700000J</td>\n",
       "      <td>Tiling</td>\n",
       "      <td>200</td>\n",
       "      <td>23</td>\n",
       "      <td>12</td>\n",
       "      <td>2018-11-08 08:27:11.882000</td>\n",
       "    </tr>\n",
       "    <tr>\n",
       "      <th>4</th>\n",
       "      <td>2018-11-08 08:27:10.760000</td>\n",
       "      <td>b9a1fa7ae2f74eb68f25f607980f97d700000H</td>\n",
       "      <td>GPU-38bbf3b6-80fb-7e6f-6678-ee45035507ab</td>\n",
       "      <td>42.21</td>\n",
       "      <td>37</td>\n",
       "      <td>0</td>\n",
       "      <td>0</td>\n",
       "      <td>2018-11-08 08:27:10.612000</td>\n",
       "      <td>b9a1fa7ae2f74eb68f25f607980f97d700000H</td>\n",
       "      <td>TotalRender</td>\n",
       "      <td>160</td>\n",
       "      <td>14</td>\n",
       "      <td>12</td>\n",
       "      <td>2018-11-08 08:27:56.265000</td>\n",
       "    </tr>\n",
       "  </tbody>\n",
       "</table>\n",
       "</div>"
      ],
      "text/plain": [
       "                    timestamp                                hostname  \\\n",
       "0  2018-11-08 08:27:11.089000  0d56a730076643d585f77e00d2d8521a00000Q   \n",
       "1  2018-11-08 08:27:11.089000  0d56a730076643d585f77e00d2d8521a00000Q   \n",
       "2  2018-11-08 08:27:10.949000  83ea61ac1ef54f27a3bf7bd0f41ecaa700000J   \n",
       "3  2018-11-08 08:27:10.949000  83ea61ac1ef54f27a3bf7bd0f41ecaa700000J   \n",
       "4  2018-11-08 08:27:10.760000  b9a1fa7ae2f74eb68f25f607980f97d700000H   \n",
       "\n",
       "                                    gpuUUID  powerDrawWatt  gpuTempC  \\\n",
       "0  GPU-d84a1024-9381-c725-3b85-dd7143e64c35          27.18        35   \n",
       "1  GPU-d84a1024-9381-c725-3b85-dd7143e64c35          27.18        35   \n",
       "2  GPU-8792a29c-529e-1837-1806-c669cd9b1960          42.44        41   \n",
       "3  GPU-8792a29c-529e-1837-1806-c669cd9b1960          42.44        41   \n",
       "4  GPU-38bbf3b6-80fb-7e6f-6678-ee45035507ab          42.21        37   \n",
       "\n",
       "   gpuUtilPerc  gpuMemUtilPerc                  start_time  \\\n",
       "0            0               0  2018-11-08 08:27:10.606000   \n",
       "1            0               0  2018-11-08 08:27:10.608000   \n",
       "2            0               0  2018-11-08 08:27:10.839000   \n",
       "3            0               0  2018-11-08 08:27:10.846000   \n",
       "4            0               0  2018-11-08 08:27:10.612000   \n",
       "\n",
       "                                 hostname    eventName    x    y  level  \\\n",
       "0  0d56a730076643d585f77e00d2d8521a00000Q  TotalRender  156  186     12   \n",
       "1  0d56a730076643d585f77e00d2d8521a00000Q       Render  156  186     12   \n",
       "2  83ea61ac1ef54f27a3bf7bd0f41ecaa700000J    Uploading  200   23     12   \n",
       "3  83ea61ac1ef54f27a3bf7bd0f41ecaa700000J       Tiling  200   23     12   \n",
       "4  b9a1fa7ae2f74eb68f25f607980f97d700000H  TotalRender  160   14     12   \n",
       "\n",
       "                    stop_time  \n",
       "0  2018-11-08 08:27:54.895000  \n",
       "1  2018-11-08 08:27:53.796000  \n",
       "2  2018-11-08 08:27:11.893000  \n",
       "3  2018-11-08 08:27:11.882000  \n",
       "4  2018-11-08 08:27:56.265000  "
      ]
     },
     "execution_count": 28,
     "metadata": {},
     "output_type": "execute_result"
    }
   ],
   "source": [
    "newdf.head()"
   ]
  },
  {
   "cell_type": "code",
   "execution_count": 29,
   "metadata": {},
   "outputs": [
    {
     "ename": "MemoryError",
     "evalue": "",
     "output_type": "error",
     "traceback": [
      "\u001b[1;31m---------------------------------------------------------------------------\u001b[0m",
      "\u001b[1;31mMemoryError\u001b[0m                               Traceback (most recent call last)",
      "\u001b[1;32m<ipython-input-29-8f9f385791f1>\u001b[0m in \u001b[0;36m<module>\u001b[1;34m()\u001b[0m\n\u001b[0;32m      2\u001b[0m \u001b[0mgpu_df\u001b[0m\u001b[1;33m\u001b[0m\u001b[0m\n\u001b[0;32m      3\u001b[0m \u001b[1;33m\u001b[0m\u001b[0m\n\u001b[1;32m----> 4\u001b[1;33m \u001b[0mdf_merge\u001b[0m \u001b[1;33m=\u001b[0m \u001b[0mpd\u001b[0m\u001b[1;33m.\u001b[0m\u001b[0mmerge\u001b[0m\u001b[1;33m(\u001b[0m\u001b[0mcheck_task_flat_df_r\u001b[0m\u001b[1;33m,\u001b[0m \u001b[0mgpu_df\u001b[0m\u001b[1;33m,\u001b[0m \u001b[0mon\u001b[0m\u001b[1;33m=\u001b[0m\u001b[1;34m'hostname'\u001b[0m\u001b[1;33m)\u001b[0m\u001b[1;33m\u001b[0m\u001b[0m\n\u001b[0m\u001b[0;32m      5\u001b[0m \u001b[1;33m\u001b[0m\u001b[0m\n\u001b[0;32m      6\u001b[0m \u001b[0mdf_merge\u001b[0m \u001b[1;33m=\u001b[0m \u001b[0mdf_merge\u001b[0m\u001b[1;33m.\u001b[0m\u001b[0mquery\u001b[0m\u001b[1;33m(\u001b[0m\u001b[1;34m'timestamp >= start_time and timestamp <= stop_time'\u001b[0m\u001b[1;33m)\u001b[0m\u001b[1;33m\u001b[0m\u001b[0m\n",
      "\u001b[1;32mC:\\ProgramData\\Anaconda3\\lib\\site-packages\\pandas\\core\\reshape\\merge.py\u001b[0m in \u001b[0;36mmerge\u001b[1;34m(left, right, how, on, left_on, right_on, left_index, right_index, sort, suffixes, copy, indicator, validate)\u001b[0m\n\u001b[0;32m     60\u001b[0m                          \u001b[0mcopy\u001b[0m\u001b[1;33m=\u001b[0m\u001b[0mcopy\u001b[0m\u001b[1;33m,\u001b[0m \u001b[0mindicator\u001b[0m\u001b[1;33m=\u001b[0m\u001b[0mindicator\u001b[0m\u001b[1;33m,\u001b[0m\u001b[1;33m\u001b[0m\u001b[0m\n\u001b[0;32m     61\u001b[0m                          validate=validate)\n\u001b[1;32m---> 62\u001b[1;33m     \u001b[1;32mreturn\u001b[0m \u001b[0mop\u001b[0m\u001b[1;33m.\u001b[0m\u001b[0mget_result\u001b[0m\u001b[1;33m(\u001b[0m\u001b[1;33m)\u001b[0m\u001b[1;33m\u001b[0m\u001b[0m\n\u001b[0m\u001b[0;32m     63\u001b[0m \u001b[1;33m\u001b[0m\u001b[0m\n\u001b[0;32m     64\u001b[0m \u001b[1;33m\u001b[0m\u001b[0m\n",
      "\u001b[1;32mC:\\ProgramData\\Anaconda3\\lib\\site-packages\\pandas\\core\\reshape\\merge.py\u001b[0m in \u001b[0;36mget_result\u001b[1;34m(self)\u001b[0m\n\u001b[0;32m    580\u001b[0m             \u001b[1;33m[\u001b[0m\u001b[1;33m(\u001b[0m\u001b[0mldata\u001b[0m\u001b[1;33m,\u001b[0m \u001b[0mlindexers\u001b[0m\u001b[1;33m)\u001b[0m\u001b[1;33m,\u001b[0m \u001b[1;33m(\u001b[0m\u001b[0mrdata\u001b[0m\u001b[1;33m,\u001b[0m \u001b[0mrindexers\u001b[0m\u001b[1;33m)\u001b[0m\u001b[1;33m]\u001b[0m\u001b[1;33m,\u001b[0m\u001b[1;33m\u001b[0m\u001b[0m\n\u001b[0;32m    581\u001b[0m             \u001b[0maxes\u001b[0m\u001b[1;33m=\u001b[0m\u001b[1;33m[\u001b[0m\u001b[0mllabels\u001b[0m\u001b[1;33m.\u001b[0m\u001b[0mappend\u001b[0m\u001b[1;33m(\u001b[0m\u001b[0mrlabels\u001b[0m\u001b[1;33m)\u001b[0m\u001b[1;33m,\u001b[0m \u001b[0mjoin_index\u001b[0m\u001b[1;33m]\u001b[0m\u001b[1;33m,\u001b[0m\u001b[1;33m\u001b[0m\u001b[0m\n\u001b[1;32m--> 582\u001b[1;33m             concat_axis=0, copy=self.copy)\n\u001b[0m\u001b[0;32m    583\u001b[0m \u001b[1;33m\u001b[0m\u001b[0m\n\u001b[0;32m    584\u001b[0m         \u001b[0mtyp\u001b[0m \u001b[1;33m=\u001b[0m \u001b[0mself\u001b[0m\u001b[1;33m.\u001b[0m\u001b[0mleft\u001b[0m\u001b[1;33m.\u001b[0m\u001b[0m_constructor\u001b[0m\u001b[1;33m\u001b[0m\u001b[0m\n",
      "\u001b[1;32mC:\\ProgramData\\Anaconda3\\lib\\site-packages\\pandas\\core\\internals.py\u001b[0m in \u001b[0;36mconcatenate_block_managers\u001b[1;34m(mgrs_indexers, axes, concat_axis, copy)\u001b[0m\n\u001b[0;32m   5419\u001b[0m         \u001b[1;32melse\u001b[0m\u001b[1;33m:\u001b[0m\u001b[1;33m\u001b[0m\u001b[0m\n\u001b[0;32m   5420\u001b[0m             b = make_block(\n\u001b[1;32m-> 5421\u001b[1;33m                 \u001b[0mconcatenate_join_units\u001b[0m\u001b[1;33m(\u001b[0m\u001b[0mjoin_units\u001b[0m\u001b[1;33m,\u001b[0m \u001b[0mconcat_axis\u001b[0m\u001b[1;33m,\u001b[0m \u001b[0mcopy\u001b[0m\u001b[1;33m=\u001b[0m\u001b[0mcopy\u001b[0m\u001b[1;33m)\u001b[0m\u001b[1;33m,\u001b[0m\u001b[1;33m\u001b[0m\u001b[0m\n\u001b[0m\u001b[0;32m   5422\u001b[0m                 placement=placement)\n\u001b[0;32m   5423\u001b[0m         \u001b[0mblocks\u001b[0m\u001b[1;33m.\u001b[0m\u001b[0mappend\u001b[0m\u001b[1;33m(\u001b[0m\u001b[0mb\u001b[0m\u001b[1;33m)\u001b[0m\u001b[1;33m\u001b[0m\u001b[0m\n",
      "\u001b[1;32mC:\\ProgramData\\Anaconda3\\lib\\site-packages\\pandas\\core\\internals.py\u001b[0m in \u001b[0;36mconcatenate_join_units\u001b[1;34m(join_units, concat_axis, copy)\u001b[0m\n\u001b[0;32m   5563\u001b[0m     to_concat = [ju.get_reindexed_values(empty_dtype=empty_dtype,\n\u001b[0;32m   5564\u001b[0m                                          upcasted_na=upcasted_na)\n\u001b[1;32m-> 5565\u001b[1;33m                  for ju in join_units]\n\u001b[0m\u001b[0;32m   5566\u001b[0m \u001b[1;33m\u001b[0m\u001b[0m\n\u001b[0;32m   5567\u001b[0m     \u001b[1;32mif\u001b[0m \u001b[0mlen\u001b[0m\u001b[1;33m(\u001b[0m\u001b[0mto_concat\u001b[0m\u001b[1;33m)\u001b[0m \u001b[1;33m==\u001b[0m \u001b[1;36m1\u001b[0m\u001b[1;33m:\u001b[0m\u001b[1;33m\u001b[0m\u001b[0m\n",
      "\u001b[1;32mC:\\ProgramData\\Anaconda3\\lib\\site-packages\\pandas\\core\\internals.py\u001b[0m in \u001b[0;36m<listcomp>\u001b[1;34m(.0)\u001b[0m\n\u001b[0;32m   5563\u001b[0m     to_concat = [ju.get_reindexed_values(empty_dtype=empty_dtype,\n\u001b[0;32m   5564\u001b[0m                                          upcasted_na=upcasted_na)\n\u001b[1;32m-> 5565\u001b[1;33m                  for ju in join_units]\n\u001b[0m\u001b[0;32m   5566\u001b[0m \u001b[1;33m\u001b[0m\u001b[0m\n\u001b[0;32m   5567\u001b[0m     \u001b[1;32mif\u001b[0m \u001b[0mlen\u001b[0m\u001b[1;33m(\u001b[0m\u001b[0mto_concat\u001b[0m\u001b[1;33m)\u001b[0m \u001b[1;33m==\u001b[0m \u001b[1;36m1\u001b[0m\u001b[1;33m:\u001b[0m\u001b[1;33m\u001b[0m\u001b[0m\n",
      "\u001b[1;32mC:\\ProgramData\\Anaconda3\\lib\\site-packages\\pandas\\core\\internals.py\u001b[0m in \u001b[0;36mget_reindexed_values\u001b[1;34m(self, empty_dtype, upcasted_na)\u001b[0m\n\u001b[0;32m   5873\u001b[0m             \u001b[1;32mfor\u001b[0m \u001b[0max\u001b[0m\u001b[1;33m,\u001b[0m \u001b[0mindexer\u001b[0m \u001b[1;32min\u001b[0m \u001b[0mself\u001b[0m\u001b[1;33m.\u001b[0m\u001b[0mindexers\u001b[0m\u001b[1;33m.\u001b[0m\u001b[0mitems\u001b[0m\u001b[1;33m(\u001b[0m\u001b[1;33m)\u001b[0m\u001b[1;33m:\u001b[0m\u001b[1;33m\u001b[0m\u001b[0m\n\u001b[0;32m   5874\u001b[0m                 values = algos.take_nd(values, indexer, axis=ax,\n\u001b[1;32m-> 5875\u001b[1;33m                                        fill_value=fill_value)\n\u001b[0m\u001b[0;32m   5876\u001b[0m \u001b[1;33m\u001b[0m\u001b[0m\n\u001b[0;32m   5877\u001b[0m         \u001b[1;32mreturn\u001b[0m \u001b[0mvalues\u001b[0m\u001b[1;33m\u001b[0m\u001b[0m\n",
      "\u001b[1;32mC:\\ProgramData\\Anaconda3\\lib\\site-packages\\pandas\\core\\algorithms.py\u001b[0m in \u001b[0;36mtake_nd\u001b[1;34m(arr, indexer, axis, out, fill_value, mask_info, allow_fill)\u001b[0m\n\u001b[0;32m   1653\u001b[0m             \u001b[0mout\u001b[0m \u001b[1;33m=\u001b[0m \u001b[0mnp\u001b[0m\u001b[1;33m.\u001b[0m\u001b[0mempty\u001b[0m\u001b[1;33m(\u001b[0m\u001b[0mout_shape\u001b[0m\u001b[1;33m,\u001b[0m \u001b[0mdtype\u001b[0m\u001b[1;33m=\u001b[0m\u001b[0mdtype\u001b[0m\u001b[1;33m,\u001b[0m \u001b[0morder\u001b[0m\u001b[1;33m=\u001b[0m\u001b[1;34m'F'\u001b[0m\u001b[1;33m)\u001b[0m\u001b[1;33m\u001b[0m\u001b[0m\n\u001b[0;32m   1654\u001b[0m         \u001b[1;32melse\u001b[0m\u001b[1;33m:\u001b[0m\u001b[1;33m\u001b[0m\u001b[0m\n\u001b[1;32m-> 1655\u001b[1;33m             \u001b[0mout\u001b[0m \u001b[1;33m=\u001b[0m \u001b[0mnp\u001b[0m\u001b[1;33m.\u001b[0m\u001b[0mempty\u001b[0m\u001b[1;33m(\u001b[0m\u001b[0mout_shape\u001b[0m\u001b[1;33m,\u001b[0m \u001b[0mdtype\u001b[0m\u001b[1;33m=\u001b[0m\u001b[0mdtype\u001b[0m\u001b[1;33m)\u001b[0m\u001b[1;33m\u001b[0m\u001b[0m\n\u001b[0m\u001b[0;32m   1656\u001b[0m \u001b[1;33m\u001b[0m\u001b[0m\n\u001b[0;32m   1657\u001b[0m     func = _get_take_nd_function(arr.ndim, arr.dtype, out.dtype, axis=axis,\n",
      "\u001b[1;31mMemoryError\u001b[0m: "
     ]
    }
   ],
   "source": [
    "check_task_flat_df_r\n",
    "gpu_df\n",
    "\n",
    "df_merge = pd.merge(check_task_flat_df_r, gpu_df, on='hostname')\n",
    "\n",
    "df_merge = df_merge.query('timestamp >= start_time and timestamp <= stop_time')\n",
    "\n",
    "df_out = df_A.merge(df_merge, on=['start_date','end_date'], how='left').dropna()\n",
    "\n",
    "df_out.head()"
   ]
  },
  {
   "cell_type": "code",
   "execution_count": 75,
   "metadata": {},
   "outputs": [
    {
     "data": {
      "text/plain": [
       "660400"
      ]
     },
     "execution_count": 75,
     "metadata": {},
     "output_type": "execute_result"
    }
   ],
   "source": [
    "len(timestamp_df)"
   ]
  },
  {
   "cell_type": "code",
   "execution_count": 76,
   "metadata": {},
   "outputs": [],
   "source": [
    "# set keys as indexes for join \n",
    "    \n",
    "#gpu_df.set_index('timestamp', inplace=True)\n",
    "#check_task_df.set_index('timestamp', inplace=True)\n",
    "    \n",
    "# sort by index\n",
    "\n",
    "#gpu_df.sort_index(inplace=True)\n",
    "#check_task_df.sort_index(inplace=True)\n",
    "\n",
    "gpu_df.sort_values(by=['timestamp'], inplace=True)\n",
    "check_task_df.sort_values(by=['timestamp'], inplace=True)\n",
    "\n",
    "# Make timestamp df\n",
    "\n",
    "timestamp_df = check_task_df.copy()\n",
    "timestamp_df.drop(['hostname', 'eventName', 'eventType', 'x', 'y', 'level'], axis=1, inplace= True)\n",
    "\n",
    "timestamp_df = pd.merge_asof(timestamp_df,gpu_df,\n",
    "                       left_on = ['timestamp'], right_on = ['timestamp'],\n",
    "                       tolerance = pd.Timedelta('4ms'), direction = 'nearest')"
   ]
  },
  {
   "cell_type": "code",
   "execution_count": 77,
   "metadata": {},
   "outputs": [
    {
     "data": {
      "text/plain": [
       "660400"
      ]
     },
     "execution_count": 77,
     "metadata": {},
     "output_type": "execute_result"
    }
   ],
   "source": [
    "len(timestamp_df)"
   ]
  },
  {
   "cell_type": "code",
   "execution_count": 78,
   "metadata": {},
   "outputs": [
    {
     "data": {
      "text/html": [
       "<div>\n",
       "<style scoped>\n",
       "    .dataframe tbody tr th:only-of-type {\n",
       "        vertical-align: middle;\n",
       "    }\n",
       "\n",
       "    .dataframe tbody tr th {\n",
       "        vertical-align: top;\n",
       "    }\n",
       "\n",
       "    .dataframe thead th {\n",
       "        text-align: right;\n",
       "    }\n",
       "</style>\n",
       "<table border=\"1\" class=\"dataframe\">\n",
       "  <thead>\n",
       "    <tr style=\"text-align: right;\">\n",
       "      <th></th>\n",
       "      <th>timestamp</th>\n",
       "      <th>hostname</th>\n",
       "      <th>gpuUUID</th>\n",
       "      <th>powerDrawWatt</th>\n",
       "      <th>gpuTempC</th>\n",
       "      <th>gpuUtilPerc</th>\n",
       "      <th>gpuMemUtilPerc</th>\n",
       "    </tr>\n",
       "  </thead>\n",
       "  <tbody>\n",
       "    <tr>\n",
       "      <th>0</th>\n",
       "      <td>2018-11-08 07:41:30.957</td>\n",
       "      <td>e7adc42d28814e518e9601ac2329c51300000G</td>\n",
       "      <td>GPU-4a960fa3-73dd-9878-0ccc-b8ce6637c113</td>\n",
       "      <td>26.15</td>\n",
       "      <td>28.0</td>\n",
       "      <td>0.0</td>\n",
       "      <td>0.0</td>\n",
       "    </tr>\n",
       "    <tr>\n",
       "      <th>1</th>\n",
       "      <td>2018-11-08 07:41:30.957</td>\n",
       "      <td>e7adc42d28814e518e9601ac2329c51300000G</td>\n",
       "      <td>GPU-4a960fa3-73dd-9878-0ccc-b8ce6637c113</td>\n",
       "      <td>26.15</td>\n",
       "      <td>28.0</td>\n",
       "      <td>0.0</td>\n",
       "      <td>0.0</td>\n",
       "    </tr>\n",
       "    <tr>\n",
       "      <th>2</th>\n",
       "      <td>2018-11-08 07:41:30.960</td>\n",
       "      <td>e7adc42d28814e518e9601ac2329c51300000T</td>\n",
       "      <td>GPU-21587c35-7734-7942-6642-c8b1e768d7cf</td>\n",
       "      <td>27.28</td>\n",
       "      <td>29.0</td>\n",
       "      <td>0.0</td>\n",
       "      <td>0.0</td>\n",
       "    </tr>\n",
       "    <tr>\n",
       "      <th>3</th>\n",
       "      <td>2018-11-08 07:41:30.960</td>\n",
       "      <td>e7adc42d28814e518e9601ac2329c51300000T</td>\n",
       "      <td>GPU-21587c35-7734-7942-6642-c8b1e768d7cf</td>\n",
       "      <td>27.28</td>\n",
       "      <td>29.0</td>\n",
       "      <td>0.0</td>\n",
       "      <td>0.0</td>\n",
       "    </tr>\n",
       "    <tr>\n",
       "      <th>4</th>\n",
       "      <td>2018-11-08 07:41:30.962</td>\n",
       "      <td>e7adc42d28814e518e9601ac2329c51300000T</td>\n",
       "      <td>GPU-21587c35-7734-7942-6642-c8b1e768d7cf</td>\n",
       "      <td>27.28</td>\n",
       "      <td>29.0</td>\n",
       "      <td>0.0</td>\n",
       "      <td>0.0</td>\n",
       "    </tr>\n",
       "  </tbody>\n",
       "</table>\n",
       "</div>"
      ],
      "text/plain": [
       "                timestamp                                hostname  \\\n",
       "0 2018-11-08 07:41:30.957  e7adc42d28814e518e9601ac2329c51300000G   \n",
       "1 2018-11-08 07:41:30.957  e7adc42d28814e518e9601ac2329c51300000G   \n",
       "2 2018-11-08 07:41:30.960  e7adc42d28814e518e9601ac2329c51300000T   \n",
       "3 2018-11-08 07:41:30.960  e7adc42d28814e518e9601ac2329c51300000T   \n",
       "4 2018-11-08 07:41:30.962  e7adc42d28814e518e9601ac2329c51300000T   \n",
       "\n",
       "                                    gpuUUID  powerDrawWatt  gpuTempC  \\\n",
       "0  GPU-4a960fa3-73dd-9878-0ccc-b8ce6637c113          26.15      28.0   \n",
       "1  GPU-4a960fa3-73dd-9878-0ccc-b8ce6637c113          26.15      28.0   \n",
       "2  GPU-21587c35-7734-7942-6642-c8b1e768d7cf          27.28      29.0   \n",
       "3  GPU-21587c35-7734-7942-6642-c8b1e768d7cf          27.28      29.0   \n",
       "4  GPU-21587c35-7734-7942-6642-c8b1e768d7cf          27.28      29.0   \n",
       "\n",
       "   gpuUtilPerc  gpuMemUtilPerc  \n",
       "0          0.0             0.0  \n",
       "1          0.0             0.0  \n",
       "2          0.0             0.0  \n",
       "3          0.0             0.0  \n",
       "4          0.0             0.0  "
      ]
     },
     "execution_count": 78,
     "metadata": {},
     "output_type": "execute_result"
    }
   ],
   "source": [
    "timestamp_df.head()"
   ]
  },
  {
   "cell_type": "code",
   "execution_count": 79,
   "metadata": {},
   "outputs": [
    {
     "data": {
      "text/plain": [
       "timestamp             0\n",
       "hostname          51464\n",
       "gpuUUID           51464\n",
       "powerDrawWatt     51464\n",
       "gpuTempC          51464\n",
       "gpuUtilPerc       51464\n",
       "gpuMemUtilPerc    51464\n",
       "dtype: int64"
      ]
     },
     "execution_count": 79,
     "metadata": {},
     "output_type": "execute_result"
    }
   ],
   "source": [
    "timestamp_df.isnull().sum()"
   ]
  },
  {
   "cell_type": "code",
   "execution_count": 82,
   "metadata": {},
   "outputs": [],
   "source": [
    "timestamp_df.dropna(inplace = True)"
   ]
  },
  {
   "cell_type": "code",
   "execution_count": 83,
   "metadata": {},
   "outputs": [
    {
     "data": {
      "text/plain": [
       "timestamp         0\n",
       "hostname          0\n",
       "gpuUUID           0\n",
       "powerDrawWatt     0\n",
       "gpuTempC          0\n",
       "gpuUtilPerc       0\n",
       "gpuMemUtilPerc    0\n",
       "dtype: int64"
      ]
     },
     "execution_count": 83,
     "metadata": {},
     "output_type": "execute_result"
    }
   ],
   "source": [
    "timestamp_df.isnull().sum()"
   ]
  },
  {
   "cell_type": "code",
   "execution_count": 84,
   "metadata": {},
   "outputs": [
    {
     "data": {
      "text/plain": [
       "608936"
      ]
     },
     "execution_count": 84,
     "metadata": {},
     "output_type": "execute_result"
    }
   ],
   "source": [
    "len(timestamp_df)"
   ]
  },
  {
   "cell_type": "code",
   "execution_count": 85,
   "metadata": {},
   "outputs": [],
   "source": [
    "check_task_gpu_df = pd.merge(timestamp_df, check_task_df, on = ['hostname', 'timestamp'])"
   ]
  },
  {
   "cell_type": "code",
   "execution_count": 88,
   "metadata": {},
   "outputs": [
    {
     "data": {
      "text/plain": [
       "timestamp         0\n",
       "hostname          0\n",
       "gpuUUID           0\n",
       "powerDrawWatt     0\n",
       "gpuTempC          0\n",
       "gpuUtilPerc       0\n",
       "gpuMemUtilPerc    0\n",
       "eventName         0\n",
       "eventType         0\n",
       "x                 0\n",
       "y                 0\n",
       "level             0\n",
       "dtype: int64"
      ]
     },
     "execution_count": 88,
     "metadata": {},
     "output_type": "execute_result"
    }
   ],
   "source": [
    "check_task_gpu_df.isnull().sum()"
   ]
  },
  {
   "cell_type": "code",
   "execution_count": 89,
   "metadata": {},
   "outputs": [
    {
     "data": {
      "text/plain": [
       "1409"
      ]
     },
     "execution_count": 89,
     "metadata": {},
     "output_type": "execute_result"
    }
   ],
   "source": [
    "len(check_task_gpu_df)"
   ]
  },
  {
   "cell_type": "code",
   "execution_count": 59,
   "metadata": {},
   "outputs": [
    {
     "data": {
      "text/html": [
       "<div>\n",
       "<style scoped>\n",
       "    .dataframe tbody tr th:only-of-type {\n",
       "        vertical-align: middle;\n",
       "    }\n",
       "\n",
       "    .dataframe tbody tr th {\n",
       "        vertical-align: top;\n",
       "    }\n",
       "\n",
       "    .dataframe thead th {\n",
       "        text-align: right;\n",
       "    }\n",
       "</style>\n",
       "<table border=\"1\" class=\"dataframe\">\n",
       "  <thead>\n",
       "    <tr style=\"text-align: right;\">\n",
       "      <th></th>\n",
       "    </tr>\n",
       "    <tr>\n",
       "      <th>timestamp</th>\n",
       "    </tr>\n",
       "  </thead>\n",
       "  <tbody>\n",
       "    <tr>\n",
       "      <th>2018-11-08 07:41:30.957</th>\n",
       "    </tr>\n",
       "    <tr>\n",
       "      <th>2018-11-08 07:41:30.957</th>\n",
       "    </tr>\n",
       "    <tr>\n",
       "      <th>2018-11-08 07:41:30.960</th>\n",
       "    </tr>\n",
       "    <tr>\n",
       "      <th>2018-11-08 07:41:30.960</th>\n",
       "    </tr>\n",
       "    <tr>\n",
       "      <th>2018-11-08 07:41:30.962</th>\n",
       "    </tr>\n",
       "  </tbody>\n",
       "</table>\n",
       "</div>"
      ],
      "text/plain": [
       "Empty DataFrame\n",
       "Columns: []\n",
       "Index: [2018-11-08 07:41:30.957000, 2018-11-08 07:41:30.957000, 2018-11-08 07:41:30.960000, 2018-11-08 07:41:30.960000, 2018-11-08 07:41:30.962000]"
      ]
     },
     "execution_count": 59,
     "metadata": {},
     "output_type": "execute_result"
    }
   ],
   "source": [
    "timestamp_df.head()"
   ]
  },
  {
   "cell_type": "code",
   "execution_count": 60,
   "metadata": {},
   "outputs": [
    {
     "data": {
      "text/html": [
       "<div>\n",
       "<style scoped>\n",
       "    .dataframe tbody tr th:only-of-type {\n",
       "        vertical-align: middle;\n",
       "    }\n",
       "\n",
       "    .dataframe tbody tr th {\n",
       "        vertical-align: top;\n",
       "    }\n",
       "\n",
       "    .dataframe thead th {\n",
       "        text-align: right;\n",
       "    }\n",
       "</style>\n",
       "<table border=\"1\" class=\"dataframe\">\n",
       "  <thead>\n",
       "    <tr style=\"text-align: right;\">\n",
       "      <th></th>\n",
       "      <th>hostname</th>\n",
       "      <th>eventName</th>\n",
       "      <th>eventType</th>\n",
       "      <th>x</th>\n",
       "      <th>y</th>\n",
       "      <th>level</th>\n",
       "    </tr>\n",
       "    <tr>\n",
       "      <th>timestamp</th>\n",
       "      <th></th>\n",
       "      <th></th>\n",
       "      <th></th>\n",
       "      <th></th>\n",
       "      <th></th>\n",
       "      <th></th>\n",
       "    </tr>\n",
       "  </thead>\n",
       "  <tbody>\n",
       "    <tr>\n",
       "      <th>2018-11-08 07:41:30.957</th>\n",
       "      <td>95b4ae6d890e4c46986d91d7ac4bf08200000Q</td>\n",
       "      <td>TotalRender</td>\n",
       "      <td>START</td>\n",
       "      <td>128</td>\n",
       "      <td>5</td>\n",
       "      <td>12</td>\n",
       "    </tr>\n",
       "    <tr>\n",
       "      <th>2018-11-08 07:41:30.957</th>\n",
       "      <td>95b4ae6d890e4c46986d91d7ac4bf08200000Q</td>\n",
       "      <td>Saving Config</td>\n",
       "      <td>START</td>\n",
       "      <td>128</td>\n",
       "      <td>5</td>\n",
       "      <td>12</td>\n",
       "    </tr>\n",
       "    <tr>\n",
       "      <th>2018-11-08 07:41:30.960</th>\n",
       "      <td>95b4ae6d890e4c46986d91d7ac4bf08200000Q</td>\n",
       "      <td>Render</td>\n",
       "      <td>START</td>\n",
       "      <td>128</td>\n",
       "      <td>5</td>\n",
       "      <td>12</td>\n",
       "    </tr>\n",
       "    <tr>\n",
       "      <th>2018-11-08 07:41:30.960</th>\n",
       "      <td>95b4ae6d890e4c46986d91d7ac4bf08200000Q</td>\n",
       "      <td>Saving Config</td>\n",
       "      <td>STOP</td>\n",
       "      <td>128</td>\n",
       "      <td>5</td>\n",
       "      <td>12</td>\n",
       "    </tr>\n",
       "    <tr>\n",
       "      <th>2018-11-08 07:41:30.962</th>\n",
       "      <td>95b4ae6d890e4c46986d91d7ac4bf08200000D</td>\n",
       "      <td>TotalRender</td>\n",
       "      <td>START</td>\n",
       "      <td>128</td>\n",
       "      <td>9</td>\n",
       "      <td>12</td>\n",
       "    </tr>\n",
       "  </tbody>\n",
       "</table>\n",
       "</div>"
      ],
      "text/plain": [
       "                                                       hostname  \\\n",
       "timestamp                                                         \n",
       "2018-11-08 07:41:30.957  95b4ae6d890e4c46986d91d7ac4bf08200000Q   \n",
       "2018-11-08 07:41:30.957  95b4ae6d890e4c46986d91d7ac4bf08200000Q   \n",
       "2018-11-08 07:41:30.960  95b4ae6d890e4c46986d91d7ac4bf08200000Q   \n",
       "2018-11-08 07:41:30.960  95b4ae6d890e4c46986d91d7ac4bf08200000Q   \n",
       "2018-11-08 07:41:30.962  95b4ae6d890e4c46986d91d7ac4bf08200000D   \n",
       "\n",
       "                             eventName eventType    x  y  level  \n",
       "timestamp                                                        \n",
       "2018-11-08 07:41:30.957    TotalRender     START  128  5     12  \n",
       "2018-11-08 07:41:30.957  Saving Config     START  128  5     12  \n",
       "2018-11-08 07:41:30.960         Render     START  128  5     12  \n",
       "2018-11-08 07:41:30.960  Saving Config      STOP  128  5     12  \n",
       "2018-11-08 07:41:30.962    TotalRender     START  128  9     12  "
      ]
     },
     "execution_count": 60,
     "metadata": {},
     "output_type": "execute_result"
    }
   ],
   "source": [
    "check_task_df.head()"
   ]
  },
  {
   "cell_type": "code",
   "execution_count": 61,
   "metadata": {},
   "outputs": [
    {
     "data": {
      "text/html": [
       "<div>\n",
       "<style scoped>\n",
       "    .dataframe tbody tr th:only-of-type {\n",
       "        vertical-align: middle;\n",
       "    }\n",
       "\n",
       "    .dataframe tbody tr th {\n",
       "        vertical-align: top;\n",
       "    }\n",
       "\n",
       "    .dataframe thead th {\n",
       "        text-align: right;\n",
       "    }\n",
       "</style>\n",
       "<table border=\"1\" class=\"dataframe\">\n",
       "  <thead>\n",
       "    <tr style=\"text-align: right;\">\n",
       "      <th></th>\n",
       "      <th>hostname</th>\n",
       "      <th>gpuUUID</th>\n",
       "      <th>powerDrawWatt</th>\n",
       "      <th>gpuTempC</th>\n",
       "      <th>gpuUtilPerc</th>\n",
       "      <th>gpuMemUtilPerc</th>\n",
       "      <th>eventName</th>\n",
       "      <th>eventType</th>\n",
       "      <th>x</th>\n",
       "      <th>y</th>\n",
       "      <th>level</th>\n",
       "    </tr>\n",
       "    <tr>\n",
       "      <th>timestamp</th>\n",
       "      <th></th>\n",
       "      <th></th>\n",
       "      <th></th>\n",
       "      <th></th>\n",
       "      <th></th>\n",
       "      <th></th>\n",
       "      <th></th>\n",
       "      <th></th>\n",
       "      <th></th>\n",
       "      <th></th>\n",
       "      <th></th>\n",
       "    </tr>\n",
       "  </thead>\n",
       "  <tbody>\n",
       "    <tr>\n",
       "      <th>2018-11-08 07:41:31.313</th>\n",
       "      <td>4ad946d4435c42dabb5073531ea4f315000003</td>\n",
       "      <td>GPU-ca5f003a-4b66-f1b9-8cad-7899f6555909</td>\n",
       "      <td>26.60</td>\n",
       "      <td>28</td>\n",
       "      <td>0</td>\n",
       "      <td>0</td>\n",
       "      <td>TotalRender</td>\n",
       "      <td>START</td>\n",
       "      <td>87</td>\n",
       "      <td>3</td>\n",
       "      <td>12</td>\n",
       "    </tr>\n",
       "    <tr>\n",
       "      <th>2018-11-08 07:41:31.313</th>\n",
       "      <td>4ad946d4435c42dabb5073531ea4f315000003</td>\n",
       "      <td>GPU-ca5f003a-4b66-f1b9-8cad-7899f6555909</td>\n",
       "      <td>26.60</td>\n",
       "      <td>28</td>\n",
       "      <td>0</td>\n",
       "      <td>0</td>\n",
       "      <td>Saving Config</td>\n",
       "      <td>START</td>\n",
       "      <td>87</td>\n",
       "      <td>3</td>\n",
       "      <td>12</td>\n",
       "    </tr>\n",
       "    <tr>\n",
       "      <th>2018-11-08 07:41:31.794</th>\n",
       "      <td>4c72fae95b9147189a0559269a6953ff00001A</td>\n",
       "      <td>GPU-612ee29b-3d29-c9eb-e679-f59934f76713</td>\n",
       "      <td>24.86</td>\n",
       "      <td>30</td>\n",
       "      <td>0</td>\n",
       "      <td>0</td>\n",
       "      <td>TotalRender</td>\n",
       "      <td>START</td>\n",
       "      <td>180</td>\n",
       "      <td>7</td>\n",
       "      <td>12</td>\n",
       "    </tr>\n",
       "    <tr>\n",
       "      <th>2018-11-08 07:41:31.794</th>\n",
       "      <td>4c72fae95b9147189a0559269a6953ff00001A</td>\n",
       "      <td>GPU-612ee29b-3d29-c9eb-e679-f59934f76713</td>\n",
       "      <td>24.86</td>\n",
       "      <td>30</td>\n",
       "      <td>0</td>\n",
       "      <td>0</td>\n",
       "      <td>Saving Config</td>\n",
       "      <td>START</td>\n",
       "      <td>180</td>\n",
       "      <td>7</td>\n",
       "      <td>12</td>\n",
       "    </tr>\n",
       "    <tr>\n",
       "      <th>2018-11-08 07:41:31.834</th>\n",
       "      <td>4c72fae95b9147189a0559269a6953ff00000A</td>\n",
       "      <td>GPU-feeb9f98-518f-fa06-12ab-d8df1b597944</td>\n",
       "      <td>25.94</td>\n",
       "      <td>27</td>\n",
       "      <td>0</td>\n",
       "      <td>0</td>\n",
       "      <td>Render</td>\n",
       "      <td>START</td>\n",
       "      <td>70</td>\n",
       "      <td>7</td>\n",
       "      <td>12</td>\n",
       "    </tr>\n",
       "  </tbody>\n",
       "</table>\n",
       "</div>"
      ],
      "text/plain": [
       "                                                       hostname  \\\n",
       "timestamp                                                         \n",
       "2018-11-08 07:41:31.313  4ad946d4435c42dabb5073531ea4f315000003   \n",
       "2018-11-08 07:41:31.313  4ad946d4435c42dabb5073531ea4f315000003   \n",
       "2018-11-08 07:41:31.794  4c72fae95b9147189a0559269a6953ff00001A   \n",
       "2018-11-08 07:41:31.794  4c72fae95b9147189a0559269a6953ff00001A   \n",
       "2018-11-08 07:41:31.834  4c72fae95b9147189a0559269a6953ff00000A   \n",
       "\n",
       "                                                          gpuUUID  \\\n",
       "timestamp                                                           \n",
       "2018-11-08 07:41:31.313  GPU-ca5f003a-4b66-f1b9-8cad-7899f6555909   \n",
       "2018-11-08 07:41:31.313  GPU-ca5f003a-4b66-f1b9-8cad-7899f6555909   \n",
       "2018-11-08 07:41:31.794  GPU-612ee29b-3d29-c9eb-e679-f59934f76713   \n",
       "2018-11-08 07:41:31.794  GPU-612ee29b-3d29-c9eb-e679-f59934f76713   \n",
       "2018-11-08 07:41:31.834  GPU-feeb9f98-518f-fa06-12ab-d8df1b597944   \n",
       "\n",
       "                         powerDrawWatt  gpuTempC  gpuUtilPerc  gpuMemUtilPerc  \\\n",
       "timestamp                                                                       \n",
       "2018-11-08 07:41:31.313          26.60        28            0               0   \n",
       "2018-11-08 07:41:31.313          26.60        28            0               0   \n",
       "2018-11-08 07:41:31.794          24.86        30            0               0   \n",
       "2018-11-08 07:41:31.794          24.86        30            0               0   \n",
       "2018-11-08 07:41:31.834          25.94        27            0               0   \n",
       "\n",
       "                             eventName eventType    x  y  level  \n",
       "timestamp                                                        \n",
       "2018-11-08 07:41:31.313    TotalRender     START   87  3     12  \n",
       "2018-11-08 07:41:31.313  Saving Config     START   87  3     12  \n",
       "2018-11-08 07:41:31.794    TotalRender     START  180  7     12  \n",
       "2018-11-08 07:41:31.794  Saving Config     START  180  7     12  \n",
       "2018-11-08 07:41:31.834         Render     START   70  7     12  "
      ]
     },
     "execution_count": 61,
     "metadata": {},
     "output_type": "execute_result"
    }
   ],
   "source": [
    "check_task_gpu_df.head()"
   ]
  },
  {
   "cell_type": "code",
   "execution_count": 62,
   "metadata": {},
   "outputs": [
    {
     "data": {
      "text/plain": [
       "hostname          0\n",
       "gpuUUID           0\n",
       "powerDrawWatt     0\n",
       "gpuTempC          0\n",
       "gpuUtilPerc       0\n",
       "gpuMemUtilPerc    0\n",
       "eventName         0\n",
       "eventType         0\n",
       "x                 0\n",
       "y                 0\n",
       "level             0\n",
       "dtype: int64"
      ]
     },
     "execution_count": 62,
     "metadata": {},
     "output_type": "execute_result"
    }
   ],
   "source": [
    "check_task_gpu_df.isnull().sum()"
   ]
  },
  {
   "cell_type": "code",
   "execution_count": 63,
   "metadata": {},
   "outputs": [
    {
     "data": {
      "text/plain": [
       "337"
      ]
     },
     "execution_count": 63,
     "metadata": {},
     "output_type": "execute_result"
    }
   ],
   "source": [
    "len(check_task_gpu_df)"
   ]
  },
  {
   "cell_type": "code",
   "execution_count": null,
   "metadata": {},
   "outputs": [],
   "source": []
  }
 ],
 "metadata": {
  "kernelspec": {
   "display_name": "Python 3",
   "language": "python",
   "name": "python3"
  },
  "language_info": {
   "codemirror_mode": {
    "name": "ipython",
    "version": 3
   },
   "file_extension": ".py",
   "mimetype": "text/x-python",
   "name": "python",
   "nbconvert_exporter": "python",
   "pygments_lexer": "ipython3",
   "version": "3.7.0"
  },
  "latex_envs": {
   "LaTeX_envs_menu_present": true,
   "autoclose": false,
   "autocomplete": true,
   "bibliofile": "biblio.bib",
   "cite_by": "apalike",
   "current_citInitial": 1,
   "eqLabelWithNumbers": true,
   "eqNumInitial": 1,
   "hotkeys": {
    "equation": "Ctrl-E",
    "itemize": "Ctrl-I"
   },
   "labels_anchors": false,
   "latex_user_defs": false,
   "report_style_numbering": false,
   "user_envs_cfg": false
  },
  "toc": {
   "base_numbering": 1,
   "nav_menu": {},
   "number_sections": true,
   "sideBar": true,
   "skip_h1_title": true,
   "title_cell": "Table of Contents",
   "title_sidebar": "Contents",
   "toc_cell": true,
   "toc_position": {},
   "toc_section_display": true,
   "toc_window_display": true
  }
 },
 "nbformat": 4,
 "nbformat_minor": 2
}
