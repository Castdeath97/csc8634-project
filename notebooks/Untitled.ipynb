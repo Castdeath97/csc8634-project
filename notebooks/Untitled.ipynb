{
 "cells": [
  {
   "cell_type": "markdown",
   "metadata": {
    "toc": true
   },
   "source": [
    "<h1>Table of Contents<span class=\"tocSkip\"></span></h1>\n",
    "<div class=\"toc\"><ul class=\"toc-item\"></ul></div>"
   ]
  },
  {
   "cell_type": "code",
   "execution_count": 74,
   "metadata": {},
   "outputs": [],
   "source": [
    "import pandas as pd\n",
    "import numpy as np\n",
    "from datetime import datetime\n",
    "\n",
    "BASE_RAW_DATA_DIR = '../data/raw'\n",
    "\n",
    "GPU_CSV_FILE = BASE_RAW_DATA_DIR + '/gpu.csv'\n",
    "\"\"\"\n",
    "str: gpu.csv file location \n",
    "\"\"\"\n",
    "\n",
    "CHECK_CSV_FILE = BASE_RAW_DATA_DIR +  '/application-checkpoints.csv'\n",
    "\"\"\"\n",
    "str: application-checkpoints.csv filename file location \n",
    "\"\"\"\n",
    "\n",
    "TASK_CSV_FILE = BASE_RAW_DATA_DIR + '/task-x-y.csv'\n",
    "\"\"\"\n",
    "str: task-x-y.csv file location \n",
    "\"\"\"\n",
    "\n",
    "TIMESTAMP_FORMAT = '%Y-%m-%dT%H:%M:%S.%fZ'\n",
    "\"\"\"\n",
    "str: string used to format timestamp for datetime conversion\n",
    "\"\"\"\n",
    "\n",
    "def timestamp_conv(df):\n",
    "    \"\"\" Converts a timestamp to datetime\n",
    "    ----------\n",
    "    df\n",
    "        dataframe to convert to datetime\n",
    "    -------\n",
    "    float\n",
    "         converted timestamp\n",
    "    \"\"\"\n",
    "    df = df.apply(lambda x: datetime.strptime(x, TIMESTAMP_FORMAT))\n",
    "    return(df)\n",
    "\n",
    "def clean_gpu(gpu_df):\n",
    "    \"\"\"Clean gpu dataframe by dropping uneeded serial number and\n",
    "    fixes timestamp format to datetime\n",
    "\n",
    "    Parameters\n",
    "    ----------\n",
    "    gpu_df\n",
    "        gpu dataframe to clean\n",
    "\n",
    "    Returns\n",
    "    -------\n",
    "    pandas.core.frame.DataFrame\n",
    "        Cleaned GPU dataframe\n",
    "\n",
    "    \"\"\"\n",
    "\n",
    "    # Drop uneeded serial column\n",
    "\n",
    "    gpu_df.drop(columns='gpuSerial', inplace=True)\n",
    "    gpu_df['timestamp'] = timestamp_conv(gpu_df['timestamp'])\n",
    "    \n",
    "    return(gpu_df)\n",
    "\n",
    "def merge_check_task(checkpoints_df, tasks_df):\n",
    "    \"\"\"merge (left join) checkpoints with task df through job and task id\n",
    "\n",
    "    Parameters\n",
    "    ----------\n",
    "    checkpoints_df\n",
    "        application checkpoints dataframe to merge\n",
    "\n",
    "    tasks_df\n",
    "        tasks dataframe to merge\n",
    "\n",
    "    Returns\n",
    "    -------\n",
    "    pandas.core.frame.DataFrame\n",
    "        Cleaned GPU dataframe\n",
    "\n",
    "    \"\"\"\n",
    "\n",
    "    # Use left join on taskId and jobId\n",
    "\n",
    "    check_task_df = checkpoints_df.merge(tasks_df,\n",
    "                                     on=['taskId', 'jobId'], how='left')\n",
    "    return (check_task_df)\n",
    "\n",
    "def clean_check_task(check_task_df):\n",
    "    \"\"\"Removes uneeded ids for merged application checkpoints and tasks df \n",
    "    and fixes timestamp format to datetime\n",
    "\n",
    "    Parameters\n",
    "    ----------\n",
    "    check_task_df\n",
    "         merged application checkpoints and tasks df to clean\n",
    "\n",
    "    Returns\n",
    "    -------\n",
    "    pandas.core.frame.DataFrame\n",
    "        Cleaned GPU dataframe\n",
    "\n",
    "    \"\"\"\n",
    "\n",
    "    # Drop uneeded ids\n",
    "\n",
    "    check_task_df.drop(columns= ['jobId', 'taskId'], inplace=True)\n",
    "    check_task_df['timestamp'] = timestamp_conv(check_task_df['timestamp'])\n",
    "\n",
    "    return(check_task_df)\n",
    "\n",
    "gpu_df = pd.read_csv(GPU_CSV_FILE)\n",
    "checkpoints_df = pd.read_csv(CHECK_CSV_FILE)\n",
    "tasks_df = pd.read_csv(TASK_CSV_FILE)\n",
    "\n",
    "gpu_df = clean_gpu(gpu_df)\n",
    "check_task_df = merge_check_task(checkpoints_df, tasks_df)\n",
    "check_task_df = clean_check_task(check_task_df)"
   ]
  },
  {
   "cell_type": "code",
   "execution_count": 75,
   "metadata": {},
   "outputs": [
    {
     "data": {
      "text/plain": [
       "660400"
      ]
     },
     "execution_count": 75,
     "metadata": {},
     "output_type": "execute_result"
    }
   ],
   "source": [
    "len(timestamp_df)"
   ]
  },
  {
   "cell_type": "code",
   "execution_count": 76,
   "metadata": {},
   "outputs": [],
   "source": [
    "# set keys as indexes for join \n",
    "    \n",
    "#gpu_df.set_index('timestamp', inplace=True)\n",
    "#check_task_df.set_index('timestamp', inplace=True)\n",
    "    \n",
    "# sort by index\n",
    "\n",
    "#gpu_df.sort_index(inplace=True)\n",
    "#check_task_df.sort_index(inplace=True)\n",
    "\n",
    "gpu_df.sort_values(by=['timestamp'], inplace=True)\n",
    "check_task_df.sort_values(by=['timestamp'], inplace=True)\n",
    "\n",
    "# Make timestamp df\n",
    "\n",
    "timestamp_df = check_task_df.copy()\n",
    "timestamp_df.drop(['hostname', 'eventName', 'eventType', 'x', 'y', 'level'], axis=1, inplace= True)\n",
    "\n",
    "timestamp_df = pd.merge_asof(timestamp_df,gpu_df,\n",
    "                       left_on = ['timestamp'], right_on = ['timestamp'],\n",
    "                       tolerance = pd.Timedelta('4ms'), direction = 'nearest')"
   ]
  },
  {
   "cell_type": "code",
   "execution_count": 77,
   "metadata": {},
   "outputs": [
    {
     "data": {
      "text/plain": [
       "660400"
      ]
     },
     "execution_count": 77,
     "metadata": {},
     "output_type": "execute_result"
    }
   ],
   "source": [
    "len(timestamp_df)"
   ]
  },
  {
   "cell_type": "code",
   "execution_count": 78,
   "metadata": {},
   "outputs": [
    {
     "data": {
      "text/html": [
       "<div>\n",
       "<style scoped>\n",
       "    .dataframe tbody tr th:only-of-type {\n",
       "        vertical-align: middle;\n",
       "    }\n",
       "\n",
       "    .dataframe tbody tr th {\n",
       "        vertical-align: top;\n",
       "    }\n",
       "\n",
       "    .dataframe thead th {\n",
       "        text-align: right;\n",
       "    }\n",
       "</style>\n",
       "<table border=\"1\" class=\"dataframe\">\n",
       "  <thead>\n",
       "    <tr style=\"text-align: right;\">\n",
       "      <th></th>\n",
       "      <th>timestamp</th>\n",
       "      <th>hostname</th>\n",
       "      <th>gpuUUID</th>\n",
       "      <th>powerDrawWatt</th>\n",
       "      <th>gpuTempC</th>\n",
       "      <th>gpuUtilPerc</th>\n",
       "      <th>gpuMemUtilPerc</th>\n",
       "    </tr>\n",
       "  </thead>\n",
       "  <tbody>\n",
       "    <tr>\n",
       "      <th>0</th>\n",
       "      <td>2018-11-08 07:41:30.957</td>\n",
       "      <td>e7adc42d28814e518e9601ac2329c51300000G</td>\n",
       "      <td>GPU-4a960fa3-73dd-9878-0ccc-b8ce6637c113</td>\n",
       "      <td>26.15</td>\n",
       "      <td>28.0</td>\n",
       "      <td>0.0</td>\n",
       "      <td>0.0</td>\n",
       "    </tr>\n",
       "    <tr>\n",
       "      <th>1</th>\n",
       "      <td>2018-11-08 07:41:30.957</td>\n",
       "      <td>e7adc42d28814e518e9601ac2329c51300000G</td>\n",
       "      <td>GPU-4a960fa3-73dd-9878-0ccc-b8ce6637c113</td>\n",
       "      <td>26.15</td>\n",
       "      <td>28.0</td>\n",
       "      <td>0.0</td>\n",
       "      <td>0.0</td>\n",
       "    </tr>\n",
       "    <tr>\n",
       "      <th>2</th>\n",
       "      <td>2018-11-08 07:41:30.960</td>\n",
       "      <td>e7adc42d28814e518e9601ac2329c51300000T</td>\n",
       "      <td>GPU-21587c35-7734-7942-6642-c8b1e768d7cf</td>\n",
       "      <td>27.28</td>\n",
       "      <td>29.0</td>\n",
       "      <td>0.0</td>\n",
       "      <td>0.0</td>\n",
       "    </tr>\n",
       "    <tr>\n",
       "      <th>3</th>\n",
       "      <td>2018-11-08 07:41:30.960</td>\n",
       "      <td>e7adc42d28814e518e9601ac2329c51300000T</td>\n",
       "      <td>GPU-21587c35-7734-7942-6642-c8b1e768d7cf</td>\n",
       "      <td>27.28</td>\n",
       "      <td>29.0</td>\n",
       "      <td>0.0</td>\n",
       "      <td>0.0</td>\n",
       "    </tr>\n",
       "    <tr>\n",
       "      <th>4</th>\n",
       "      <td>2018-11-08 07:41:30.962</td>\n",
       "      <td>e7adc42d28814e518e9601ac2329c51300000T</td>\n",
       "      <td>GPU-21587c35-7734-7942-6642-c8b1e768d7cf</td>\n",
       "      <td>27.28</td>\n",
       "      <td>29.0</td>\n",
       "      <td>0.0</td>\n",
       "      <td>0.0</td>\n",
       "    </tr>\n",
       "  </tbody>\n",
       "</table>\n",
       "</div>"
      ],
      "text/plain": [
       "                timestamp                                hostname  \\\n",
       "0 2018-11-08 07:41:30.957  e7adc42d28814e518e9601ac2329c51300000G   \n",
       "1 2018-11-08 07:41:30.957  e7adc42d28814e518e9601ac2329c51300000G   \n",
       "2 2018-11-08 07:41:30.960  e7adc42d28814e518e9601ac2329c51300000T   \n",
       "3 2018-11-08 07:41:30.960  e7adc42d28814e518e9601ac2329c51300000T   \n",
       "4 2018-11-08 07:41:30.962  e7adc42d28814e518e9601ac2329c51300000T   \n",
       "\n",
       "                                    gpuUUID  powerDrawWatt  gpuTempC  \\\n",
       "0  GPU-4a960fa3-73dd-9878-0ccc-b8ce6637c113          26.15      28.0   \n",
       "1  GPU-4a960fa3-73dd-9878-0ccc-b8ce6637c113          26.15      28.0   \n",
       "2  GPU-21587c35-7734-7942-6642-c8b1e768d7cf          27.28      29.0   \n",
       "3  GPU-21587c35-7734-7942-6642-c8b1e768d7cf          27.28      29.0   \n",
       "4  GPU-21587c35-7734-7942-6642-c8b1e768d7cf          27.28      29.0   \n",
       "\n",
       "   gpuUtilPerc  gpuMemUtilPerc  \n",
       "0          0.0             0.0  \n",
       "1          0.0             0.0  \n",
       "2          0.0             0.0  \n",
       "3          0.0             0.0  \n",
       "4          0.0             0.0  "
      ]
     },
     "execution_count": 78,
     "metadata": {},
     "output_type": "execute_result"
    }
   ],
   "source": [
    "timestamp_df.head()"
   ]
  },
  {
   "cell_type": "code",
   "execution_count": 79,
   "metadata": {},
   "outputs": [
    {
     "data": {
      "text/plain": [
       "timestamp             0\n",
       "hostname          51464\n",
       "gpuUUID           51464\n",
       "powerDrawWatt     51464\n",
       "gpuTempC          51464\n",
       "gpuUtilPerc       51464\n",
       "gpuMemUtilPerc    51464\n",
       "dtype: int64"
      ]
     },
     "execution_count": 79,
     "metadata": {},
     "output_type": "execute_result"
    }
   ],
   "source": [
    "timestamp_df.isnull().sum()"
   ]
  },
  {
   "cell_type": "code",
   "execution_count": 82,
   "metadata": {},
   "outputs": [],
   "source": [
    "timestamp_df.dropna(inplace = True)"
   ]
  },
  {
   "cell_type": "code",
   "execution_count": 83,
   "metadata": {},
   "outputs": [
    {
     "data": {
      "text/plain": [
       "timestamp         0\n",
       "hostname          0\n",
       "gpuUUID           0\n",
       "powerDrawWatt     0\n",
       "gpuTempC          0\n",
       "gpuUtilPerc       0\n",
       "gpuMemUtilPerc    0\n",
       "dtype: int64"
      ]
     },
     "execution_count": 83,
     "metadata": {},
     "output_type": "execute_result"
    }
   ],
   "source": [
    "timestamp_df.isnull().sum()"
   ]
  },
  {
   "cell_type": "code",
   "execution_count": 84,
   "metadata": {},
   "outputs": [
    {
     "data": {
      "text/plain": [
       "608936"
      ]
     },
     "execution_count": 84,
     "metadata": {},
     "output_type": "execute_result"
    }
   ],
   "source": [
    "len(timestamp_df)"
   ]
  },
  {
   "cell_type": "code",
   "execution_count": 85,
   "metadata": {},
   "outputs": [],
   "source": [
    "check_task_gpu_df = pd.merge(timestamp_df, check_task_df, on = ['hostname', 'timestamp'])"
   ]
  },
  {
   "cell_type": "code",
   "execution_count": 88,
   "metadata": {},
   "outputs": [
    {
     "data": {
      "text/plain": [
       "timestamp         0\n",
       "hostname          0\n",
       "gpuUUID           0\n",
       "powerDrawWatt     0\n",
       "gpuTempC          0\n",
       "gpuUtilPerc       0\n",
       "gpuMemUtilPerc    0\n",
       "eventName         0\n",
       "eventType         0\n",
       "x                 0\n",
       "y                 0\n",
       "level             0\n",
       "dtype: int64"
      ]
     },
     "execution_count": 88,
     "metadata": {},
     "output_type": "execute_result"
    }
   ],
   "source": [
    "check_task_gpu_df.isnull().sum()"
   ]
  },
  {
   "cell_type": "code",
   "execution_count": 89,
   "metadata": {},
   "outputs": [
    {
     "data": {
      "text/plain": [
       "1409"
      ]
     },
     "execution_count": 89,
     "metadata": {},
     "output_type": "execute_result"
    }
   ],
   "source": [
    "len(check_task_gpu_df)"
   ]
  },
  {
   "cell_type": "code",
   "execution_count": 59,
   "metadata": {},
   "outputs": [
    {
     "data": {
      "text/html": [
       "<div>\n",
       "<style scoped>\n",
       "    .dataframe tbody tr th:only-of-type {\n",
       "        vertical-align: middle;\n",
       "    }\n",
       "\n",
       "    .dataframe tbody tr th {\n",
       "        vertical-align: top;\n",
       "    }\n",
       "\n",
       "    .dataframe thead th {\n",
       "        text-align: right;\n",
       "    }\n",
       "</style>\n",
       "<table border=\"1\" class=\"dataframe\">\n",
       "  <thead>\n",
       "    <tr style=\"text-align: right;\">\n",
       "      <th></th>\n",
       "    </tr>\n",
       "    <tr>\n",
       "      <th>timestamp</th>\n",
       "    </tr>\n",
       "  </thead>\n",
       "  <tbody>\n",
       "    <tr>\n",
       "      <th>2018-11-08 07:41:30.957</th>\n",
       "    </tr>\n",
       "    <tr>\n",
       "      <th>2018-11-08 07:41:30.957</th>\n",
       "    </tr>\n",
       "    <tr>\n",
       "      <th>2018-11-08 07:41:30.960</th>\n",
       "    </tr>\n",
       "    <tr>\n",
       "      <th>2018-11-08 07:41:30.960</th>\n",
       "    </tr>\n",
       "    <tr>\n",
       "      <th>2018-11-08 07:41:30.962</th>\n",
       "    </tr>\n",
       "  </tbody>\n",
       "</table>\n",
       "</div>"
      ],
      "text/plain": [
       "Empty DataFrame\n",
       "Columns: []\n",
       "Index: [2018-11-08 07:41:30.957000, 2018-11-08 07:41:30.957000, 2018-11-08 07:41:30.960000, 2018-11-08 07:41:30.960000, 2018-11-08 07:41:30.962000]"
      ]
     },
     "execution_count": 59,
     "metadata": {},
     "output_type": "execute_result"
    }
   ],
   "source": [
    "timestamp_df.head()"
   ]
  },
  {
   "cell_type": "code",
   "execution_count": 60,
   "metadata": {},
   "outputs": [
    {
     "data": {
      "text/html": [
       "<div>\n",
       "<style scoped>\n",
       "    .dataframe tbody tr th:only-of-type {\n",
       "        vertical-align: middle;\n",
       "    }\n",
       "\n",
       "    .dataframe tbody tr th {\n",
       "        vertical-align: top;\n",
       "    }\n",
       "\n",
       "    .dataframe thead th {\n",
       "        text-align: right;\n",
       "    }\n",
       "</style>\n",
       "<table border=\"1\" class=\"dataframe\">\n",
       "  <thead>\n",
       "    <tr style=\"text-align: right;\">\n",
       "      <th></th>\n",
       "      <th>hostname</th>\n",
       "      <th>eventName</th>\n",
       "      <th>eventType</th>\n",
       "      <th>x</th>\n",
       "      <th>y</th>\n",
       "      <th>level</th>\n",
       "    </tr>\n",
       "    <tr>\n",
       "      <th>timestamp</th>\n",
       "      <th></th>\n",
       "      <th></th>\n",
       "      <th></th>\n",
       "      <th></th>\n",
       "      <th></th>\n",
       "      <th></th>\n",
       "    </tr>\n",
       "  </thead>\n",
       "  <tbody>\n",
       "    <tr>\n",
       "      <th>2018-11-08 07:41:30.957</th>\n",
       "      <td>95b4ae6d890e4c46986d91d7ac4bf08200000Q</td>\n",
       "      <td>TotalRender</td>\n",
       "      <td>START</td>\n",
       "      <td>128</td>\n",
       "      <td>5</td>\n",
       "      <td>12</td>\n",
       "    </tr>\n",
       "    <tr>\n",
       "      <th>2018-11-08 07:41:30.957</th>\n",
       "      <td>95b4ae6d890e4c46986d91d7ac4bf08200000Q</td>\n",
       "      <td>Saving Config</td>\n",
       "      <td>START</td>\n",
       "      <td>128</td>\n",
       "      <td>5</td>\n",
       "      <td>12</td>\n",
       "    </tr>\n",
       "    <tr>\n",
       "      <th>2018-11-08 07:41:30.960</th>\n",
       "      <td>95b4ae6d890e4c46986d91d7ac4bf08200000Q</td>\n",
       "      <td>Render</td>\n",
       "      <td>START</td>\n",
       "      <td>128</td>\n",
       "      <td>5</td>\n",
       "      <td>12</td>\n",
       "    </tr>\n",
       "    <tr>\n",
       "      <th>2018-11-08 07:41:30.960</th>\n",
       "      <td>95b4ae6d890e4c46986d91d7ac4bf08200000Q</td>\n",
       "      <td>Saving Config</td>\n",
       "      <td>STOP</td>\n",
       "      <td>128</td>\n",
       "      <td>5</td>\n",
       "      <td>12</td>\n",
       "    </tr>\n",
       "    <tr>\n",
       "      <th>2018-11-08 07:41:30.962</th>\n",
       "      <td>95b4ae6d890e4c46986d91d7ac4bf08200000D</td>\n",
       "      <td>TotalRender</td>\n",
       "      <td>START</td>\n",
       "      <td>128</td>\n",
       "      <td>9</td>\n",
       "      <td>12</td>\n",
       "    </tr>\n",
       "  </tbody>\n",
       "</table>\n",
       "</div>"
      ],
      "text/plain": [
       "                                                       hostname  \\\n",
       "timestamp                                                         \n",
       "2018-11-08 07:41:30.957  95b4ae6d890e4c46986d91d7ac4bf08200000Q   \n",
       "2018-11-08 07:41:30.957  95b4ae6d890e4c46986d91d7ac4bf08200000Q   \n",
       "2018-11-08 07:41:30.960  95b4ae6d890e4c46986d91d7ac4bf08200000Q   \n",
       "2018-11-08 07:41:30.960  95b4ae6d890e4c46986d91d7ac4bf08200000Q   \n",
       "2018-11-08 07:41:30.962  95b4ae6d890e4c46986d91d7ac4bf08200000D   \n",
       "\n",
       "                             eventName eventType    x  y  level  \n",
       "timestamp                                                        \n",
       "2018-11-08 07:41:30.957    TotalRender     START  128  5     12  \n",
       "2018-11-08 07:41:30.957  Saving Config     START  128  5     12  \n",
       "2018-11-08 07:41:30.960         Render     START  128  5     12  \n",
       "2018-11-08 07:41:30.960  Saving Config      STOP  128  5     12  \n",
       "2018-11-08 07:41:30.962    TotalRender     START  128  9     12  "
      ]
     },
     "execution_count": 60,
     "metadata": {},
     "output_type": "execute_result"
    }
   ],
   "source": [
    "check_task_df.head()"
   ]
  },
  {
   "cell_type": "code",
   "execution_count": 61,
   "metadata": {},
   "outputs": [
    {
     "data": {
      "text/html": [
       "<div>\n",
       "<style scoped>\n",
       "    .dataframe tbody tr th:only-of-type {\n",
       "        vertical-align: middle;\n",
       "    }\n",
       "\n",
       "    .dataframe tbody tr th {\n",
       "        vertical-align: top;\n",
       "    }\n",
       "\n",
       "    .dataframe thead th {\n",
       "        text-align: right;\n",
       "    }\n",
       "</style>\n",
       "<table border=\"1\" class=\"dataframe\">\n",
       "  <thead>\n",
       "    <tr style=\"text-align: right;\">\n",
       "      <th></th>\n",
       "      <th>hostname</th>\n",
       "      <th>gpuUUID</th>\n",
       "      <th>powerDrawWatt</th>\n",
       "      <th>gpuTempC</th>\n",
       "      <th>gpuUtilPerc</th>\n",
       "      <th>gpuMemUtilPerc</th>\n",
       "      <th>eventName</th>\n",
       "      <th>eventType</th>\n",
       "      <th>x</th>\n",
       "      <th>y</th>\n",
       "      <th>level</th>\n",
       "    </tr>\n",
       "    <tr>\n",
       "      <th>timestamp</th>\n",
       "      <th></th>\n",
       "      <th></th>\n",
       "      <th></th>\n",
       "      <th></th>\n",
       "      <th></th>\n",
       "      <th></th>\n",
       "      <th></th>\n",
       "      <th></th>\n",
       "      <th></th>\n",
       "      <th></th>\n",
       "      <th></th>\n",
       "    </tr>\n",
       "  </thead>\n",
       "  <tbody>\n",
       "    <tr>\n",
       "      <th>2018-11-08 07:41:31.313</th>\n",
       "      <td>4ad946d4435c42dabb5073531ea4f315000003</td>\n",
       "      <td>GPU-ca5f003a-4b66-f1b9-8cad-7899f6555909</td>\n",
       "      <td>26.60</td>\n",
       "      <td>28</td>\n",
       "      <td>0</td>\n",
       "      <td>0</td>\n",
       "      <td>TotalRender</td>\n",
       "      <td>START</td>\n",
       "      <td>87</td>\n",
       "      <td>3</td>\n",
       "      <td>12</td>\n",
       "    </tr>\n",
       "    <tr>\n",
       "      <th>2018-11-08 07:41:31.313</th>\n",
       "      <td>4ad946d4435c42dabb5073531ea4f315000003</td>\n",
       "      <td>GPU-ca5f003a-4b66-f1b9-8cad-7899f6555909</td>\n",
       "      <td>26.60</td>\n",
       "      <td>28</td>\n",
       "      <td>0</td>\n",
       "      <td>0</td>\n",
       "      <td>Saving Config</td>\n",
       "      <td>START</td>\n",
       "      <td>87</td>\n",
       "      <td>3</td>\n",
       "      <td>12</td>\n",
       "    </tr>\n",
       "    <tr>\n",
       "      <th>2018-11-08 07:41:31.794</th>\n",
       "      <td>4c72fae95b9147189a0559269a6953ff00001A</td>\n",
       "      <td>GPU-612ee29b-3d29-c9eb-e679-f59934f76713</td>\n",
       "      <td>24.86</td>\n",
       "      <td>30</td>\n",
       "      <td>0</td>\n",
       "      <td>0</td>\n",
       "      <td>TotalRender</td>\n",
       "      <td>START</td>\n",
       "      <td>180</td>\n",
       "      <td>7</td>\n",
       "      <td>12</td>\n",
       "    </tr>\n",
       "    <tr>\n",
       "      <th>2018-11-08 07:41:31.794</th>\n",
       "      <td>4c72fae95b9147189a0559269a6953ff00001A</td>\n",
       "      <td>GPU-612ee29b-3d29-c9eb-e679-f59934f76713</td>\n",
       "      <td>24.86</td>\n",
       "      <td>30</td>\n",
       "      <td>0</td>\n",
       "      <td>0</td>\n",
       "      <td>Saving Config</td>\n",
       "      <td>START</td>\n",
       "      <td>180</td>\n",
       "      <td>7</td>\n",
       "      <td>12</td>\n",
       "    </tr>\n",
       "    <tr>\n",
       "      <th>2018-11-08 07:41:31.834</th>\n",
       "      <td>4c72fae95b9147189a0559269a6953ff00000A</td>\n",
       "      <td>GPU-feeb9f98-518f-fa06-12ab-d8df1b597944</td>\n",
       "      <td>25.94</td>\n",
       "      <td>27</td>\n",
       "      <td>0</td>\n",
       "      <td>0</td>\n",
       "      <td>Render</td>\n",
       "      <td>START</td>\n",
       "      <td>70</td>\n",
       "      <td>7</td>\n",
       "      <td>12</td>\n",
       "    </tr>\n",
       "  </tbody>\n",
       "</table>\n",
       "</div>"
      ],
      "text/plain": [
       "                                                       hostname  \\\n",
       "timestamp                                                         \n",
       "2018-11-08 07:41:31.313  4ad946d4435c42dabb5073531ea4f315000003   \n",
       "2018-11-08 07:41:31.313  4ad946d4435c42dabb5073531ea4f315000003   \n",
       "2018-11-08 07:41:31.794  4c72fae95b9147189a0559269a6953ff00001A   \n",
       "2018-11-08 07:41:31.794  4c72fae95b9147189a0559269a6953ff00001A   \n",
       "2018-11-08 07:41:31.834  4c72fae95b9147189a0559269a6953ff00000A   \n",
       "\n",
       "                                                          gpuUUID  \\\n",
       "timestamp                                                           \n",
       "2018-11-08 07:41:31.313  GPU-ca5f003a-4b66-f1b9-8cad-7899f6555909   \n",
       "2018-11-08 07:41:31.313  GPU-ca5f003a-4b66-f1b9-8cad-7899f6555909   \n",
       "2018-11-08 07:41:31.794  GPU-612ee29b-3d29-c9eb-e679-f59934f76713   \n",
       "2018-11-08 07:41:31.794  GPU-612ee29b-3d29-c9eb-e679-f59934f76713   \n",
       "2018-11-08 07:41:31.834  GPU-feeb9f98-518f-fa06-12ab-d8df1b597944   \n",
       "\n",
       "                         powerDrawWatt  gpuTempC  gpuUtilPerc  gpuMemUtilPerc  \\\n",
       "timestamp                                                                       \n",
       "2018-11-08 07:41:31.313          26.60        28            0               0   \n",
       "2018-11-08 07:41:31.313          26.60        28            0               0   \n",
       "2018-11-08 07:41:31.794          24.86        30            0               0   \n",
       "2018-11-08 07:41:31.794          24.86        30            0               0   \n",
       "2018-11-08 07:41:31.834          25.94        27            0               0   \n",
       "\n",
       "                             eventName eventType    x  y  level  \n",
       "timestamp                                                        \n",
       "2018-11-08 07:41:31.313    TotalRender     START   87  3     12  \n",
       "2018-11-08 07:41:31.313  Saving Config     START   87  3     12  \n",
       "2018-11-08 07:41:31.794    TotalRender     START  180  7     12  \n",
       "2018-11-08 07:41:31.794  Saving Config     START  180  7     12  \n",
       "2018-11-08 07:41:31.834         Render     START   70  7     12  "
      ]
     },
     "execution_count": 61,
     "metadata": {},
     "output_type": "execute_result"
    }
   ],
   "source": [
    "check_task_gpu_df.head()"
   ]
  },
  {
   "cell_type": "code",
   "execution_count": 62,
   "metadata": {},
   "outputs": [
    {
     "data": {
      "text/plain": [
       "hostname          0\n",
       "gpuUUID           0\n",
       "powerDrawWatt     0\n",
       "gpuTempC          0\n",
       "gpuUtilPerc       0\n",
       "gpuMemUtilPerc    0\n",
       "eventName         0\n",
       "eventType         0\n",
       "x                 0\n",
       "y                 0\n",
       "level             0\n",
       "dtype: int64"
      ]
     },
     "execution_count": 62,
     "metadata": {},
     "output_type": "execute_result"
    }
   ],
   "source": [
    "check_task_gpu_df.isnull().sum()"
   ]
  },
  {
   "cell_type": "code",
   "execution_count": 63,
   "metadata": {},
   "outputs": [
    {
     "data": {
      "text/plain": [
       "337"
      ]
     },
     "execution_count": 63,
     "metadata": {},
     "output_type": "execute_result"
    }
   ],
   "source": [
    "len(check_task_gpu_df)"
   ]
  },
  {
   "cell_type": "code",
   "execution_count": null,
   "metadata": {},
   "outputs": [],
   "source": []
  }
 ],
 "metadata": {
  "kernelspec": {
   "display_name": "Python 3",
   "language": "python",
   "name": "python3"
  },
  "language_info": {
   "codemirror_mode": {
    "name": "ipython",
    "version": 3
   },
   "file_extension": ".py",
   "mimetype": "text/x-python",
   "name": "python",
   "nbconvert_exporter": "python",
   "pygments_lexer": "ipython3",
   "version": "3.7.0"
  },
  "latex_envs": {
   "LaTeX_envs_menu_present": true,
   "autoclose": false,
   "autocomplete": true,
   "bibliofile": "biblio.bib",
   "cite_by": "apalike",
   "current_citInitial": 1,
   "eqLabelWithNumbers": true,
   "eqNumInitial": 1,
   "hotkeys": {
    "equation": "Ctrl-E",
    "itemize": "Ctrl-I"
   },
   "labels_anchors": false,
   "latex_user_defs": false,
   "report_style_numbering": false,
   "user_envs_cfg": false
  },
  "toc": {
   "base_numbering": 1,
   "nav_menu": {},
   "number_sections": true,
   "sideBar": true,
   "skip_h1_title": true,
   "title_cell": "Table of Contents",
   "title_sidebar": "Contents",
   "toc_cell": true,
   "toc_position": {},
   "toc_section_display": true,
   "toc_window_display": true
  }
 },
 "nbformat": 4,
 "nbformat_minor": 2
}
