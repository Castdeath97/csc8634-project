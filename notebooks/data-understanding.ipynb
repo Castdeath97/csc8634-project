{
 "cells": [
  {
   "cell_type": "markdown",
   "metadata": {
    "hidePrompt": false,
    "toc": true
   },
   "source": [
    "<h1>Table of Contents<span class=\"tocSkip\"></span></h1>\n",
    "<div class=\"toc\"><ul class=\"toc-item\"><li><span><a href=\"#Report-Introduction\" data-toc-modified-id=\"Report-Introduction-1\"><span class=\"toc-item-num\">1&nbsp;&nbsp;</span>Report Introduction</a></span></li><li><span><a href=\"#Data-Background\" data-toc-modified-id=\"Data-Background-2\"><span class=\"toc-item-num\">2&nbsp;&nbsp;</span>Data Background</a></span></li><li><span><a href=\"#Data-Description\" data-toc-modified-id=\"Data-Description-3\"><span class=\"toc-item-num\">3&nbsp;&nbsp;</span>Data Description</a></span><ul class=\"toc-item\"><li><ul class=\"toc-item\"><li><span><a href=\"#GPU-Dataset\" data-toc-modified-id=\"GPU-Dataset-3.0.1\"><span class=\"toc-item-num\">3.0.1&nbsp;&nbsp;</span>GPU Dataset</a></span></li><li><span><a href=\"#Checkpoints-and-Tasks-Dataset\" data-toc-modified-id=\"Checkpoints-and-Tasks-Dataset-3.0.2\"><span class=\"toc-item-num\">3.0.2&nbsp;&nbsp;</span>Checkpoints and Tasks Dataset</a></span></li></ul></li></ul></li><li><span><a href=\"#Data-Exploration-and-Analysis\" data-toc-modified-id=\"Data-Exploration-and-Analysis-4\"><span class=\"toc-item-num\">4&nbsp;&nbsp;</span>Data Exploration and Analysis</a></span><ul class=\"toc-item\"><li><span><a href=\"#Graphical-Summaries\" data-toc-modified-id=\"Graphical-Summaries-4.1\"><span class=\"toc-item-num\">4.1&nbsp;&nbsp;</span>Graphical Summaries</a></span><ul class=\"toc-item\"><li><span><a href=\"#Frequencies\" data-toc-modified-id=\"Frequencies-4.1.1\"><span class=\"toc-item-num\">4.1.1&nbsp;&nbsp;</span>Frequencies</a></span><ul class=\"toc-item\"><li><span><a href=\"#Event-Names-During-the-Rendering-Process\" data-toc-modified-id=\"Event-Names-During-the-Rendering-Process-4.1.1.1\"><span class=\"toc-item-num\">4.1.1.1&nbsp;&nbsp;</span>Event Names During the Rendering Process</a></span></li></ul></li><li><span><a href=\"#Location-and-Spread\" data-toc-modified-id=\"Location-and-Spread-4.1.2\"><span class=\"toc-item-num\">4.1.2&nbsp;&nbsp;</span>Location and Spread</a></span><ul class=\"toc-item\"><li><span><a href=\"#GPU-Statistics\" data-toc-modified-id=\"GPU-Statistics-4.1.2.1\"><span class=\"toc-item-num\">4.1.2.1&nbsp;&nbsp;</span>GPU Statistics</a></span></li><li><span><a href=\"#GPU-Statistics-by-Event-Name\" data-toc-modified-id=\"GPU-Statistics-by-Event-Name-4.1.2.2\"><span class=\"toc-item-num\">4.1.2.2&nbsp;&nbsp;</span>GPU Statistics by Event Name</a></span></li></ul></li></ul></li><li><span><a href=\"#Cluster-Analysis\" data-toc-modified-id=\"Cluster-Analysis-4.2\"><span class=\"toc-item-num\">4.2&nbsp;&nbsp;</span>Cluster Analysis</a></span></li><li><span><a href=\"#Latency-Analysis\" data-toc-modified-id=\"Latency-Analysis-4.3\"><span class=\"toc-item-num\">4.3&nbsp;&nbsp;</span>Latency Analysis</a></span></li></ul></li><li><span><a href=\"#Conclusions-and-Data-Quality\" data-toc-modified-id=\"Conclusions-and-Data-Quality-5\"><span class=\"toc-item-num\">5&nbsp;&nbsp;</span>Conclusions and Data Quality</a></span></li></ul></div>"
   ]
  },
  {
   "cell_type": "code",
   "execution_count": 4,
   "metadata": {
    "hideCode": true,
    "hideOutput": true,
    "hidePrompt": true,
    "outputs": [],
    "tags": [
     "remove_cell"
    ]
   },
   "outputs": [],
   "source": [
    "import pandas as pd\n",
    "import matplotlib.pyplot as plt\n",
    "\n",
    "BASE_PROCESSED_DATA_DIR = '../data/processed'\n",
    "\"\"\"\n",
    "str: Base processed data directory\n",
    "\"\"\"\n",
    "\n",
    "PROCESSED_CSV_FILE = BASE_PROCESSED_DATA_DIR + '/processed.csv'\n",
    "\"\"\"\n",
    "str: processed.csv final dataset file location \n",
    "\"\"\"\n",
    "\n",
    "gpu_events_df = pd.read_csv(PROCESSED_CSV_FILE)"
   ]
  },
  {
   "cell_type": "markdown",
   "metadata": {},
   "source": [
    "<h1 class=\"tocSkip\"><center class=\"tocSkip\">Data Understanding Report</center></h1>\n",
    "<h1 class=\"tocSkip\"><center class=\"tocSkip\"><i class=\"tocSkip\">Ammar Hasan 150454388</i></center></h1>\n",
    "\n",
    "## Report Introduction \n",
    "\n",
    "This report documents the Data Understanding stage of the CRISP DM cycle. The Data Understanding\n",
    "stage involves the process of collecting insights about the data, which are used to help form hypothesis for\n",
    "later analysis, and information to help with modelling. The process involves data descriptions, explorations and quality verification. In this project\n",
    "this would involve analysing the frequencies, spread, location and patterns of GPU performance through the the different terapixel rendering tasks.\n",
    "\n",
    "## Data Background \n",
    "\n",
    "As stated in the Business Understanding and Data Preparation Stage reports, the provided dataset consists of results from running three jobs of a terapixel render of the city of Newcastle upon Tyne in three levels (4, 8, 12) of the render with 1024 GPU nodes over a cloud service. The data is recorded in a processed csv file for the GPU stats and event checkpoints recorded by the rendering application.\n",
    "\n",
    "## Data Description \n",
    "\n",
    "The full description of the data is covered in the data preparation stage, but to sum up the following fields from the final dataset are formed after preprocessing: \n",
    "\n",
    "#### GPU Dataset\n",
    "\n",
    "* timestamp (textual): Timestamp for tuple in 'YYYY-MM-DDTH:M:S.fZ' format\n",
    "* hostname (textual): Unique system ID assigned to the Machine GPU runs from by Microsoft Azure\n",
    "* gpuUUID (textual): Unique GPU ID assigned to the Machine GPU runs from by Microsoft Azure\n",
    "* powerDrawWatt (numerical): Power draw of system (Watts)\n",
    "* gpuTempC (numerical): The GPU temperature (Celsius) \n",
    "* gpuUtilPerc (numerical): GPU Utilisation % (0-100)\n",
    "* gpuMemUtilPerc (numerical): GPU memory usage % (0-100)\n",
    "* eventName (textual): Name of current event occurring in the rendering process. Possible values:\n",
    "    - TotalRender: The whole task itself (started or ended) \n",
    "\t- Render: Image tile being rendered \n",
    "    - Saving Config: Configuration overhead  \n",
    "\t- Tiling: Tile postprocessing\n",
    "\t- Uploading: Output uploading to Azure Blob Storage\n",
    "* eventType (textual): Used to represent the start or end of a particular task (START or STOP)\n",
    "* x (numerical): X coordinate of tile being rendered \n",
    "* y (numerical): Y coordinate of tile being rendered \n",
    "* level (numerical): Visualisation level (zoom) within the terapixel map (4, 8, 12)"
   ]
  },
  {
   "cell_type": "code",
   "execution_count": 5,
   "metadata": {},
   "outputs": [
    {
     "data": {
      "text/html": [
       "<div>\n",
       "<style scoped>\n",
       "    .dataframe tbody tr th:only-of-type {\n",
       "        vertical-align: middle;\n",
       "    }\n",
       "\n",
       "    .dataframe tbody tr th {\n",
       "        vertical-align: top;\n",
       "    }\n",
       "\n",
       "    .dataframe thead th {\n",
       "        text-align: right;\n",
       "    }\n",
       "</style>\n",
       "<table border=\"1\" class=\"dataframe\">\n",
       "  <thead>\n",
       "    <tr style=\"text-align: right;\">\n",
       "      <th></th>\n",
       "      <th>timestamp</th>\n",
       "      <th>hostname</th>\n",
       "      <th>gpuUUID</th>\n",
       "      <th>powerDrawWatt</th>\n",
       "      <th>gpuTempC</th>\n",
       "      <th>gpuUtilPerc</th>\n",
       "      <th>gpuMemUtilPerc</th>\n",
       "      <th>eventName</th>\n",
       "      <th>eventType</th>\n",
       "      <th>x</th>\n",
       "      <th>y</th>\n",
       "      <th>level</th>\n",
       "    </tr>\n",
       "  </thead>\n",
       "  <tbody>\n",
       "    <tr>\n",
       "      <th>0</th>\n",
       "      <td>2018-11-08 07:41:31.313</td>\n",
       "      <td>4ad946d4435c42dabb5073531ea4f315000003</td>\n",
       "      <td>GPU-ca5f003a-4b66-f1b9-8cad-7899f6555909</td>\n",
       "      <td>26.60</td>\n",
       "      <td>28</td>\n",
       "      <td>0</td>\n",
       "      <td>0</td>\n",
       "      <td>TotalRender</td>\n",
       "      <td>START</td>\n",
       "      <td>87</td>\n",
       "      <td>3</td>\n",
       "      <td>12</td>\n",
       "    </tr>\n",
       "    <tr>\n",
       "      <th>1</th>\n",
       "      <td>2018-11-08 07:41:31.313</td>\n",
       "      <td>4ad946d4435c42dabb5073531ea4f315000003</td>\n",
       "      <td>GPU-ca5f003a-4b66-f1b9-8cad-7899f6555909</td>\n",
       "      <td>26.60</td>\n",
       "      <td>28</td>\n",
       "      <td>0</td>\n",
       "      <td>0</td>\n",
       "      <td>Saving Config</td>\n",
       "      <td>START</td>\n",
       "      <td>87</td>\n",
       "      <td>3</td>\n",
       "      <td>12</td>\n",
       "    </tr>\n",
       "    <tr>\n",
       "      <th>2</th>\n",
       "      <td>2018-11-08 07:41:31.313</td>\n",
       "      <td>4ad946d4435c42dabb5073531ea4f315000003</td>\n",
       "      <td>GPU-ca5f003a-4b66-f1b9-8cad-7899f6555909</td>\n",
       "      <td>26.60</td>\n",
       "      <td>28</td>\n",
       "      <td>0</td>\n",
       "      <td>0</td>\n",
       "      <td>TotalRender</td>\n",
       "      <td>START</td>\n",
       "      <td>87</td>\n",
       "      <td>3</td>\n",
       "      <td>12</td>\n",
       "    </tr>\n",
       "    <tr>\n",
       "      <th>3</th>\n",
       "      <td>2018-11-08 07:41:31.313</td>\n",
       "      <td>4ad946d4435c42dabb5073531ea4f315000003</td>\n",
       "      <td>GPU-ca5f003a-4b66-f1b9-8cad-7899f6555909</td>\n",
       "      <td>26.60</td>\n",
       "      <td>28</td>\n",
       "      <td>0</td>\n",
       "      <td>0</td>\n",
       "      <td>Saving Config</td>\n",
       "      <td>START</td>\n",
       "      <td>87</td>\n",
       "      <td>3</td>\n",
       "      <td>12</td>\n",
       "    </tr>\n",
       "    <tr>\n",
       "      <th>4</th>\n",
       "      <td>2018-11-08 07:41:31.794</td>\n",
       "      <td>4c72fae95b9147189a0559269a6953ff00001A</td>\n",
       "      <td>GPU-612ee29b-3d29-c9eb-e679-f59934f76713</td>\n",
       "      <td>24.86</td>\n",
       "      <td>30</td>\n",
       "      <td>0</td>\n",
       "      <td>0</td>\n",
       "      <td>TotalRender</td>\n",
       "      <td>START</td>\n",
       "      <td>180</td>\n",
       "      <td>7</td>\n",
       "      <td>12</td>\n",
       "    </tr>\n",
       "  </tbody>\n",
       "</table>\n",
       "</div>"
      ],
      "text/plain": [
       "                 timestamp                                hostname  \\\n",
       "0  2018-11-08 07:41:31.313  4ad946d4435c42dabb5073531ea4f315000003   \n",
       "1  2018-11-08 07:41:31.313  4ad946d4435c42dabb5073531ea4f315000003   \n",
       "2  2018-11-08 07:41:31.313  4ad946d4435c42dabb5073531ea4f315000003   \n",
       "3  2018-11-08 07:41:31.313  4ad946d4435c42dabb5073531ea4f315000003   \n",
       "4  2018-11-08 07:41:31.794  4c72fae95b9147189a0559269a6953ff00001A   \n",
       "\n",
       "                                    gpuUUID  powerDrawWatt  gpuTempC  \\\n",
       "0  GPU-ca5f003a-4b66-f1b9-8cad-7899f6555909          26.60        28   \n",
       "1  GPU-ca5f003a-4b66-f1b9-8cad-7899f6555909          26.60        28   \n",
       "2  GPU-ca5f003a-4b66-f1b9-8cad-7899f6555909          26.60        28   \n",
       "3  GPU-ca5f003a-4b66-f1b9-8cad-7899f6555909          26.60        28   \n",
       "4  GPU-612ee29b-3d29-c9eb-e679-f59934f76713          24.86        30   \n",
       "\n",
       "   gpuUtilPerc  gpuMemUtilPerc      eventName eventType    x  y  level  \n",
       "0            0               0    TotalRender     START   87  3     12  \n",
       "1            0               0  Saving Config     START   87  3     12  \n",
       "2            0               0    TotalRender     START   87  3     12  \n",
       "3            0               0  Saving Config     START   87  3     12  \n",
       "4            0               0    TotalRender     START  180  7     12  "
      ]
     },
     "execution_count": 5,
     "metadata": {},
     "output_type": "execute_result"
    }
   ],
   "source": [
    "gpu_events_df.head()"
   ]
  },
  {
   "cell_type": "markdown",
   "metadata": {},
   "source": [
    "## Data Exploration and Analysis\n",
    "\n",
    "This section concentrates on the process of exploring the data for patterns and interesting features using\n",
    "Exploratory Data Analysis and some unsupervised learning techniques (e.g. PCA Analysis).\n",
    "\n",
    "### Graphical Summaries \n",
    "\n",
    "#### Frequencies \n",
    "\n",
    "##### Event Names During the Rendering Process"
   ]
  },
  {
   "cell_type": "code",
   "execution_count": 22,
   "metadata": {},
   "outputs": [
    {
     "data": {
      "image/png": "[encoded data removed]",
      "text/plain": [
       "<Figure size 1800x576 with 1 Axes>"
      ]
     },
     "metadata": {
      "needs_background": "light"
     },
     "output_type": "display_data"
    }
   ],
   "source": [
    "check_task_df['eventName'].value_counts().plot(kind='bar')\n",
    "plt.rcParams['figure.figsize'] = [25, 8]"
   ]
  },
  {
   "cell_type": "markdown",
   "metadata": {},
   "source": [
    "The different events seem to all occur at the same frequency, which is not surprising considering that the tasks must be occurring according to a specified algorithm.\n",
    "\n",
    "#### Location and Spread\n",
    "\n",
    "##### GPU Statistics \n"
   ]
  },
  {
   "cell_type": "code",
   "execution_count": 43,
   "metadata": {},
   "outputs": [
    {
     "data": {
      "image/png": "[encoded data removed]",
      "text/plain": [
       "<Figure size 1800x576 with 1 Axes>"
      ]
     },
     "metadata": {
      "needs_background": "light"
     },
     "output_type": "display_data"
    }
   ],
   "source": [
    "plt.subplot(1, 2, 1)\n",
    "plt.boxplot([gpu_df['powerDrawWatt'], gpu_df['gpuTempC'], gpu_df['gpuUtilPerc'], gpu_df['gpuMemUtilPerc']])\n",
    "plt.xticks([1, 2, 3, 4], ['Power','Temperature','GPU Util.','Memory Util.'], rotation='vertical')\n",
    "plt.title('Distribution of GPU Statistics')\n",
    "plt.rcParams['figure.figsize'] = [25, 8]\n",
    "\n",
    "plt.show()"
   ]
  },
  {
   "cell_type": "markdown",
   "metadata": {},
   "source": [
    "As can  be seen in the box plot, the GPU utilisation throughout the render runs seems to average right next to 90. This is a good since it indicates that the computation resources are well allocated.\n",
    "\n",
    "However, the memory utilisation averages seems much lower at around 40, moreover the Inter Quantile Range is tighter and the Q1 range is much higher, suggesting that memory utilisation is lower than the average more often. This suggests that the rendering task is either non-memory intensive, that the task is not well optimised enough to make use of video memory or that the graphic cards themselves have a lot more memory than needed. \n",
    "\n",
    "GPU temperature seems to be clustered tightly around 40, and the few values that get out of that tight Inter quantile range only reach just under 60 and over 20, and a significant proportion of these are considered outliers. This shows that the temperature management at the clusters is excellent as this is well beyond maximum operating temperatures of some cards, especially considering the high GPU Utilisation.\n",
    "\n",
    "The power draw averages just under 100 and has a maximum of 200, considering the distance to the maximum power draw from the Q3 range, getting close to 200 seems quite unlikely. Overall, the power draw looks excellent as even its maximum is well below some modern top end graphic cards.\n",
    "\n",
    "##### GPU Statistics by Event Name\n",
    "\n"
   ]
  },
  {
   "cell_type": "code",
   "execution_count": 25,
   "metadata": {},
   "outputs": [
    {
     "ename": "ValueError",
     "evalue": "The truth value of a Series is ambiguous. Use a.empty, a.bool(), a.item(), a.any() or a.all().",
     "output_type": "error",
     "traceback": [
      "\u001b[1;31m---------------------------------------------------------------------------\u001b[0m",
      "\u001b[1;31mValueError\u001b[0m                                Traceback (most recent call last)",
      "\u001b[1;32m<ipython-input-25-dd79ef95dc1b>\u001b[0m in \u001b[0;36m<module>\u001b[1;34m()\u001b[0m\n\u001b[1;32m----> 1\u001b[1;33m \u001b[0mplt\u001b[0m\u001b[1;33m.\u001b[0m\u001b[0mboxplot\u001b[0m\u001b[1;33m(\u001b[0m\u001b[1;33m[\u001b[0m\u001b[0mgpu_df\u001b[0m\u001b[1;33m[\u001b[0m\u001b[1;34m'gpuUtilPerc'\u001b[0m\u001b[1;33m]\u001b[0m\u001b[1;33m]\u001b[0m\u001b[1;33m,\u001b[0m \u001b[0mgpu_df\u001b[0m\u001b[1;33m[\u001b[0m\u001b[1;34m'gpuMemUtilPerc'\u001b[0m\u001b[1;33m]\u001b[0m\u001b[1;33m)\u001b[0m\u001b[1;33m\u001b[0m\u001b[0m\n\u001b[0m",
      "\u001b[1;32mC:\\ProgramData\\Anaconda3\\lib\\site-packages\\matplotlib\\pyplot.py\u001b[0m in \u001b[0;36mboxplot\u001b[1;34m(x, notch, sym, vert, whis, positions, widths, patch_artist, bootstrap, usermedians, conf_intervals, meanline, showmeans, showcaps, showbox, showfliers, boxprops, labels, flierprops, medianprops, meanprops, capprops, whiskerprops, manage_xticks, autorange, zorder, hold, data)\u001b[0m\n\u001b[0;32m   2851\u001b[0m                          \u001b[0mwhiskerprops\u001b[0m\u001b[1;33m=\u001b[0m\u001b[0mwhiskerprops\u001b[0m\u001b[1;33m,\u001b[0m\u001b[1;33m\u001b[0m\u001b[0m\n\u001b[0;32m   2852\u001b[0m                          \u001b[0mmanage_xticks\u001b[0m\u001b[1;33m=\u001b[0m\u001b[0mmanage_xticks\u001b[0m\u001b[1;33m,\u001b[0m \u001b[0mautorange\u001b[0m\u001b[1;33m=\u001b[0m\u001b[0mautorange\u001b[0m\u001b[1;33m,\u001b[0m\u001b[1;33m\u001b[0m\u001b[0m\n\u001b[1;32m-> 2853\u001b[1;33m                          zorder=zorder, data=data)\n\u001b[0m\u001b[0;32m   2854\u001b[0m     \u001b[1;32mfinally\u001b[0m\u001b[1;33m:\u001b[0m\u001b[1;33m\u001b[0m\u001b[0m\n\u001b[0;32m   2855\u001b[0m         \u001b[0max\u001b[0m\u001b[1;33m.\u001b[0m\u001b[0m_hold\u001b[0m \u001b[1;33m=\u001b[0m \u001b[0mwashold\u001b[0m\u001b[1;33m\u001b[0m\u001b[0m\n",
      "\u001b[1;32mC:\\ProgramData\\Anaconda3\\lib\\site-packages\\matplotlib\\__init__.py\u001b[0m in \u001b[0;36minner\u001b[1;34m(ax, *args, **kwargs)\u001b[0m\n\u001b[0;32m   1865\u001b[0m                         \u001b[1;34m\"the Matplotlib list!)\"\u001b[0m \u001b[1;33m%\u001b[0m \u001b[1;33m(\u001b[0m\u001b[0mlabel_namer\u001b[0m\u001b[1;33m,\u001b[0m \u001b[0mfunc\u001b[0m\u001b[1;33m.\u001b[0m\u001b[0m__name__\u001b[0m\u001b[1;33m)\u001b[0m\u001b[1;33m,\u001b[0m\u001b[1;33m\u001b[0m\u001b[0m\n\u001b[0;32m   1866\u001b[0m                         RuntimeWarning, stacklevel=2)\n\u001b[1;32m-> 1867\u001b[1;33m             \u001b[1;32mreturn\u001b[0m \u001b[0mfunc\u001b[0m\u001b[1;33m(\u001b[0m\u001b[0max\u001b[0m\u001b[1;33m,\u001b[0m \u001b[1;33m*\u001b[0m\u001b[0margs\u001b[0m\u001b[1;33m,\u001b[0m \u001b[1;33m**\u001b[0m\u001b[0mkwargs\u001b[0m\u001b[1;33m)\u001b[0m\u001b[1;33m\u001b[0m\u001b[0m\n\u001b[0m\u001b[0;32m   1868\u001b[0m \u001b[1;33m\u001b[0m\u001b[0m\n\u001b[0;32m   1869\u001b[0m         inner.__doc__ = _add_data_doc(inner.__doc__,\n",
      "\u001b[1;32mC:\\ProgramData\\Anaconda3\\lib\\site-packages\\matplotlib\\axes\\_axes.py\u001b[0m in \u001b[0;36mboxplot\u001b[1;34m(self, x, notch, sym, vert, whis, positions, widths, patch_artist, bootstrap, usermedians, conf_intervals, meanline, showmeans, showcaps, showbox, showfliers, boxprops, labels, flierprops, medianprops, meanprops, capprops, whiskerprops, manage_xticks, autorange, zorder)\u001b[0m\n\u001b[0;32m   3681\u001b[0m                            \u001b[0mmeanline\u001b[0m\u001b[1;33m=\u001b[0m\u001b[0mmeanline\u001b[0m\u001b[1;33m,\u001b[0m \u001b[0mshowfliers\u001b[0m\u001b[1;33m=\u001b[0m\u001b[0mshowfliers\u001b[0m\u001b[1;33m,\u001b[0m\u001b[1;33m\u001b[0m\u001b[0m\n\u001b[0;32m   3682\u001b[0m                            \u001b[0mcapprops\u001b[0m\u001b[1;33m=\u001b[0m\u001b[0mcapprops\u001b[0m\u001b[1;33m,\u001b[0m \u001b[0mwhiskerprops\u001b[0m\u001b[1;33m=\u001b[0m\u001b[0mwhiskerprops\u001b[0m\u001b[1;33m,\u001b[0m\u001b[1;33m\u001b[0m\u001b[0m\n\u001b[1;32m-> 3683\u001b[1;33m                            manage_xticks=manage_xticks, zorder=zorder)\n\u001b[0m\u001b[0;32m   3684\u001b[0m         \u001b[1;32mreturn\u001b[0m \u001b[0martists\u001b[0m\u001b[1;33m\u001b[0m\u001b[0m\n\u001b[0;32m   3685\u001b[0m \u001b[1;33m\u001b[0m\u001b[0m\n",
      "\u001b[1;32mC:\\ProgramData\\Anaconda3\\lib\\site-packages\\matplotlib\\axes\\_axes.py\u001b[0m in \u001b[0;36mbxp\u001b[1;34m(self, bxpstats, positions, widths, vert, patch_artist, shownotches, showmeans, showcaps, showbox, showfliers, boxprops, whiskerprops, flierprops, medianprops, capprops, meanprops, meanline, manage_xticks, zorder)\u001b[0m\n\u001b[0;32m   4010\u001b[0m \u001b[1;33m\u001b[0m\u001b[0m\n\u001b[0;32m   4011\u001b[0m             \u001b[1;31m# notched boxes\u001b[0m\u001b[1;33m\u001b[0m\u001b[1;33m\u001b[0m\u001b[0m\n\u001b[1;32m-> 4012\u001b[1;33m             \u001b[1;32mif\u001b[0m \u001b[0mshownotches\u001b[0m\u001b[1;33m:\u001b[0m\u001b[1;33m\u001b[0m\u001b[0m\n\u001b[0m\u001b[0;32m   4013\u001b[0m                 box_x = [box_left, box_right, box_right, cap_right, box_right,\n\u001b[0;32m   4014\u001b[0m                          \u001b[0mbox_right\u001b[0m\u001b[1;33m,\u001b[0m \u001b[0mbox_left\u001b[0m\u001b[1;33m,\u001b[0m \u001b[0mbox_left\u001b[0m\u001b[1;33m,\u001b[0m \u001b[0mcap_left\u001b[0m\u001b[1;33m,\u001b[0m \u001b[0mbox_left\u001b[0m\u001b[1;33m,\u001b[0m\u001b[1;33m\u001b[0m\u001b[0m\n",
      "\u001b[1;32mC:\\ProgramData\\Anaconda3\\lib\\site-packages\\pandas\\core\\generic.py\u001b[0m in \u001b[0;36m__nonzero__\u001b[1;34m(self)\u001b[0m\n\u001b[0;32m   1574\u001b[0m         raise ValueError(\"The truth value of a {0} is ambiguous. \"\n\u001b[0;32m   1575\u001b[0m                          \u001b[1;34m\"Use a.empty, a.bool(), a.item(), a.any() or a.all().\"\u001b[0m\u001b[1;33m\u001b[0m\u001b[0m\n\u001b[1;32m-> 1576\u001b[1;33m                          .format(self.__class__.__name__))\n\u001b[0m\u001b[0;32m   1577\u001b[0m \u001b[1;33m\u001b[0m\u001b[0m\n\u001b[0;32m   1578\u001b[0m     \u001b[0m__bool__\u001b[0m \u001b[1;33m=\u001b[0m \u001b[0m__nonzero__\u001b[0m\u001b[1;33m\u001b[0m\u001b[0m\n",
      "\u001b[1;31mValueError\u001b[0m: The truth value of a Series is ambiguous. Use a.empty, a.bool(), a.item(), a.any() or a.all()."
     ]
    },
    {
     "data": {
      "image/png": "[encoded data removed]",
      "text/plain": [
       "<Figure size 1800x576 with 1 Axes>"
      ]
     },
     "metadata": {
      "needs_background": "light"
     },
     "output_type": "display_data"
    }
   ],
   "source": [
    "gpu_df_render = isclose(gpu_df['timestamp'], check_task_df['timestamp'] , rtol=1e-05, atol=1e-08)\n",
    "gpu_df_t_render\n",
    "gpu_df_s_config\n",
    "gpu_df_s_tiling\n",
    "gpu_df_s_uploading \n",
    "\n",
    "\n",
    "plt.boxplot([gpu_df['gpuUtilPerc'], gpu_df['gpuMemUtilPerc']])"
   ]
  },
  {
   "cell_type": "markdown",
   "metadata": {},
   "source": [
    "### Cluster Analysis \n",
    "\n",
    "\n",
    "### Latency Analysis \n",
    "\n",
    "## Conclusions and Data Quality "
   ]
  }
 ],
 "metadata": {
  "celltoolbar": "Edit Metadata",
  "kernelspec": {
   "display_name": "Python 3",
   "language": "python",
   "name": "python3"
  },
  "language_info": {
   "codemirror_mode": {
    "name": "ipython",
    "version": 3
   },
   "file_extension": ".py",
   "mimetype": "text/x-python",
   "name": "python",
   "nbconvert_exporter": "python",
   "pygments_lexer": "ipython3",
   "version": "3.7.0"
  },
  "latex_envs": {
   "LaTeX_envs_menu_present": true,
   "autoclose": false,
   "autocomplete": true,
   "bibliofile": "biblio.bib",
   "cite_by": "apalike",
   "current_citInitial": 1,
   "eqLabelWithNumbers": true,
   "eqNumInitial": 1,
   "hotkeys": {
    "equation": "Ctrl-E",
    "itemize": "Ctrl-I"
   },
   "labels_anchors": false,
   "latex_user_defs": false,
   "report_style_numbering": false,
   "user_envs_cfg": false
  },
  "toc": {
   "base_numbering": 1,
   "nav_menu": {},
   "number_sections": true,
   "sideBar": true,
   "skip_h1_title": true,
   "title_cell": "Table of Contents",
   "title_sidebar": "Contents",
   "toc_cell": true,
   "toc_position": {
    "height": "calc(100% - 180px)",
    "left": "10px",
    "top": "150px",
    "width": "189.6px"
   },
   "toc_section_display": true,
   "toc_window_display": true
  }
 },
 "nbformat": 4,
 "nbformat_minor": 2
}
