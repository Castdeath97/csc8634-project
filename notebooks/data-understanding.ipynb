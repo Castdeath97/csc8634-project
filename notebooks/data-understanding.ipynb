{
 "cells": [
  {
   "cell_type": "markdown",
   "metadata": {
    "hidePrompt": false,
    "toc": true
   },
   "source": [
    "<h1>Table of Contents<span class=\"tocSkip\"></span></h1>\n",
    "<div class=\"toc\"><ul class=\"toc-item\"><li><span><a href=\"#Report-Introduction\" data-toc-modified-id=\"Report-Introduction-1\"><span class=\"toc-item-num\">1&nbsp;&nbsp;</span>Report Introduction</a></span></li><li><span><a href=\"#Data-Background\" data-toc-modified-id=\"Data-Background-2\"><span class=\"toc-item-num\">2&nbsp;&nbsp;</span>Data Background</a></span></li><li><span><a href=\"#Data-Description\" data-toc-modified-id=\"Data-Description-3\"><span class=\"toc-item-num\">3&nbsp;&nbsp;</span>Data Description</a></span><ul class=\"toc-item\"><li><ul class=\"toc-item\"><li><span><a href=\"#Fields\" data-toc-modified-id=\"Fields-3.0.1\"><span class=\"toc-item-num\">3.0.1&nbsp;&nbsp;</span>Fields</a></span></li></ul></li></ul></li><li><span><a href=\"#Data-Exploration-and-Analysis\" data-toc-modified-id=\"Data-Exploration-and-Analysis-4\"><span class=\"toc-item-num\">4&nbsp;&nbsp;</span>Data Exploration and Analysis</a></span><ul class=\"toc-item\"><li><span><a href=\"#Graphical-Summaries\" data-toc-modified-id=\"Graphical-Summaries-4.1\"><span class=\"toc-item-num\">4.1&nbsp;&nbsp;</span>Graphical Summaries</a></span><ul class=\"toc-item\"><li><span><a href=\"#Frequencies\" data-toc-modified-id=\"Frequencies-4.1.1\"><span class=\"toc-item-num\">4.1.1&nbsp;&nbsp;</span>Frequencies</a></span><ul class=\"toc-item\"><li><span><a href=\"#Event--Exectution-Times-for-the-Terapixel-Rendering-Process\" data-toc-modified-id=\"Event--Exectution-Times-for-the-Terapixel-Rendering-Process-4.1.1.1\"><span class=\"toc-item-num\">4.1.1.1&nbsp;&nbsp;</span>Event  Exectution Times for the Terapixel Rendering Process</a></span></li></ul></li><li><span><a href=\"#Location-and-Spread\" data-toc-modified-id=\"Location-and-Spread-4.1.2\"><span class=\"toc-item-num\">4.1.2&nbsp;&nbsp;</span>Location and Spread</a></span><ul class=\"toc-item\"><li><span><a href=\"#GPU-Statistics\" data-toc-modified-id=\"GPU-Statistics-4.1.2.1\"><span class=\"toc-item-num\">4.1.2.1&nbsp;&nbsp;</span>GPU Statistics</a></span></li><li><span><a href=\"#GPU-Statistics-by-Event-Name\" data-toc-modified-id=\"GPU-Statistics-by-Event-Name-4.1.2.2\"><span class=\"toc-item-num\">4.1.2.2&nbsp;&nbsp;</span>GPU Statistics by Event Name</a></span></li><li><span><a href=\"#Rendering\" data-toc-modified-id=\"Rendering-4.1.2.3\"><span class=\"toc-item-num\">4.1.2.3&nbsp;&nbsp;</span>Rendering</a></span></li></ul></li></ul></li><li><span><a href=\"#Rendering-Performance-Analysis\" data-toc-modified-id=\"Rendering-Performance-Analysis-4.2\"><span class=\"toc-item-num\">4.2&nbsp;&nbsp;</span>Rendering Performance Analysis</a></span><ul class=\"toc-item\"><li><span><a href=\"#Render-Execution-Times-Distribution-(General)\" data-toc-modified-id=\"Render-Execution-Times-Distribution-(General)-4.2.1\"><span class=\"toc-item-num\">4.2.1&nbsp;&nbsp;</span>Render Execution Times Distribution (General)</a></span></li><li><span><a href=\"#Render-Execution-Times-By-Level-Distribution\" data-toc-modified-id=\"Render-Execution-Times-By-Level-Distribution-4.2.2\"><span class=\"toc-item-num\">4.2.2&nbsp;&nbsp;</span>Render Execution Times By Level Distribution</a></span></li><li><span><a href=\"#Render-Execution-Times-By-Temperature\" data-toc-modified-id=\"Render-Execution-Times-By-Temperature-4.2.3\"><span class=\"toc-item-num\">4.2.3&nbsp;&nbsp;</span>Render Execution Times By Temperature</a></span></li><li><span><a href=\"#Render-Execution-Times-By-Power-Draw\" data-toc-modified-id=\"Render-Execution-Times-By-Power-Draw-4.2.4\"><span class=\"toc-item-num\">4.2.4&nbsp;&nbsp;</span>Render Execution Times By Power Draw</a></span></li></ul></li></ul></li><li><span><a href=\"#Conclusions-and-Data-Quality\" data-toc-modified-id=\"Conclusions-and-Data-Quality-5\"><span class=\"toc-item-num\">5&nbsp;&nbsp;</span>Conclusions and Data Quality</a></span></li><li><span><a href=\"#References\" data-toc-modified-id=\"References-6\"><span class=\"toc-item-num\">6&nbsp;&nbsp;</span>References</a></span></li></ul></div>"
   ]
  },
  {
   "cell_type": "code",
   "execution_count": 17,
   "metadata": {
    "hideCode": true,
    "hideOutput": true,
    "hidePrompt": true,
    "outputs": [],
    "tags": [
     "remove_cell"
    ]
   },
   "outputs": [],
   "source": [
    "import pandas as pd\n",
    "import matplotlib.pyplot as plt\n",
    "from datetime import datetime\n",
    "import numpy as np\n",
    "import statistics\n",
    "\n",
    "\n",
    "BASE_PROCESSED_DATA_DIR = '../data/processed'\n",
    "\"\"\"\n",
    "str: Base processed data directory\n",
    "\"\"\"\n",
    "\n",
    "PROCESSED_CSV_FILE = BASE_PROCESSED_DATA_DIR + '/processed.csv'\n",
    "\"\"\"\n",
    "str: processed.csv final dataset file location \n",
    "\"\"\"\n",
    "\n",
    "gpu_events_df = pd.read_csv(PROCESSED_CSV_FILE, index_col=0)\n",
    "\"\"\"\n",
    "pandas.core.frame.DataFrame: final dataset\n",
    "\"\"\"\n",
    "\n",
    "gpu_stats_labels = ['Power','Temperature','GPU Util.','Memory Util.']\n",
    "\"\"\"\n",
    "list: list of titles used for gpu statistics labels\n",
    "\"\"\"\n",
    "\n",
    "\n",
    "TIMESTAMP_FORMAT = '%Y-%m-%d %H:%M:%S.%f'\n",
    "\"\"\"\n",
    "str: string used to format timestamp for datetime conversion\n",
    "\"\"\"\n",
    "\n",
    "# convert timestamps to correct format\n",
    "\n",
    "def fix_no_ms(date_string):\n",
    "    \"\"\" adds a .0 for seconds with no ms\n",
    "    \"\"\"\n",
    "    if '.' not in date_string:\n",
    "        date_string = date_string + '.0'\n",
    "        \n",
    "    return(date_string)\n",
    "           \n",
    "gpu_events_df['start_time'] = gpu_events_df['start_time'].apply(lambda x: (fix_no_ms(x)))\n",
    "\n",
    "gpu_events_df['stop_time'] = gpu_events_df['stop_time'].apply(lambda x: (fix_no_ms(x)))\n",
    "\n",
    "gpu_events_df['start_time'] = gpu_events_df['start_time'].apply(\n",
    "    lambda x: (datetime.strptime(x, TIMESTAMP_FORMAT)))\n",
    "\n",
    "gpu_events_df['stop_time'] = gpu_events_df['stop_time'].apply(\n",
    "    lambda x: (datetime.strptime(x, TIMESTAMP_FORMAT)))"
   ]
  },
  {
   "cell_type": "markdown",
   "metadata": {},
   "source": [
    "## Report Introduction \n",
    "\n",
    "This report documents the Data Understanding stage of the CRISP DM cycle. The Data Understanding\n",
    "stage involves the process of collecting insights about the data, which are used to help form hypothesis for\n",
    "later analysis, and information to help with modelling. The process involves data descriptions, explorations and quality verification. In this project this would involve analysing the frequencies, spread, location and patterns of GPU performance through the the different terapixel rendering tasks.\n",
    "\n",
    "## Data Background \n",
    "\n",
    "As stated in the Business Understanding and Data Preparation Stage reports, the provided dataset consists of results from running three jobs of a terapixel render of the city of Newcastle upon Tyne in three levels (4, 8, 12) of the render with 1024 GPU nodes over a cloud service. The data is recorded in a processed csv file for the GPU stats and event checkpoints recorded by the rendering application.\n",
    "\n",
    "## Data Description \n",
    "\n",
    "The full description of the data is covered in the data preparation stage, but to sum up the following fields from the final dataset are formed after preprocessing: \n",
    "\n",
    "#### Fields\n",
    "\n",
    "* start_time (textual): Timestamp for tuple in 'YYYY-MM-DD H:M:S.f' format for start of event\n",
    "* stop_time (textual): Timestamp for tuple in 'YYYY-MM-DD H:M:S.f' format for end of event\n",
    "* hostname (textual): Unique system ID assigned to the Machine GPU runs from by Microsoft Azure\n",
    "* gpuUUID (textual): Unique GPU ID assigned to the Machine GPU runs from by Microsoft Azure\n",
    "* powerDrawWatt (numerical): Average power draw of system (Watts) for event\n",
    "* gpuTempC (numerical): The Average GPU temperature (Celsius) for event\n",
    "* gpuUtilPerc (numerical): The average GPU utilisation % (0-100) for event\n",
    "* gpuMemUtilPerc (numerical): The average GPU memory usage % (0-100) for event\n",
    "* eventName (textual): Name of current event occurring in the rendering process. Possible values:\n",
    "    - TotalRender: The whole task itself (started or ended) \n",
    "\t- Render: Image tile being rendered \n",
    "    - Saving Config: Configuration overhead  \n",
    "\t- Tiling: Tile postprocessing\n",
    "\t- Uploading: Output uploading to Azure Blob Storage\n",
    "* x (numerical): X coordinate of tile being rendered \n",
    "* y (numerical): Y coordinate of tile being rendered \n",
    "* level (numerical): Visualisation level (zoom) within the terapixel map (4, 8, 12)"
   ]
  },
  {
   "cell_type": "code",
   "execution_count": 2,
   "metadata": {},
   "outputs": [
    {
     "data": {
      "text/html": [
       "<div>\n",
       "<style scoped>\n",
       "    .dataframe tbody tr th:only-of-type {\n",
       "        vertical-align: middle;\n",
       "    }\n",
       "\n",
       "    .dataframe tbody tr th {\n",
       "        vertical-align: top;\n",
       "    }\n",
       "\n",
       "    .dataframe thead th {\n",
       "        text-align: right;\n",
       "    }\n",
       "</style>\n",
       "<table border=\"1\" class=\"dataframe\">\n",
       "  <thead>\n",
       "    <tr style=\"text-align: right;\">\n",
       "      <th></th>\n",
       "      <th>hostname</th>\n",
       "      <th>eventName</th>\n",
       "      <th>x</th>\n",
       "      <th>y</th>\n",
       "      <th>level</th>\n",
       "      <th>stop_time</th>\n",
       "      <th>powerDrawWatt</th>\n",
       "      <th>gpuUtilPerc</th>\n",
       "      <th>gpuMemUtilPerc</th>\n",
       "      <th>gpuTempC</th>\n",
       "      <th>start_time</th>\n",
       "    </tr>\n",
       "  </thead>\n",
       "  <tbody>\n",
       "    <tr>\n",
       "      <th>0</th>\n",
       "      <td>0d56a730076643d585f77e00d2d8521a00000Q</td>\n",
       "      <td>TotalRender</td>\n",
       "      <td>156</td>\n",
       "      <td>186</td>\n",
       "      <td>12</td>\n",
       "      <td>2018-11-08 08:27:54.895</td>\n",
       "      <td>96.807273</td>\n",
       "      <td>70.318182</td>\n",
       "      <td>37.863636</td>\n",
       "      <td>37.590909</td>\n",
       "      <td>2018-11-08 08:27:10.606</td>\n",
       "    </tr>\n",
       "    <tr>\n",
       "      <th>1</th>\n",
       "      <td>0d56a730076643d585f77e00d2d8521a00000Q</td>\n",
       "      <td>Render</td>\n",
       "      <td>156</td>\n",
       "      <td>186</td>\n",
       "      <td>12</td>\n",
       "      <td>2018-11-08 08:27:53.796</td>\n",
       "      <td>96.807273</td>\n",
       "      <td>70.318182</td>\n",
       "      <td>37.863636</td>\n",
       "      <td>37.590909</td>\n",
       "      <td>2018-11-08 08:27:10.608</td>\n",
       "    </tr>\n",
       "    <tr>\n",
       "      <th>2</th>\n",
       "      <td>83ea61ac1ef54f27a3bf7bd0f41ecaa700000J</td>\n",
       "      <td>Uploading</td>\n",
       "      <td>200</td>\n",
       "      <td>23</td>\n",
       "      <td>12</td>\n",
       "      <td>2018-11-08 08:27:11.893</td>\n",
       "      <td>42.440000</td>\n",
       "      <td>0.000000</td>\n",
       "      <td>0.000000</td>\n",
       "      <td>41.000000</td>\n",
       "      <td>2018-11-08 08:27:10.839</td>\n",
       "    </tr>\n",
       "    <tr>\n",
       "      <th>3</th>\n",
       "      <td>83ea61ac1ef54f27a3bf7bd0f41ecaa700000J</td>\n",
       "      <td>Tiling</td>\n",
       "      <td>200</td>\n",
       "      <td>23</td>\n",
       "      <td>12</td>\n",
       "      <td>2018-11-08 08:27:11.882</td>\n",
       "      <td>42.440000</td>\n",
       "      <td>0.000000</td>\n",
       "      <td>0.000000</td>\n",
       "      <td>41.000000</td>\n",
       "      <td>2018-11-08 08:27:10.846</td>\n",
       "    </tr>\n",
       "    <tr>\n",
       "      <th>4</th>\n",
       "      <td>b9a1fa7ae2f74eb68f25f607980f97d700000H</td>\n",
       "      <td>TotalRender</td>\n",
       "      <td>160</td>\n",
       "      <td>14</td>\n",
       "      <td>12</td>\n",
       "      <td>2018-11-08 08:27:56.265</td>\n",
       "      <td>91.566957</td>\n",
       "      <td>71.000000</td>\n",
       "      <td>39.913043</td>\n",
       "      <td>38.695652</td>\n",
       "      <td>2018-11-08 08:27:10.612</td>\n",
       "    </tr>\n",
       "  </tbody>\n",
       "</table>\n",
       "</div>"
      ],
      "text/plain": [
       "                                 hostname    eventName    x    y  level  \\\n",
       "0  0d56a730076643d585f77e00d2d8521a00000Q  TotalRender  156  186     12   \n",
       "1  0d56a730076643d585f77e00d2d8521a00000Q       Render  156  186     12   \n",
       "2  83ea61ac1ef54f27a3bf7bd0f41ecaa700000J    Uploading  200   23     12   \n",
       "3  83ea61ac1ef54f27a3bf7bd0f41ecaa700000J       Tiling  200   23     12   \n",
       "4  b9a1fa7ae2f74eb68f25f607980f97d700000H  TotalRender  160   14     12   \n",
       "\n",
       "                stop_time  powerDrawWatt  gpuUtilPerc  gpuMemUtilPerc  \\\n",
       "0 2018-11-08 08:27:54.895      96.807273    70.318182       37.863636   \n",
       "1 2018-11-08 08:27:53.796      96.807273    70.318182       37.863636   \n",
       "2 2018-11-08 08:27:11.893      42.440000     0.000000        0.000000   \n",
       "3 2018-11-08 08:27:11.882      42.440000     0.000000        0.000000   \n",
       "4 2018-11-08 08:27:56.265      91.566957    71.000000       39.913043   \n",
       "\n",
       "    gpuTempC              start_time  \n",
       "0  37.590909 2018-11-08 08:27:10.606  \n",
       "1  37.590909 2018-11-08 08:27:10.608  \n",
       "2  41.000000 2018-11-08 08:27:10.839  \n",
       "3  41.000000 2018-11-08 08:27:10.846  \n",
       "4  38.695652 2018-11-08 08:27:10.612  "
      ]
     },
     "execution_count": 2,
     "metadata": {},
     "output_type": "execute_result"
    }
   ],
   "source": [
    "gpu_events_df.head()"
   ]
  },
  {
   "cell_type": "markdown",
   "metadata": {},
   "source": [
    "## Data Exploration and Analysis\n",
    "\n",
    "This section concentrates on the process of exploring the data for patterns and interesting features using\n",
    "Exploratory Data Analysis.\n",
    "\n",
    "### Graphical Summaries \n",
    "\n",
    "#### Frequencies \n",
    "\n",
    "##### Event Exectution Times for the Terapixel Rendering Process"
   ]
  },
  {
   "cell_type": "code",
   "execution_count": 3,
   "metadata": {},
   "outputs": [
    {
     "data": {
      "image/png": "[encoded data removed]",
      "text/plain": [
       "<Figure size 432x288 with 1 Axes>"
      ]
     },
     "metadata": {
      "needs_background": "light"
     },
     "output_type": "display_data"
    }
   ],
   "source": [
    "# group by event name (except total) to find execution times\n",
    "event_deltas = gpu_events_df[gpu_events_df['eventName'] != 'TotalRender'].groupby(\n",
    "    ['eventName']).apply(lambda x: x.stop_time - x.start_time)\n",
    "\n",
    "# sum execution times\n",
    "event_deltas.groupby(['eventName']).sum().plot(kind = 'bar')\n",
    "plt.rcParams['figure.figsize'] = [15, 8]"
   ]
  },
  {
   "cell_type": "markdown",
   "metadata": {},
   "source": [
    "It seems that the GPUs overwhelmingly work on rendering most of their time judging by the number of render events in comparison to other events. Also, it can be noticed that the saving configuration event occurs in negligible execution time.\n",
    "\n",
    "##### Assigned Tasks Per GPU "
   ]
  },
  {
   "cell_type": "code",
   "execution_count": 38,
   "metadata": {},
   "outputs": [
    {
     "data": {
      "text/plain": [
       "<matplotlib.axes._subplots.AxesSubplot at 0x2681f562860>"
      ]
     },
     "execution_count": 38,
     "metadata": {},
     "output_type": "execute_result"
    },
    {
     "data": {
      "image/png": "[encoded data removed]",
      "text/plain": [
       "<Figure size 720x432 with 1 Axes>"
      ]
     },
     "metadata": {
      "needs_background": "light"
     },
     "output_type": "display_data"
    }
   ],
   "source": [
    "gpu_events_df['hostname'].value_counts().plot(kind = 'hist')"
   ]
  },
  {
   "cell_type": "markdown",
   "metadata": {},
   "source": [
    "The majority of GPUs are assigned 7, 10, 11 or 12 tasks, however, the assignment isn't consistent as some GPUs handle up to 16-18 tasks and a couple 4, suggesting that the scheduling is not consistent and perhaps could use improvement to ensure load is spread around better.\n",
    "\n",
    "#### Location and Spread\n",
    "\n",
    "##### GPU Statistics "
   ]
  },
  {
   "cell_type": "code",
   "execution_count": 4,
   "metadata": {},
   "outputs": [
    {
     "data": {
      "image/png": "[encoded data removed]",
      "text/plain": [
       "<Figure size 1080x576 with 1 Axes>"
      ]
     },
     "metadata": {
      "needs_background": "light"
     },
     "output_type": "display_data"
    }
   ],
   "source": [
    "plt.subplot(1, 2, 1)\n",
    "plt.boxplot([gpu_events_df['powerDrawWatt'], gpu_events_df['gpuTempC'], \n",
    "             gpu_events_df['gpuUtilPerc'], gpu_events_df['gpuMemUtilPerc']])\n",
    "plt.xticks([1, 2, 3, 4], gpu_stats_labels, rotation='vertical')\n",
    "plt.title('Distribution of GPU Statistics')\n",
    "plt.rcParams['figure.figsize'] = [20, 8]\n",
    "\n",
    "plt.show()"
   ]
  },
  {
   "cell_type": "markdown",
   "metadata": {},
   "source": [
    "As can  be seen in the box plot, the GPU utilisation throughout the render runs seems to average right next to 90 with narrow ranges and with values in the lower scale mostly treated as outliers. This is a good indication, since it shows that the computation resources are well allocated. However, the memory utilisation averages seems much lower at around 50, moreover the Inter Quantile Range is tighter and the Q1 range is much higher, suggesting that memory utilisation is lower than the average more often. This suggests that the rendering task is either non-memory intensive, that the task is not well optimised enough to make use of video memory or that the graphic cards themselves have a lot more memory than needed. \n",
    "\n",
    "GPU temperature seems to be clustered tightly around 40, and the few values that get out of that tight Inter quantile range only reach just under 60 and over 25, and a significant proportion of these are considered outliers. This shows that the temperature management at the clusters is excellent as this is well beyond maximum operating temperatures of some cards like the Tesla P100 (“NVIDIA Tesla Product Literature,” n.d.), especially considering the high GPU Utilisation.\n",
    "\n",
    "The power draw averages just under 100 and has a maximum of 200, considering the distance to the maximum power draw from the Q3 range, getting close to 200 seems quite unlikely. Overall, the power draw looks excellent as even its maximum is well below some modern top end graphic cards like the Tesla P100 (“NVIDIA Tesla Product Literature,” n.d.).\n",
    "\n",
    "##### GPU Statistics by Event Name\n",
    "\n",
    "##### Rendering"
   ]
  },
  {
   "cell_type": "code",
   "execution_count": 5,
   "metadata": {},
   "outputs": [
    {
     "data": {
      "image/png": "[encoded data removed]",
      "text/plain": [
       "<Figure size 1440x576 with 1 Axes>"
      ]
     },
     "metadata": {
      "needs_background": "light"
     },
     "output_type": "display_data"
    }
   ],
   "source": [
    "# group by statistic\n",
    "\n",
    "plt.boxplot([gpu_events_df[gpu_events_df['eventName'] == 'Render']['powerDrawWatt'],\n",
    "            gpu_events_df[gpu_events_df['eventName'] == 'Render']['gpuTempC'],\n",
    "            gpu_events_df[gpu_events_df['eventName'] == 'Render']['gpuUtilPerc'],\n",
    "            gpu_events_df[gpu_events_df['eventName'] == 'Render']['gpuMemUtilPerc']])\n",
    " \n",
    "# setup labels and titles\n",
    "\n",
    "plt.title('Distribution of GPU Statistics in Render Event')\n",
    "plt.xlabel('GPU Statistic')\n",
    "plt.xticks([1, 2, 3, 4], gpu_stats_labels, rotation='vertical')\n",
    "\n",
    "\n",
    "# draw plot\n",
    "\n",
    "plt.rcParams['figure.figsize'] = [8, 6]\n",
    "plt.show()"
   ]
  },
  {
   "cell_type": "markdown",
   "metadata": {},
   "source": [
    "During rendering, the GPU statistics distributions are near identical to the overall distributions shown before - which is not surprisingly since rendering occupies most of the events. However, it can noticed that the distributions are generally tighter and have higher medians, in particular with GPU Utlisiation and Memory Utilisation. Power consumptions and temperature levels however are still not exceedingly high and below upper limits of typical GPUs, suggesting that they might not be a bottleneck. "
   ]
  },
  {
   "cell_type": "code",
   "execution_count": 6,
   "metadata": {},
   "outputs": [
    {
     "data": {
      "image/png": "[encoded data removed]",
      "text/plain": [
       "<Figure size 576x432 with 1 Axes>"
      ]
     },
     "metadata": {
      "needs_background": "light"
     },
     "output_type": "display_data"
    }
   ],
   "source": [
    "# group by statistic\n",
    "\n",
    "plt.boxplot([gpu_events_df[gpu_events_df['eventName'] == 'Tiling']['powerDrawWatt'],\n",
    "            gpu_events_df[gpu_events_df['eventName'] == 'Tiling']['gpuTempC'],\n",
    "            gpu_events_df[gpu_events_df['eventName'] == 'Tiling']['gpuUtilPerc'],\n",
    "            gpu_events_df[gpu_events_df['eventName'] == 'Tiling']['gpuMemUtilPerc']])\n",
    " \n",
    "# setup labels and titles\n",
    "\n",
    "plt.title('Distribution of GPU Statistics in Tiling Event')\n",
    "plt.xticks([1, 2, 3, 4], gpu_stats_labels, rotation='vertical')\n",
    "\n",
    "\n",
    "# draw plot\n",
    "\n",
    "plt.rcParams['figure.figsize'] = [8, 6]\n",
    "plt.show()"
   ]
  },
  {
   "cell_type": "markdown",
   "metadata": {},
   "source": [
    "GPU and memory utilisation during the tiling events seems to be practically zero. Temperatures are lower and power consumption levels are significantly lower. This suggests that the GPUs are idling during the tiling event, hence it won't be an important event when it comes to bottleneck analysis."
   ]
  },
  {
   "cell_type": "code",
   "execution_count": 7,
   "metadata": {},
   "outputs": [
    {
     "data": {
      "image/png": "[encoded data removed]",
      "text/plain": [
       "<Figure size 576x432 with 1 Axes>"
      ]
     },
     "metadata": {
      "needs_background": "light"
     },
     "output_type": "display_data"
    }
   ],
   "source": [
    "# group by statistic\n",
    "\n",
    "plt.boxplot([gpu_events_df[gpu_events_df['eventName'] == 'Uploading']['powerDrawWatt'],\n",
    "            gpu_events_df[gpu_events_df['eventName'] == 'Uploading']['gpuTempC'],\n",
    "            gpu_events_df[gpu_events_df['eventName'] == 'Uploading']['gpuUtilPerc'],\n",
    "            gpu_events_df[gpu_events_df['eventName'] == 'Uploading']['gpuMemUtilPerc']])\n",
    " \n",
    "# setup labels and titles\n",
    "\n",
    "plt.title('Distribution of GPU Statistics in Uploading Event')\n",
    "plt.xticks([1, 2, 3, 4], gpu_stats_labels, rotation='vertical')\n",
    "\n",
    "\n",
    "# draw plot\n",
    "\n",
    "plt.rcParams['figure.figsize'] = [8, 6]\n",
    "plt.show()"
   ]
  },
  {
   "cell_type": "markdown",
   "metadata": {},
   "source": [
    "The plot here seems nearly identical to the plot with the tiling event, as the GPU looks to be idling according to the low power consumption, low temperatures and near complete lack of utilisation. Hence, like the tiling event, the uploading event will not be crucial during the bottleneck analysis."
   ]
  },
  {
   "cell_type": "markdown",
   "metadata": {},
   "source": [
    "### Rendering Performance Analysis \n",
    "\n",
    "As previously stated, the saving configuration events are near negligible due to their rare occurrences. Moreover, the tiling and uploading events do not seem to make use of the GPUs as they seem to be idling during these events. Hence, rendering events need to be analysed for bottlenecks. To analyse the rendering performance, rendering times can be used as an indication. To find rendering times we find the execution times by grouping - just as done with the event execution times plot. \n",
    "\n",
    "#### Render Execution Times Distribution (General)"
   ]
  },
  {
   "cell_type": "code",
   "execution_count": 8,
   "metadata": {},
   "outputs": [
    {
     "data": {
      "image/png": "[encoded data removed]",
      "text/plain": [
       "<Figure size 576x432 with 1 Axes>"
      ]
     },
     "metadata": {
      "needs_background": "light"
     },
     "output_type": "display_data"
    }
   ],
   "source": [
    "render_deltas = gpu_events_df[\n",
    "    gpu_events_df['eventName'] == 'Render'].groupby(\n",
    "    ['eventName']).apply(\n",
    "    lambda x: x.stop_time - x.start_time)\n",
    "\n",
    "# sum execution times\n",
    "render_deltas.sum().plot(kind = 'box')\n",
    "plt.rcParams['figure.figsize'] = [7, 5]"
   ]
  },
  {
   "cell_type": "markdown",
   "metadata": {},
   "source": [
    "The distribution of render times has a narrow inter quantile range, but a wide minimum to maximum range and a significant number of outliers - in particular above the maximum. This suggests while generally GPUs have consistent performance, there are a couple of GPUs that perform considerably worse."
   ]
  },
  {
   "cell_type": "markdown",
   "metadata": {},
   "source": [
    "#### Render Execution Times By Temperature "
   ]
  },
  {
   "cell_type": "code",
   "execution_count": 29,
   "metadata": {},
   "outputs": [
    {
     "data": {
      "image/png": "[encoded data removed]",
      "text/plain": [
       "<Figure size 720x432 with 1 Axes>"
      ]
     },
     "metadata": {
      "needs_background": "light"
     },
     "output_type": "display_data"
    }
   ],
   "source": [
    "temp_med = statistics.median(gpu_events_df['gpuTempC'])\n",
    "\n",
    "render_deltas_under = gpu_events_df[\n",
    "    (gpu_events_df['gpuTempC'] <= temp_med) & \n",
    "    (gpu_events_df['eventName'] == 'Render')].groupby(\n",
    "    ['eventName']).apply(lambda x: x.stop_time - x.start_time)\n",
    "\n",
    "render_deltas_over = gpu_events_df[\n",
    "    (gpu_events_df['gpuTempC'] > temp_med) & \n",
    "    (gpu_events_df['eventName'] == 'Render')].groupby(\n",
    "    ['eventName']).apply(lambda x: x.stop_time - x.start_time)\n",
    "\n",
    "# sum execution times\n",
    "plt.boxplot([render_deltas_under.sum(), render_deltas_over.sum()])\n",
    "plt.rcParams['figure.figsize'] = [10, 6]"
   ]
  },
  {
   "cell_type": "markdown",
   "metadata": {},
   "source": [
    "At temperatures higher than the median, while the average does go up the 3rd quantile does not exceed the 3rd quantile of the other box. However, there is a sudden significant increase of outliers, in particular above the maximum.  \n",
    "\n",
    "#### Render Execution Times By Power Draw "
   ]
  },
  {
   "cell_type": "code",
   "execution_count": 30,
   "metadata": {},
   "outputs": [
    {
     "data": {
      "image/png": "[encoded data removed]",
      "text/plain": [
       "<Figure size 720x432 with 1 Axes>"
      ]
     },
     "metadata": {
      "needs_background": "light"
     },
     "output_type": "display_data"
    }
   ],
   "source": [
    "power_med = statistics.median(gpu_events_df['powerDrawWatt'])\n",
    "\n",
    "render_deltas_under = gpu_events_df[\n",
    "    (gpu_events_df['powerDrawWatt'] <= power_med) & \n",
    "    (gpu_events_df['eventName'] == 'Render')].groupby(\n",
    "    ['eventName']).apply(lambda x: x.stop_time - x.start_time)\n",
    "\n",
    "render_deltas_over = gpu_events_df[\n",
    "    (gpu_events_df['powerDrawWatt'] > power_med) & \n",
    "    (gpu_events_df['eventName'] == 'Render')].groupby(\n",
    "    ['eventName']).apply(lambda x: x.stop_time - x.start_time)\n",
    "\n",
    "plt.boxplot([render_deltas_under.sum(), render_deltas_over.sum()])\n",
    "plt.rcParams['figure.figsize'] = [10, 6]"
   ]
  },
  {
   "cell_type": "markdown",
   "metadata": {},
   "source": [
    "This plot is similar to the previous plot, but the increase in quantiles at the \"above the median\" box is now more noticable. Perhaps the cooling solution is very effective that the temperature increase is negligible even with increased power draw. Nonetheless, it seems that the number of outliers goes up significantly again, and in particular above the maximum.\n",
    "\n",
    "## Conclusions and Data Quality \n",
    "\n",
    "## References\n",
    "\n",
    "1. NVIDIA Tesla Product Literature [WWW Document], n.d. . NVIDIA. URL https://www.nvidia.com/en-us/data-center/tesla-product-literature/ (accessed 1.24.19)."
   ]
  }
 ],
 "metadata": {
  "celltoolbar": "Edit Metadata",
  "kernelspec": {
   "display_name": "Python 3",
   "language": "python",
   "name": "python3"
  },
  "language_info": {
   "codemirror_mode": {
    "name": "ipython",
    "version": 3
   },
   "file_extension": ".py",
   "mimetype": "text/x-python",
   "name": "python",
   "nbconvert_exporter": "python",
   "pygments_lexer": "ipython3",
   "version": "3.7.0"
  },
  "latex_envs": {
   "LaTeX_envs_menu_present": true,
   "autoclose": false,
   "autocomplete": true,
   "bibliofile": "biblio.bib",
   "cite_by": "apalike",
   "current_citInitial": 1,
   "eqLabelWithNumbers": true,
   "eqNumInitial": 1,
   "hotkeys": {
    "equation": "Ctrl-E",
    "itemize": "Ctrl-I"
   },
   "labels_anchors": false,
   "latex_user_defs": false,
   "report_style_numbering": false,
   "user_envs_cfg": false
  },
  "toc": {
   "base_numbering": 1,
   "nav_menu": {},
   "number_sections": true,
   "sideBar": true,
   "skip_h1_title": true,
   "title_cell": "Table of Contents",
   "title_sidebar": "Contents",
   "toc_cell": true,
   "toc_position": {
    "height": "calc(100% - 180px)",
    "left": "10px",
    "top": "150px",
    "width": "189.6px"
   },
   "toc_section_display": true,
   "toc_window_display": true
  }
 },
 "nbformat": 4,
 "nbformat_minor": 2
}
