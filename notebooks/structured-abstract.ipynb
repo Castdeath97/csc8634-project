{
 "cells": [
  {
   "cell_type": "markdown",
   "metadata": {},
   "source": [
    "## Context\n",
    "\n",
    "Terapixel and high resolution imaging reconstruction and tiling is becoming a critical tool in many fields, but their processing is difficult. Hence, findings ways to optimise and Terapixel processing performance - particularly over the cloud where they are usually deployed for scalability -  is critical. \n",
    " \n",
    "## Objective\n",
    "\n",
    "This project aim is to analyse the bottlenecks and trends of the usage of graphical processing units (GPUs) deployed for a terapixel rendering jobs of Newcastle upon Tyne over a cloud computing platform (Microsoft Azure). This will be specifically done by analysing the paralellisim of the workload, memory usage and GPUs response to scaling and heavy loads.\n",
    "\t\n",
    "## Method\n",
    "\n",
    "This project follows the CRISP DM approach for the data mining process, specifically dividing the process up to stages and reports. A business understanding covers the background, justification, objectives and project plan for the data mining project. And, a Data Preparation stage to cover the data cleaning and preparation process. And finally, a data Understanding and evaluation stage where he data exploratory process is undertaken with the evaluation of the project and its results \n",
    "    \n",
    "## Results\n",
    "\n",
    "The results have shown that rendering optimisation is critical, since rendering is one of the most important events of a terapixel rendering process as it occupies most of the execution times. The results have also shown that GPU memory utilisation in the terapixel process was poor in comparison to the GPU utilisation, which might have caused a bottleneck. Lastly, the scheduling of the tasks to GPUs was not as balanced as possible and that some cards might have had worse tolerances to temperature and power usage.\n",
    "\t\n",
    "## Novelty\n",
    "\n",
    "According to the literature review conducted in this project, while the topics of GPU bottleneck analysis, cloud performance analysis and terapixel processing complexity and individually covered, it seems rare to see all three topics combined. This is strange since the use of GPUs and cloud platforms with terapixel processing seems reasonable due to the workload and scalability requirements of such projects as also stated in the literature review conducted. This project attempts to rectify this issue by analysing all three topics.\n"
   ]
  }
 ],
 "metadata": {
  "kernelspec": {
   "display_name": "Python 3",
   "language": "python",
   "name": "python3"
  },
  "language_info": {
   "codemirror_mode": {
    "name": "ipython",
    "version": 3
   },
   "file_extension": ".py",
   "mimetype": "text/x-python",
   "name": "python",
   "nbconvert_exporter": "python",
   "pygments_lexer": "ipython3",
   "version": "3.7.0"
  },
  "latex_envs": {
   "LaTeX_envs_menu_present": true,
   "autoclose": false,
   "autocomplete": true,
   "bibliofile": "biblio.bib",
   "cite_by": "apalike",
   "current_citInitial": 1,
   "eqLabelWithNumbers": true,
   "eqNumInitial": 1,
   "hotkeys": {
    "equation": "Ctrl-E",
    "itemize": "Ctrl-I"
   },
   "labels_anchors": false,
   "latex_user_defs": false,
   "report_style_numbering": false,
   "user_envs_cfg": false
  },
  "toc": {
   "base_numbering": 1,
   "nav_menu": {},
   "number_sections": false,
   "sideBar": true,
   "skip_h1_title": false,
   "title_cell": "Table of Contents",
   "title_sidebar": "Contents",
   "toc_cell": false,
   "toc_position": {},
   "toc_section_display": true,
   "toc_window_display": true
  }
 },
 "nbformat": 4,
 "nbformat_minor": 2
}
