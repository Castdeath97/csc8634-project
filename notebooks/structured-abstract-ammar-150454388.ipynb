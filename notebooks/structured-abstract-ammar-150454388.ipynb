{
 "cells": [
  {
   "cell_type": "markdown",
   "metadata": {},
   "source": [
    "## Context\n",
    "\n",
    "Terapixel and high resolution imaging reconstruction and tiling is becoming a critical tool in many fields, but their processing is difficult and their optimisation is critical. \n",
    " \n",
    "## Objective\n",
    "\n",
    "Hence, this project aim is to analyse the bottlenecks and trends of the usage of GPUs deployed for a terapixel rendering jobs of a City over a cloud computing platform. This will be specifically done by analysing the paralellisim of the workload, memory usage and GPUs response to scaling and heavy loads.\n",
    "\t\n",
    "## Method\n",
    "\n",
    "To achieve this the project follows the CRISP DM approach for the data mining process, specifically dividing the process up to stages and reports. This process will be used to carry an exploratory analysis on the data.\n",
    "    \n",
    "## Results\n",
    "\n",
    "The results from the process have shown that rendering is an important events of a terapixel rendering process, occupying most of the execution times. The results have also shown that GPU memory utilisation was poor, which might have caused a bottleneck. Lastly, the scheduling of the tasks to GPUs was not as balanced as possible and that some cards might have had worse tolerances to temperature and power usage.\n",
    "\t\n",
    "## Novelty\n",
    "\n",
    "In other literature, while the topics of GPU bottleneck, cloud performance and terapixel processing analysis are individually covered, it seems rare to see all three topics combined. This is strange since the use of GPUs and cloud platforms with terapixel processing seems reasonable due to the workload and scalability requirements of such projects. This project attempts to rectify this issue by analysing all three topics."
   ]
  },
  {
   "cell_type": "markdown",
   "metadata": {},
   "source": [
    "![More Tasks scheduled to be some GPUs than others](../reports/figures/tasks-histo.png)\n",
    "\n",
    "![There a couple of outlier GPUs that take more time rendering at higher power draws](../reports/figures/median-power.png)"
   ]
  }
 ],
 "metadata": {
  "kernelspec": {
   "display_name": "Python 3",
   "language": "python",
   "name": "python3"
  },
  "language_info": {
   "codemirror_mode": {
    "name": "ipython",
    "version": 3
   },
   "file_extension": ".py",
   "mimetype": "text/x-python",
   "name": "python",
   "nbconvert_exporter": "python",
   "pygments_lexer": "ipython3",
   "version": "3.7.0"
  },
  "latex_envs": {
   "LaTeX_envs_menu_present": true,
   "autoclose": false,
   "autocomplete": true,
   "bibliofile": "biblio.bib",
   "cite_by": "apalike",
   "current_citInitial": 1,
   "eqLabelWithNumbers": true,
   "eqNumInitial": 1,
   "hotkeys": {
    "equation": "Ctrl-E",
    "itemize": "Ctrl-I"
   },
   "labels_anchors": false,
   "latex_user_defs": false,
   "report_style_numbering": false,
   "user_envs_cfg": false
  },
  "toc": {
   "base_numbering": 1,
   "nav_menu": {},
   "number_sections": false,
   "sideBar": true,
   "skip_h1_title": false,
   "title_cell": "Table of Contents",
   "title_sidebar": "Contents",
   "toc_cell": false,
   "toc_position": {},
   "toc_section_display": true,
   "toc_window_display": true
  }
 },
 "nbformat": 4,
 "nbformat_minor": 2
}
