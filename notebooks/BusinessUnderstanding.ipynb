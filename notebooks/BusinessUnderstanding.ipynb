{
 "cells": [
  {
   "cell_type": "markdown",
   "metadata": {},
   "source": [
    "# Business Understanding Report \n",
    "### Ammar Hasan 150454388\n",
    "\n",
    "## Report Introduction \n",
    "\n",
    "This report documents the Business Understanding stage of the CRISP-DM process followed by this project. This stage documents decisions from a business/stakeholder perspective, highlighting the objectives and requirements of the data mining project to form its problem definition (the specification).\n",
    "\n",
    "## Organisation and Organisational Objectives \n",
    "\n",
    "Even though this project is not directly related to any business or an organisation, this project needs to have a beneficial impact to problems faced by stakeholders that were not tackled before. \n",
    "\n",
    "### Background \n",
    "\n",
    "This project objective is to analyse the bottlenecks of the graphical processing units (GPUs) deployed for a terapixel rendering job over a cloud computing platform.\n",
    "\n",
    "In terapixel processing\n",
    "\n",
    "The job ..\n",
    "\n",
    "### Resources and Data\n",
    "\n",
    "The datasets provided are based on the results from a run of three 3 jobs (levels 4, 8 and 12) using 1024 GPU nodes, recording timings of the rendering, GPU performance, and which image details are being rendering. \n",
    "\n",
    "This data is divided into three separated datasets stored in .csv files:\n",
    "\n",
    "* gpu.csv: GPU status\n",
    "* application-checkpoints.csv: checkpoint events throughout render job\n",
    "* task-x-y.csv: Co-ordinates of image parts being rendered in tasks\n",
    "\n",
    "### Success Critera and Objectives \n",
    "\n",
    "To obtain what criterion should the models pass a look into what stakeholders on the field expect. To do this, a look into published work in the area is necessary. \n",
    "\n",
    "## Project Specification and Plan\n",
    "\n",
    "### Requirements and Rationale \n",
    "\n",
    "\n",
    "\n",
    "\n",
    "### Tools\n",
    "\n",
    "-> Cookie Cutter \n",
    "-> github and git \n",
    "-> pytests\n",
    "-> sphinx and python notebook \n",
    "-> spark equiv \n",
    "\n",
    "\n",
    "### Project Plan and Risks\n",
    "\n",
    "\n",
    "\n"
   ]
  }
 ],
 "metadata": {
  "kernelspec": {
   "display_name": "Python 3",
   "language": "python",
   "name": "python3"
  },
  "language_info": {
   "codemirror_mode": {
    "name": "ipython",
    "version": 3
   },
   "file_extension": ".py",
   "mimetype": "text/x-python",
   "name": "python",
   "nbconvert_exporter": "python",
   "pygments_lexer": "ipython3",
   "version": "3.7.0"
  },
  "latex_envs": {
   "LaTeX_envs_menu_present": true,
   "autoclose": false,
   "autocomplete": true,
   "bibliofile": "biblio.bib",
   "cite_by": "apalike",
   "current_citInitial": 1,
   "eqLabelWithNumbers": true,
   "eqNumInitial": 1,
   "hotkeys": {
    "equation": "Ctrl-E",
    "itemize": "Ctrl-I"
   },
   "labels_anchors": false,
   "latex_user_defs": false,
   "report_style_numbering": false,
   "user_envs_cfg": false
  }
 },
 "nbformat": 4,
 "nbformat_minor": 2
}
