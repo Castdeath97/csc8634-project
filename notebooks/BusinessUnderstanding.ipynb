{
 "cells": [
  {
   "cell_type": "markdown",
   "metadata": {},
   "source": [
    "# Business Understanding Report \n",
    "### Ammar Hasan 150454388\n",
    "\n",
    "## Report Introduction \n",
    "\n",
    "This report documents the Business Understanding stage of the CRISP-DM process followed by this project. This stage documents decisions from a business/stakeholder perspective, highlighting the objectives and requirements of the data mining project to form its problem definition (the specification).\n",
    "\n",
    "## Organisation and Organisational Objectives \n",
    "\n",
    "Even though this project is not directly related to any business or an organisation, this project needs to have a beneficial impact to problems faced by stakeholders that were not tackled before. \n",
    "\n",
    "### Background \n",
    "\n",
    "Terapixel and high resolution imaging reconstruction and tiling is becoming crucial in many fields, however due to their high resolution nature become overwhelming in size and difficult to process. (Wang et al., 2015). Due to this, a lot of Terapixel processing application might require powerful high performance computational resources which might be offerer over cloud computing for scalability due to the inconsistency of scientific workflows and for better economics (Agarwal et al., 2011). Heavy workloads like terapixel processing make use of graphical processing units (GPUs), but GPUs generally bottleneck HPC application due to the difficulty of optimising their performance (Madougou et al., 2016).\n",
    "\n",
    "This project objective is to analyse the bottlenecks of the graphical processing units (GPUs) deployed for a terapixel rendering jobs over a cloud computing platform. The jobs are involved with a terapixel visualisation of Newcastle upon Tyne by the Urban Observatory, which is used to visualise environmental data throughout the city. The compuational power for the visualisation is provided by public IaaS cloud GPU nodes.\n",
    "\n",
    "### Resources and Data\n",
    "\n",
    "The datasets provided are based on the results from a run of three 3 jobs (levels 4, 8 and 12) using 1024 GPU nodes, recording timings of the rendering, GPU performance, and which image details are being rendering. This data is divided into three separated datasets stored in .csv files:\n",
    "\n",
    "* gpu.csv: GPU status\n",
    "* application-checkpoints.csv: checkpoint events throughout render job\n",
    "* task-x-y.csv: Co-ordinates of image parts being rendered in tasks\n",
    "\n",
    "### Success Critera and Objectives \n",
    "\n",
    "To obtain what criterion should the models pass a look into what stakeholders on the field expect. To do this, a look into published work in the area is necessary. \n",
    "\n",
    "## Project Specification and Plan\n",
    "\n",
    "### Requirements and Rationale \n",
    "\n",
    "\n",
    "\n",
    "\n",
    "### Tools\n",
    "\n",
    "Analytics and modelling steps will be performed using python code and libraries (e.g. matplotlib), which are tested with the pytest library and reported on using python notebook (literate programming). Documentation for the code will be managed using reStructuredText based Sphinx and saved as HTML pages (“Overview — Sphinx 2.0.0+/4f37b33 documentation,” n.d.). The project structure template is created using a Cookie Cutter Data Science hierarchy (“Home - Cookiecutter Data Science,” n.d.), the entire project hierarchy is version controlled using git and GitHub. Lastly, a dashboard ...\n",
    "\n",
    "\n",
    "### Project Plan and Risks\n",
    "\n",
    "\n",
    "\n"
   ]
  }
 ],
 "metadata": {
  "kernelspec": {
   "display_name": "Python 3",
   "language": "python",
   "name": "python3"
  },
  "language_info": {
   "codemirror_mode": {
    "name": "ipython",
    "version": 3
   },
   "file_extension": ".py",
   "mimetype": "text/x-python",
   "name": "python",
   "nbconvert_exporter": "python",
   "pygments_lexer": "ipython3",
   "version": "3.7.0"
  },
  "latex_envs": {
   "LaTeX_envs_menu_present": true,
   "autoclose": false,
   "autocomplete": true,
   "bibliofile": "biblio.bib",
   "cite_by": "apalike",
   "current_citInitial": 1,
   "eqLabelWithNumbers": true,
   "eqNumInitial": 1,
   "hotkeys": {
    "equation": "Ctrl-E",
    "itemize": "Ctrl-I"
   },
   "labels_anchors": false,
   "latex_user_defs": false,
   "report_style_numbering": false,
   "user_envs_cfg": false
  }
 },
 "nbformat": 4,
 "nbformat_minor": 2
}
