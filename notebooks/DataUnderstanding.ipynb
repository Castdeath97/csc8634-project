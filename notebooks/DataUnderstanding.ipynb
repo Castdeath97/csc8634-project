{
 "cells": [
  {
   "cell_type": "markdown",
   "metadata": {
    "toc": true
   },
   "source": [
    "<h1>Table of Contents<span class=\"tocSkip\"></span></h1>\n",
    "<div class=\"toc\"><ul class=\"toc-item\"><li><span><a href=\"#Report-Introduction\" data-toc-modified-id=\"Report-Introduction-1\"><span class=\"toc-item-num\">1&nbsp;&nbsp;</span>Report Introduction</a></span></li><li><span><a href=\"#Data-Background\" data-toc-modified-id=\"Data-Background-2\"><span class=\"toc-item-num\">2&nbsp;&nbsp;</span>Data Background</a></span></li><li><span><a href=\"#Data-Description\" data-toc-modified-id=\"Data-Description-3\"><span class=\"toc-item-num\">3&nbsp;&nbsp;</span>Data Description</a></span></li><li><span><a href=\"#Data-Exploration-and-Analysis\" data-toc-modified-id=\"Data-Exploration-and-Analysis-4\"><span class=\"toc-item-num\">4&nbsp;&nbsp;</span>Data Exploration and Analysis</a></span><ul class=\"toc-item\"><li><span><a href=\"#Graphical-Summaries\" data-toc-modified-id=\"Graphical-Summaries-4.1\"><span class=\"toc-item-num\">4.1&nbsp;&nbsp;</span>Graphical Summaries</a></span><ul class=\"toc-item\"><li><span><a href=\"#Frequencies\" data-toc-modified-id=\"Frequencies-4.1.1\"><span class=\"toc-item-num\">4.1.1&nbsp;&nbsp;</span>Frequencies</a></span></li><li><span><a href=\"#Location-and-Spread\" data-toc-modified-id=\"Location-and-Spread-4.1.2\"><span class=\"toc-item-num\">4.1.2&nbsp;&nbsp;</span>Location and Spread</a></span></li></ul></li><li><span><a href=\"#Cluster-Analysis\" data-toc-modified-id=\"Cluster-Analysis-4.2\"><span class=\"toc-item-num\">4.2&nbsp;&nbsp;</span>Cluster Analysis</a></span></li></ul></li><li><span><a href=\"#Conclusions-and-Data-Quality\" data-toc-modified-id=\"Conclusions-and-Data-Quality-5\"><span class=\"toc-item-num\">5&nbsp;&nbsp;</span>Conclusions and Data Quality</a></span></li></ul></div>"
   ]
  },
  {
   "cell_type": "markdown",
   "metadata": {},
   "source": [
    "<h1 class=\"tocSkip\"><center class=\"tocSkip\">Data Understanding Report</center></h1>\n",
    "<h1 class=\"tocSkip\"><center class=\"tocSkip\"><i class=\"tocSkip\">Ammar Hasan 150454388</i></center></h1>\n",
    "\n",
    "## Report Introduction \n",
    "\n",
    "This report documents the Data Understanding stage of the CRISP DM cycle. The Data Understanding\n",
    "stage involves the process of collecting insights about the data, which are used to help form hypothesis for\n",
    "later analysis, and information to help with modelling. The process involves data descriptions, explorations and quality verification. In this project\n",
    "this would involve analysing the frequencies, spread, location and patterns of Skin Lesion conditions through the population features and the lesions' visual make up. \n",
    "\n",
    "## Data Background \n",
    "\n",
    "As stated in the Business Understanding and Data Preparation Stage reports, the provided dataset consists of results from running three jobs of a terapixel render of the city of Newcastle upon Tyne in three levels (4, 8, 12) of terapixel image with 1024 GPU nodes over a cloud service. The data is recorded in csv files for the GPU stats, event checkpoints through rendering and rendering task details.\n",
    "\n",
    "## Data Description \n",
    "\n",
    "The full description of the data is covered in the data preparation stage, but to sum up the following fields from two datasets are formed after preprocessing: \n",
    "\n",
    "#### GPU Dataset\n",
    "\n",
    "* timestamp (textual): Timestamp for tuple in 'YYYY-MM-DDTH:M:S.fZ' format\n",
    "* hostname (textual): Unique system ID assigned to the Machine GPU runs from by Microsoft Azure\n",
    "* gpuUUID (textual): Unique GPU ID assigned to the Machine GPU runs from by Microsoft Azure\n",
    "* powerDrawWatt (numerical): Power draw of system (Watts)\n",
    "* gpuTempC (numerical): The GPU temperature (Celsius) \n",
    "* gpuUtilPerc (numerical): GPU Utilisation % (0-100)\n",
    "* gpuMemUtilPerc (numerical): GPU memory usage % (0-100)\n",
    "\n",
    "#### Checkpoints and Tasks Dataset\n",
    "\n",
    "* timestamp (textual): Timestamp for tuple in 'YYYY-MM-DDTH:M:S.fZ' format\n",
    "* hostname (textual): Unique system ID assigned to the Machine GPU runs from by Microsoft Azure\n",
    "* eventName (textual): Name of current event occurring in the rendering process. Possible values:\n",
    "    - TotalRender: The task itself\n",
    "\t- Render: Image tile being rendered \n",
    "    - Saving Config: Configuration overhead\n",
    "\t- Tiling: Tile postprocessing\n",
    "\t- Uploading: output uploading to Azure Blob Storage\n",
    "* eventType (textual): (START or STOP)\n",
    "* x (numerical): X coordinate of tile being rendered \n",
    "* y (numerical): Y coordinate of tile being rendered \n",
    "* level (numerical): Visualisation level (zoom) within the terapixel map (4, 8, 12)\n",
    "\n",
    "\n",
    "## Data Exploration and Analysis\n",
    "\n",
    "### Graphical Summaries \n",
    "\n",
    "#### Frequencies \n",
    "\n",
    "#### Location and Spread\n",
    "\n",
    "### Cluster Analysis \n",
    "\n",
    "## Conclusions and Data Quality "
   ]
  }
 ],
 "metadata": {
  "kernelspec": {
   "display_name": "Python 3",
   "language": "python",
   "name": "python3"
  },
  "language_info": {
   "codemirror_mode": {
    "name": "ipython",
    "version": 3
   },
   "file_extension": ".py",
   "mimetype": "text/x-python",
   "name": "python",
   "nbconvert_exporter": "python",
   "pygments_lexer": "ipython3",
   "version": "3.7.0"
  },
  "latex_envs": {
   "LaTeX_envs_menu_present": true,
   "autoclose": false,
   "autocomplete": true,
   "bibliofile": "biblio.bib",
   "cite_by": "apalike",
   "current_citInitial": 1,
   "eqLabelWithNumbers": true,
   "eqNumInitial": 1,
   "hotkeys": {
    "equation": "Ctrl-E",
    "itemize": "Ctrl-I"
   },
   "labels_anchors": false,
   "latex_user_defs": false,
   "report_style_numbering": false,
   "user_envs_cfg": false
  },
  "toc": {
   "base_numbering": 1,
   "nav_menu": {},
   "number_sections": true,
   "sideBar": true,
   "skip_h1_title": true,
   "title_cell": "Table of Contents",
   "title_sidebar": "Contents",
   "toc_cell": true,
   "toc_position": {},
   "toc_section_display": true,
   "toc_window_display": true
  }
 },
 "nbformat": 4,
 "nbformat_minor": 2
}
