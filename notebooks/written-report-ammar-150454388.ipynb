{
 "cells": [
  {
   "cell_type": "markdown",
   "metadata": {
    "toc": true
   },
   "source": [
    "<h1>Table of Contents<span class=\"tocSkip\"></span></h1>\n",
    "<div class=\"toc\"><ul class=\"toc-item\"><li><span><a href=\"#Introduction\" data-toc-modified-id=\"Introduction-1\"><span class=\"toc-item-num\">1&nbsp;&nbsp;</span>Introduction</a></span></li><li><span><a href=\"#Project-Background-and-Justification\" data-toc-modified-id=\"Project-Background-and-Justification-2\"><span class=\"toc-item-num\">2&nbsp;&nbsp;</span>Project Background and Justification</a></span></li><li><span><a href=\"#Project-Criteria/Objectives\" data-toc-modified-id=\"Project-Criteria/Objectives-3\"><span class=\"toc-item-num\">3&nbsp;&nbsp;</span>Project Criteria/Objectives</a></span></li><li><span><a href=\"#Tools,-Methodology-and-Evaluation-Design\" data-toc-modified-id=\"Tools,-Methodology-and-Evaluation-Design-4\"><span class=\"toc-item-num\">4&nbsp;&nbsp;</span>Tools, Methodology and Evaluation Design</a></span></li><li><span><a href=\"#Exploratory-Findings-and-Results\" data-toc-modified-id=\"Exploratory-Findings-and-Results-5\"><span class=\"toc-item-num\">5&nbsp;&nbsp;</span>Exploratory Findings and Results</a></span></li><li><span><a href=\"#Evaluation-and-Future-work\" data-toc-modified-id=\"Evaluation-and-Future-work-6\"><span class=\"toc-item-num\">6&nbsp;&nbsp;</span>Evaluation and Future work</a></span></li></ul></div>"
   ]
  },
  {
   "cell_type": "markdown",
   "metadata": {},
   "source": [
    "## Introduction \n",
    "\n",
    "This report covers the Cloud Computing data mining project on Terapixel Processing Graphic Processing Units (GPUs) bottlenecking by summarising the project's background, objectives, methods and findings. Moreover, this report will also reflect on the project processes and tools. This report however is a summary of the CRISP DM documents produced by this project, hence detailed findings will not be covered here. \n",
    "\n",
    "## Project Background and Justification\n",
    "\n",
    "Terapixel and high resolution imaging reconstruction and tiling is becoming a critical tool in many fields. However the high resolution nature of terapixel processing makes it overwhelming in size and difficult to process. Hence, Terapixel processing requires powerful high performance computational resources (like high end GPUs) that are typically offered over cloud servies for scalability. Hence, improving GPU performance of terapixel processing solutions that are delivered over the cloud is important, to help improve terapixel complex processing. \n",
    "\n",
    "## Project Criteria/Objectives \n",
    "\n",
    "This project aim is to analyse the bottlenecks and trends of the usage of graphical processing units (GPUs) deployed for terapixel rendering jobs of Newcastle upon Tyne over a cloud computing platform (Microsoft Azure). The specific criteria that this project needs to complete went as below: \n",
    "\n",
    "* Analyse how well the cloud application parallelises the workload\n",
    "* Measure and analyse memory usage\n",
    "* Measure how well the GPUs respond to varying data scales and loads\n",
    "\n",
    "## Tools, Methodology and Evaluation Design\n",
    "\n",
    "The project will follow the CRISP-DM hierarchical cyclic process model for data mining (Chapman et al., 2000) to provide the process for data mining in this project. The project and make use of Test Driven Development (PyTests) and literate programing (Jupyter Notebook), which are used to ensure that both tasks of testing documentation can be carried simultaneously with the coding process. Git and Github is used for version control to manage the progress of cookie cutter based project template, the code in that project will also be documented with the help of Sphinx. \n",
    "\n",
    "The project will be divided into these stages according to the produced CRISP DM based reports: \n",
    "\n",
    "1. Business Understanding:\n",
    "    - This report covers the background, justification, objectives and project plan for the data mining project.\n",
    "2. Data Preparation:\n",
    "    - This report covers how the data was cleaned and prepared.\n",
    "3. Data Understanding and Evaluation:\n",
    "    - This report covers the data exploratory process undertaken in this project, and its evaluation and the evaluation of the project in general.\n",
    "\n",
    "## Exploratory Findings and Results \n",
    "\n",
    "The exploratory findings have shown that the rendering task is one of the most important and time consuming tasks in the terapixel rendering process, as it topped the execution times and used the GPUs the most. The project has found that while the GPU itself was well utilised, the memory of the GPU of itself might have not been as well utilised showing lower usages even during rendering, perhaps causing a bottleneck. Moreover, it seems that there was some evidence that some cards seem to have different tolerances to voltage and temperature, as they performed significantly worse when power draw and temperature increased than their peers appearing as outliers, perhaps causing slowdown.  \n",
    "\n",
    "Other interesting results include how it seemed that overall the readings for temperatures and power draw were quite impressive when compared to some modern GPUs showing low readings (averages of <100W and 40C!), which suits the long run time based cloud environment. And, how the scheduling of tasks, while on average slightly balanced, seemed to have made a couple cards that carry significantly less tasks than others.\n",
    "\n",
    "## Evaluation and Future work \n",
    "\n",
    "The project seemed to have met most of its criteria and provided a lot interesting outlooks on bottlenecks, however some issues were recognised with the use the lack of exact memory measurements and the lack of variation analysis on a task per task basis (instead relying on just the averages). Hence, further memory analysis with more memory statistics, analysis of tiling scaling and with in task variation analysis might be considered in future projects. \n",
    "\n",
    "When it came to the techniques and tools used in this project, while the newer cookie cutter python based environment provided useful tools with more intricate controls (e.g. VirtualEnv for isolation), it proved to be a significant hurdle in the early stages of the project. The newer tools seemed to not have as many conveniences like some R based tools like Project Template (e.g. automatic dataset loading). Nonetheless, the experiences with some of the tool - in particular Sphinx documents and virtual enviroments - will prove useful in future projects.  "
   ]
  }
 ],
 "metadata": {
  "kernelspec": {
   "display_name": "Python 3",
   "language": "python",
   "name": "python3"
  },
  "language_info": {
   "codemirror_mode": {
    "name": "ipython",
    "version": 3
   },
   "file_extension": ".py",
   "mimetype": "text/x-python",
   "name": "python",
   "nbconvert_exporter": "python",
   "pygments_lexer": "ipython3",
   "version": "3.7.0"
  },
  "latex_envs": {
   "LaTeX_envs_menu_present": true,
   "autoclose": false,
   "autocomplete": true,
   "bibliofile": "biblio.bib",
   "cite_by": "apalike",
   "current_citInitial": 1,
   "eqLabelWithNumbers": true,
   "eqNumInitial": 1,
   "hotkeys": {
    "equation": "Ctrl-E",
    "itemize": "Ctrl-I"
   },
   "labels_anchors": false,
   "latex_user_defs": false,
   "report_style_numbering": false,
   "user_envs_cfg": false
  },
  "toc": {
   "base_numbering": 1,
   "nav_menu": {},
   "number_sections": true,
   "sideBar": true,
   "skip_h1_title": true,
   "title_cell": "Table of Contents",
   "title_sidebar": "Contents",
   "toc_cell": true,
   "toc_position": {},
   "toc_section_display": true,
   "toc_window_display": true
  }
 },
 "nbformat": 4,
 "nbformat_minor": 2
}
