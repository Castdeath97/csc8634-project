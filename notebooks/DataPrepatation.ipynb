{
 "cells": [
  {
   "cell_type": "markdown",
   "metadata": {
    "toc": true
   },
   "source": [
    "<h1>Table of Contents<span class=\"tocSkip\"></span></h1>\n",
    "<div class=\"toc\"><ul class=\"toc-item\"><li><span><a href=\"#Introduction\" data-toc-modified-id=\"Introduction-1\"><span class=\"toc-item-num\">1&nbsp;&nbsp;</span>Introduction</a></span></li><li><span><a href=\"#Data-Background\" data-toc-modified-id=\"Data-Background-2\"><span class=\"toc-item-num\">2&nbsp;&nbsp;</span>Data Background</a></span></li><li><span><a href=\"#Datasets-Description\" data-toc-modified-id=\"Datasets-Description-3\"><span class=\"toc-item-num\">3&nbsp;&nbsp;</span>Datasets Description</a></span><ul class=\"toc-item\"><li><span><a href=\"#Fields\" data-toc-modified-id=\"Fields-3.1\"><span class=\"toc-item-num\">3.1&nbsp;&nbsp;</span>Fields</a></span><ul class=\"toc-item\"><li><span><a href=\"#GPU-Dataset\" data-toc-modified-id=\"GPU-Dataset-3.1.1\"><span class=\"toc-item-num\">3.1.1&nbsp;&nbsp;</span>GPU Dataset</a></span></li><li><span><a href=\"#Checkpoints-and-Tasks-Dataset\" data-toc-modified-id=\"Checkpoints-and-Tasks-Dataset-3.1.2\"><span class=\"toc-item-num\">3.1.2&nbsp;&nbsp;</span>Checkpoints and Tasks Dataset</a></span></li></ul></li><li><span><a href=\"#Tables-Preprocessing\" data-toc-modified-id=\"Tables-Preprocessing-3.2\"><span class=\"toc-item-num\">3.2&nbsp;&nbsp;</span>Tables Preprocessing</a></span><ul class=\"toc-item\"><li><span><a href=\"#GPU-Dataset-Cleaning\" data-toc-modified-id=\"GPU-Dataset-Cleaning-3.2.1\"><span class=\"toc-item-num\">3.2.1&nbsp;&nbsp;</span>GPU Dataset Cleaning</a></span></li><li><span><a href=\"#Checkpoints-and-Tasks-Datasets-Merge\" data-toc-modified-id=\"Checkpoints-and-Tasks-Datasets-Merge-3.2.2\"><span class=\"toc-item-num\">3.2.2&nbsp;&nbsp;</span>Checkpoints and Tasks Datasets Merge</a></span></li><li><span><a href=\"#Merged-Checkpoints-and-Tasks-Dataset-Cleaning\" data-toc-modified-id=\"Merged-Checkpoints-and-Tasks-Dataset-Cleaning-3.2.3\"><span class=\"toc-item-num\">3.2.3&nbsp;&nbsp;</span>Merged Checkpoints and Tasks Dataset Cleaning</a></span></li></ul></li></ul></li><li><span><a href=\"#Summary\" data-toc-modified-id=\"Summary-4\"><span class=\"toc-item-num\">4&nbsp;&nbsp;</span>Summary</a></span></li></ul></div>"
   ]
  },
  {
   "cell_type": "markdown",
   "metadata": {},
   "source": [
    "<h1 class=\"tocSkip\"><center class=\"tocSkip\">Data Preparation Report</center></h1>\n",
    "<h1 class=\"tocSkip\"><center class=\"tocSkip\"><i class=\"tocSkip\">Ammar Hasan 150454388</i></center></h1>\n",
    "\n",
    "## Introduction \n",
    "\n",
    "This report summaries the Data Preparation stage of the CRISP-DM cycle for this project. In particular, this\n",
    "report covers the background of the data and how it was modified for further exploratory analysis. This report covers the methodology of data preparation not the detailed technical aspects - those are covered in the Sphinx documentation.\n",
    "\n",
    "## Data Background\n",
    "\n",
    "As stated in the Business Understanding Stage Report, the provided dataset consists of results from running three jobs of a terapixel render of the city of Newcastle upon Tyne in three levels (4, 8, 12) of terapixel image with 1024 GPU nodes over a cloud service. The data is recorded in three csv files:\n",
    "\n",
    "* gpu.csv: GPU status\n",
    "* application-checkpoints.csv: checkpoint events throughout render job\n",
    "* task-x-y.csv: Co-ordinates of image parts being rendered in task\n",
    "\n",
    "## Datasets Description \n",
    "\n",
    "### Fields\n",
    "\n",
    "#### GPU Dataset\n",
    "\n",
    "* timestamp (textual): Timestamp for tuple in 'YYYY-MM-DDTH:M:S.fZ' format\n",
    "* hostname (textual): Unique system ID assigned to the Machine GPU runs from by Microsoft Azure\n",
    "* gpuUUID (textual): Unique GPU ID assigned to the Machine GPU runs from by Microsoft Azure\n",
    "* powerDrawWatt (numerical): Power draw of system (Watts)\n",
    "* gpuTempC (numerical): The GPU temperature (Celsius) \n",
    "* gpuUtilPerc (numerical): GPU Utilisation % (0-100)\n",
    "* gpuMemUtilPerc (numerical): GPU memory usage % (0-100)\n",
    "\n",
    "#### Checkpoints and Tasks Dataset\n",
    "\n",
    "* timestamp (textual): Timestamp for tuple in 'YYYY-MM-DDTH:M:S.fZ' format\n",
    "* hostname (textual): Unique system ID assigned to the Machine GPU runs from by Microsoft Azure\n",
    "* eventName (textual): Name of current event occurring in the rendering process. Possible values:\n",
    "    - TotalRender: The task itself\n",
    "\t- Render: Image tile being rendered \n",
    "    - Saving Config: Configuration overhead\n",
    "\t- Tiling: Tile postprocessing\n",
    "\t- Uploading: output uploading to Azure Blob Storage\n",
    "* eventType (textual): (START or STOP)\n",
    "* x (numerical): X coordinate of tile being rendered \n",
    "* y (numerical): Y coordinate of tile being rendered \n",
    "* level (numerical): Visualisation level (zoom) within the terapixel map (4, 8, 12)\n",
    "\n",
    "\n",
    "### Tables Preprocessing \n",
    "\n",
    "Table processing was handled by src.data.make_dataset¶ script and tested by src.tests.test_make_dataset, both scripts are documented by the Sphinx documentation, hence this part of the report will avoid detailed technical explanations. \n",
    "\n",
    "#### GPU Dataset Cleaning \n",
    "\n",
    "To clean the GPU dataset the unneeded GPUSerial field is dropped (GPUs can be identified by gpuUUID). \n",
    "\n",
    "#### Checkpoints and Tasks Datasets Merge\n",
    "\n",
    "The Checkpoints and tasks datasets are joined in a left joined in checkpoints to tasks direction via the shared jobId and taskId fields.\n",
    "\n",
    "#### Merged Checkpoints and Tasks Dataset Cleaning\n",
    "\n",
    "The taskId and jobId fields are now not needed since the merge was already done and hence dropped since there is no need to identify the tasks and jobs with them in this analysis - the analysis will be concentrating on the events and types of tasks and jobs instead\n",
    "\n",
    "## Summary\n",
    "\n",
    "To summarise, the Data Preparation stage in this project forms the datasets for exploratory analysis using cleaning and merging to combine the raw data. These methods are carried in the src.data.make_dataset script and tested by src.tests.test_make_dataset script covered in the Sphinx documentation. "
   ]
  }
 ],
 "metadata": {
  "kernelspec": {
   "display_name": "Python 3",
   "language": "python",
   "name": "python3"
  },
  "language_info": {
   "codemirror_mode": {
    "name": "ipython",
    "version": 3
   },
   "file_extension": ".py",
   "mimetype": "text/x-python",
   "name": "python",
   "nbconvert_exporter": "python",
   "pygments_lexer": "ipython3",
   "version": "3.7.0"
  },
  "latex_envs": {
   "LaTeX_envs_menu_present": true,
   "autoclose": false,
   "autocomplete": true,
   "bibliofile": "biblio.bib",
   "cite_by": "apalike",
   "current_citInitial": 1,
   "eqLabelWithNumbers": true,
   "eqNumInitial": 1,
   "hotkeys": {
    "equation": "Ctrl-E",
    "itemize": "Ctrl-I"
   },
   "labels_anchors": false,
   "latex_user_defs": false,
   "report_style_numbering": false,
   "user_envs_cfg": false
  },
  "toc": {
   "base_numbering": 1,
   "nav_menu": {},
   "number_sections": true,
   "sideBar": true,
   "skip_h1_title": true,
   "title_cell": "Table of Contents",
   "title_sidebar": "Contents",
   "toc_cell": true,
   "toc_position": {
    "height": "calc(100% - 180px)",
    "left": "10px",
    "top": "150px",
    "width": "165px"
   },
   "toc_section_display": true,
   "toc_window_display": true
  }
 },
 "nbformat": 4,
 "nbformat_minor": 2
}
