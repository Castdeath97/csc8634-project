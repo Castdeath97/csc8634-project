{
 "cells": [
  {
   "cell_type": "markdown",
   "metadata": {
    "toc": true
   },
   "source": [
    "<h1>Table of Contents<span class=\"tocSkip\"></span></h1>\n",
    "<div class=\"toc\"><ul class=\"toc-item\"><li><span><a href=\"#Introduction\" data-toc-modified-id=\"Introduction-1\"><span class=\"toc-item-num\">1&nbsp;&nbsp;</span>Introduction</a></span></li><li><span><a href=\"#Data-Background\" data-toc-modified-id=\"Data-Background-2\"><span class=\"toc-item-num\">2&nbsp;&nbsp;</span>Data Background</a></span></li><li><span><a href=\"#Dataset-Description\" data-toc-modified-id=\"Dataset-Description-3\"><span class=\"toc-item-num\">3&nbsp;&nbsp;</span>Dataset Description</a></span></li><li><span><a href=\"#Summary\" data-toc-modified-id=\"Summary-4\"><span class=\"toc-item-num\">4&nbsp;&nbsp;</span>Summary</a></span></li></ul></div>"
   ]
  },
  {
   "cell_type": "markdown",
   "metadata": {},
   "source": [
    "<h1 class=\"tocSkip\"><center class=\"tocSkip\">Data Preparation Report</center></h1>\n",
    "<h1 class=\"tocSkip\"><center class=\"tocSkip\"><i class=\"tocSkip\">Ammar Hasan 150454388</i></center></h1>\n",
    "\n",
    "## Introduction \n",
    "\n",
    "This report summaries the Data Preparation stage of the CRISP-DM cycle for this project. In particular, this\n",
    "report covers the background of the data and how it was modified for further analysis (selection, cleaning,\n",
    "transforms, etc.).\n",
    "\n",
    "## Data Background\n",
    "\n",
    "As stated in the Business Understanding Stage Report, the provided dataset consists of results from running three jobs in three levels (4, 8, 12) of terapixel image with 1024 GPU nods. The data is recorded in three csv files:\n",
    "\n",
    "* gpu.csv: GPU status\n",
    "* application-checkpoints.csv: checkpoint events throughout render job\n",
    "* task-x-y.csv: Co-ordinates of image parts being rendered in task\n",
    "\n",
    "## Datasets Description \n",
    "\n",
    "### Fields\n",
    "\n",
    "#### GPU Dataset\n",
    "\n",
    "#### Checkpoints and Tasks Dataset\n",
    "\n",
    "### Tables Preprocessing \n",
    "\n",
    "#### GPU Dataset Cleaning \n",
    "\n",
    "#### Checkpoints and Tasks Datasets Merge\n",
    "\n",
    "#### Merged Checkpoints and Tasks Dataset Cleaning\n",
    "\n",
    "\n",
    "## Summary"
   ]
  }
 ],
 "metadata": {
  "kernelspec": {
   "display_name": "Python 3",
   "language": "python",
   "name": "python3"
  },
  "language_info": {
   "codemirror_mode": {
    "name": "ipython",
    "version": 3
   },
   "file_extension": ".py",
   "mimetype": "text/x-python",
   "name": "python",
   "nbconvert_exporter": "python",
   "pygments_lexer": "ipython3",
   "version": "3.7.0"
  },
  "latex_envs": {
   "LaTeX_envs_menu_present": true,
   "autoclose": false,
   "autocomplete": true,
   "bibliofile": "biblio.bib",
   "cite_by": "apalike",
   "current_citInitial": 1,
   "eqLabelWithNumbers": true,
   "eqNumInitial": 1,
   "hotkeys": {
    "equation": "Ctrl-E",
    "itemize": "Ctrl-I"
   },
   "labels_anchors": false,
   "latex_user_defs": false,
   "report_style_numbering": false,
   "user_envs_cfg": false
  },
  "toc": {
   "base_numbering": 1,
   "nav_menu": {},
   "number_sections": true,
   "sideBar": true,
   "skip_h1_title": true,
   "title_cell": "Table of Contents",
   "title_sidebar": "Contents",
   "toc_cell": true,
   "toc_position": {},
   "toc_section_display": true,
   "toc_window_display": true
  }
 },
 "nbformat": 4,
 "nbformat_minor": 2
}
